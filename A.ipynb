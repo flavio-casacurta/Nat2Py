{
 "cells": [
  {
   "cell_type": "code",
   "execution_count": 1,
   "metadata": {
    "collapsed": true
   },
   "outputs": [],
   "source": [
    "from Util.warehouse import COMMANDS_NATURAL, AD, MASKS, OPERATORS_REPLACE\n",
    "from Util.change import change"
   ]
  },
  {
   "cell_type": "code",
   "execution_count": 2,
   "metadata": {
    "collapsed": true
   },
   "outputs": [],
   "source": [
    "line = \"\"\"OR *PF-KEY >= 'PF15'\"\"\""
   ]
  },
  {
   "cell_type": "code",
   "execution_count": 3,
   "metadata": {
    "collapsed": false
   },
   "outputs": [
    {
     "data": {
      "text/plain": [
       "\"OR *PF-KEY GE 'PF15'\""
      ]
     },
     "execution_count": 3,
     "metadata": {},
     "output_type": "execute_result"
    }
   ],
   "source": [
    "line = change(OPERATORS_REPLACE, line)\n",
    "line"
   ]
  },
  {
   "cell_type": "code",
   "execution_count": 44,
   "metadata": {
    "collapsed": false
   },
   "outputs": [
    {
     "data": {
      "text/plain": [
       "{'#ATR1': ['@', '@', '@', '@', '@']}"
      ]
     },
     "execution_count": 44,
     "metadata": {},
     "output_type": "execute_result"
    }
   ],
   "source": [
    "lda ={\"#ATR1\": [None, None, None, None, None]}\n",
    "for n in xrange(5):\n",
    "    lda[\"#ATR1\"][n] = '@'\n",
    "lda"
   ]
  },
  {
   "cell_type": "code",
   "execution_count": 48,
   "metadata": {
    "collapsed": false
   },
   "outputs": [
    {
     "data": {
      "text/plain": [
       "\"['[None, None]', '[None, None]', '[None, None]']\""
      ]
     },
     "execution_count": 48,
     "metadata": {},
     "output_type": "execute_result"
    }
   ],
   "source": [
    "init = None\n",
    "occurs = 2\n",
    "two_dimension = 3\n",
    "vinit = '['+\"\".join(\"{}\".format((init,) * int(occurs)))[1:-1]+']'\n",
    "'['+\"\".join(\"{}\".format((vinit,) * int(two_dimension)))[1:-1]+']'\n",
    "\n"
   ]
  }
 ],
 "metadata": {
  "kernelspec": {
   "display_name": "Python 2",
   "language": "python",
   "name": "python2"
  },
  "language_info": {
   "codemirror_mode": {
    "name": "ipython",
    "version": 2
   },
   "file_extension": ".py",
   "mimetype": "text/x-python",
   "name": "python",
   "nbconvert_exporter": "python",
   "pygments_lexer": "ipython2",
   "version": "2.7.12"
  }
 },
 "nbformat": 4,
 "nbformat_minor": 1
}
