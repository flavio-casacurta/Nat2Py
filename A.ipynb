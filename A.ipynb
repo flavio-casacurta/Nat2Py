{
 "cells": [
  {
   "cell_type": "code",
   "execution_count": null,
   "metadata": {
    "collapsed": true
   },
   "outputs": [],
   "source": [
    "from Util.warehouse import COMMANDS_NATURAL, AD, MASKS, OPERATORS_REPLACE, INDENT\n",
    "from Util.HOFs import *"
   ]
  },
  {
   "cell_type": "code",
   "execution_count": null,
   "metadata": {
    "collapsed": true
   },
   "outputs": [],
   "source": [
    "line = \"\"\"else:\"\"\""
   ]
  },
  {
   "cell_type": "code",
   "execution_count": null,
   "metadata": {
    "collapsed": false
   },
   "outputs": [],
   "source": [
    "firstWord = word(line, 1)\n",
    "firstWord in INDENT"
   ]
  },
  {
   "cell_type": "code",
   "execution_count": null,
   "metadata": {
    "collapsed": false
   },
   "outputs": [],
   "source": [
    "init = INDENT.get(firstWord, {}).get('init', None)"
   ]
  },
  {
   "cell_type": "code",
   "execution_count": null,
   "metadata": {
    "collapsed": false,
    "scrolled": true
   },
   "outputs": [],
   "source": [
    "isinstance(INDENT.get(firstWord, {}).get('init', None), int)"
   ]
  },
  {
   "cell_type": "code",
   "execution_count": null,
   "metadata": {
    "collapsed": false
   },
   "outputs": [],
   "source": [
    "INDENT.get(firstWord, {}).get('ad', None)"
   ]
  },
  {
   "cell_type": "code",
   "execution_count": null,
   "metadata": {
    "collapsed": false
   },
   "outputs": [],
   "source": [
    "lda = {\"#IND1\": 0}"
   ]
  },
  {
   "cell_type": "code",
   "execution_count": null,
   "metadata": {
    "collapsed": false
   },
   "outputs": [],
   "source": [
    "for lda['#IND1'] in xrange(0, 5):\n",
    "    pass\n",
    "lda"
   ]
  },
  {
   "cell_type": "code",
   "execution_count": 25,
   "metadata": {
    "collapsed": false
   },
   "outputs": [
    {
     "name": "stdout",
     "output_type": "stream",
     "text": [
      "[[Decimal(0), Decimal(0), Decimal(0)], [Decimal(0), Decimal(0), Decimal(0)]]\n"
     ]
    }
   ],
   "source": [
    "from decimal import *\n",
    "init = Decimal(0)\n",
    "occurs = \"2\"\n",
    "two_dimension = \"3\"\n",
    "#two_dimension = None\n",
    "vinit = init\n",
    "if occurs:\n",
    "    if two_dimension:\n",
    "        vinit = \"[\" + \"{}\".format((vinit,) * int(two_dimension))[1:-1] + \"]\"\n",
    "    vinit = \"[\" + \"{}\".format((vinit,) * int(occurs))[1:-1].replace('\"', '').replace(\"'\", '') + \"]\"\n",
    "print vinit"
   ]
  },
  {
   "cell_type": "code",
   "execution_count": 47,
   "metadata": {
    "collapsed": false
   },
   "outputs": [
    {
     "name": "stdout",
     "output_type": "stream",
     "text": [
      "4440.8920985\n",
      "4.4408920985e-16\n"
     ]
    }
   ],
   "source": [
    "print (1.1+2.2-3.3)*10000000000000000000\n",
    "print (1.1+2.2-3.3)"
   ]
  },
  {
   "cell_type": "code",
   "execution_count": 40,
   "metadata": {
    "collapsed": false
   },
   "outputs": [
    {
     "name": "stdout",
     "output_type": "stream",
     "text": [
      "0.0\n"
     ]
    }
   ],
   "source": [
    "from decimal import Decimal as D\n",
    "print  (D('1.1')+D('2.2')-D('3.3'))*10000000000000000000"
   ]
  },
  {
   "cell_type": "code",
   "execution_count": 51,
   "metadata": {
    "collapsed": false
   },
   "outputs": [
    {
     "name": "stdout",
     "output_type": "stream",
     "text": [
      "1.1\n",
      "1.1\n",
      "1.1\n"
     ]
    }
   ],
   "source": [
    "f = 1.1\n",
    "d = D(str(f))\n",
    "dd = D('1.1')\n",
    "print  f\n",
    "print d\n",
    "print dd"
   ]
  },
  {
   "cell_type": "code",
   "execution_count": null,
   "metadata": {
    "collapsed": false
   },
   "outputs": [],
   "source": [
    "from operator import truth\n",
    "occtw = ('5','0')\n",
    "occ,tw = occtw\n",
    "truth(int(tw))"
   ]
  },
  {
   "cell_type": "code",
   "execution_count": null,
   "metadata": {
    "collapsed": false
   },
   "outputs": [],
   "source": [
    "zero = None\n",
    "isinstance(zero, int)"
   ]
  },
  {
   "cell_type": "code",
   "execution_count": null,
   "metadata": {
    "collapsed": false
   },
   "outputs": [],
   "source": [
    "line = 'PERFORM FORMATAR-TELA'\n",
    "\"{}()\".format(line.split()[-1].replace('-', '_'))"
   ]
  }
 ],
 "metadata": {
  "kernelspec": {
   "display_name": "Python 2",
   "language": "python",
   "name": "python2"
  },
  "language_info": {
   "codemirror_mode": {
    "name": "ipython",
    "version": 2
   },
   "file_extension": ".py",
   "mimetype": "text/x-python",
   "name": "python",
   "nbconvert_exporter": "python",
   "pygments_lexer": "ipython2",
   "version": "2.7.12"
  }
 },
 "nbformat": 4,
 "nbformat_minor": 1
}
