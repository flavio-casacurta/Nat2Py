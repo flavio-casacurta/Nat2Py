{
 "cells": [
  {
   "cell_type": "code",
   "execution_count": 2,
   "metadata": {
    "collapsed": false
   },
   "outputs": [
    {
     "name": "stdout",
     "output_type": "stream",
     "text": [
      "Before Adabasx call\n",
      "cmd=OP op1/2= /  dbid=12 fnr=11 rsp=0\n",
      "cid='\\x00\\x00\\x00\\x00' isn=0 isl=0 isq=0\n",
      "ad1='' ad3='\\x00\\x00\\x00\\x00\\x00\\x00\\x00\\x00' \n",
      "ad4='\\x00\\x00\\x00\\x00\\x00\\x00\\x00\\x00', ad5='\\x00\\x00\\x00\\x00\\x00\\x00\\x00\\x00', cmdt=0\n",
      "Control Block Extended\n",
      "CB 0000 00004632 C0004F50 00000000 00000000 ..F2..OP........ .......&........\n",
      "CB 0010 0C000000 0B000000 00000000 00000000 ................ ................\n",
      "CB 0020 00000000 00000000 00000000 00000000 ................ ................\n",
      "CB 0030 20200000 00000000 20202020 20202020   ......         ................\n",
      "CB 0040 00000000 00000000 00000000 00000000 ................ ................\n",
      "CB      7 identical line(s) suppressed\n",
      "\n",
      "FB ABD<adabas.Cbuf object at 0x00000000051379C8>\n",
      "FD1 0000 30004732 46004900 00000000 00000000 0.G2F.I......... ................\n",
      "FD1 0010 40000000 00000000 40000000 00000000 @.......@.......  ....... .......\n",
      "FD1 0020 00000000 00000000 00000000 40994803 ............@.H. ............ r..\n",
      "\n",
      "Format Buffer 1 - 64/64/0 - 03489940\n",
      "FB1 0000 00000000 00000000 00000000 00000000 ................ ................\n",
      "FB1      3 identical line(s) suppressed\n",
      "\n",
      "RB1 ABD<adabas.Cbuf object at 0x0000000005137AC8>\n",
      "RD1 0000 30004732 52004900 00000000 00000000 0.G2R.I......... ................\n",
      "RD1 0010 40000000 00000000 04000000 00000000 @...............  ...............\n",
      "RD1 0020 00000000 00000000 00000000 20964803 ............ .H. .............o..\n",
      "\n",
      "Record Buffer 1 - 64/4/0 - 03489620\n",
      "RB1 0000 5550442E 00000000 00000000 00000000 UPD............. .&..............\n",
      "RB1 0010 00000000 00000000 00000000 00000000 ................ ................\n",
      "RB1      2 identical line(s) suppressed\n",
      "\n"
     ]
    },
    {
     "ename": "WindowsError",
     "evalue": "exception: access violation reading 0xFFFFFFFFFFFFFFFF",
     "output_type": "error",
     "traceback": [
      "\u001b[0;31m---------------------------------------------------------------------------\u001b[0m",
      "\u001b[0;31mWindowsError\u001b[0m                              Traceback (most recent call last)",
      "\u001b[0;32mC:\\Python\\MyTools\\Nat2PyBath\\Adabas\\demo\\n1_acbx.py\u001b[0m in \u001b[0;36m<module>\u001b[0;34m()\u001b[0m\n\u001b[1;32m     38\u001b[0m     \u001b[0mc1\u001b[0m\u001b[1;33m.\u001b[0m\u001b[0mcb\u001b[0m\u001b[1;33m.\u001b[0m\u001b[0mfnr\u001b[0m\u001b[1;33m=\u001b[0m\u001b[0mFNR\u001b[0m           \u001b[1;31m# set control block fields\u001b[0m\u001b[1;33m\u001b[0m\u001b[0m\n\u001b[1;32m     39\u001b[0m \u001b[1;33m\u001b[0m\u001b[0m\n\u001b[0;32m---> 40\u001b[0;31m     \u001b[0mc1\u001b[0m\u001b[1;33m.\u001b[0m\u001b[0mopen\u001b[0m\u001b[1;33m(\u001b[0m\u001b[0mmode\u001b[0m\u001b[1;33m=\u001b[0m\u001b[0mUPD\u001b[0m\u001b[1;33m)\u001b[0m       \u001b[1;31m# issue OP\u001b[0m\u001b[1;33m\u001b[0m\u001b[0m\n\u001b[0m\u001b[1;32m     41\u001b[0m \u001b[1;33m\u001b[0m\u001b[0m\n\u001b[1;32m     42\u001b[0m     \u001b[0mc1\u001b[0m\u001b[1;33m.\u001b[0m\u001b[0mcb\u001b[0m\u001b[1;33m.\u001b[0m\u001b[0mcid\u001b[0m\u001b[1;33m=\u001b[0m\u001b[1;34m'abcd'\u001b[0m\u001b[1;33m\u001b[0m\u001b[0m\n",
      "\u001b[0;32mC:\\Python27\\Lib\\site-packages\\adabas\\api.pyc\u001b[0m in \u001b[0;36mopen\u001b[0;34m(self, mode, tnaa, tt, etid, arc, acode, wcode, wcharset)\u001b[0m\n\u001b[1;32m   1382\u001b[0m         \u001b[0mself\u001b[0m\u001b[1;33m.\u001b[0m\u001b[0mrabd\u001b[0m\u001b[1;33m.\u001b[0m\u001b[0msend\u001b[0m\u001b[1;33m=\u001b[0m\u001b[0mlen\u001b[0m\u001b[1;33m(\u001b[0m\u001b[0m_rb\u001b[0m\u001b[1;33m)\u001b[0m\u001b[1;33m+\u001b[0m\u001b[1;36m1\u001b[0m    \u001b[1;31m# set send size\u001b[0m\u001b[1;33m\u001b[0m\u001b[0m\n\u001b[1;32m   1383\u001b[0m \u001b[1;33m\u001b[0m\u001b[0m\n\u001b[0;32m-> 1384\u001b[0;31m         \u001b[0mself\u001b[0m\u001b[1;33m.\u001b[0m\u001b[0mcall\u001b[0m\u001b[1;33m(\u001b[0m\u001b[1;33m)\u001b[0m \u001b[1;31m# Adabas call\u001b[0m\u001b[1;33m\u001b[0m\u001b[0m\n\u001b[0m\u001b[1;32m   1385\u001b[0m \u001b[1;33m\u001b[0m\u001b[0m\n\u001b[1;32m   1386\u001b[0m         \u001b[0mself\u001b[0m\u001b[1;33m.\u001b[0m\u001b[0mversion\u001b[0m \u001b[1;33m=\u001b[0m \u001b[0mself\u001b[0m\u001b[1;33m.\u001b[0m\u001b[0mcb\u001b[0m\u001b[1;33m.\u001b[0m\u001b[0misq\u001b[0m\u001b[1;33m>>\u001b[0m\u001b[1;36m24\u001b[0m\u001b[1;33m\u001b[0m\u001b[0m\n",
      "\u001b[0;32mC:\\Python27\\Lib\\site-packages\\adabas\\api.pyc\u001b[0m in \u001b[0;36mcall\u001b[0;34m(self)\u001b[0m\n\u001b[1;32m   1251\u001b[0m \u001b[1;33m\u001b[0m\u001b[0m\n\u001b[1;32m   1252\u001b[0m         \u001b[1;31m# issue call\u001b[0m\u001b[1;33m\u001b[0m\u001b[1;33m\u001b[0m\u001b[0m\n\u001b[0;32m-> 1253\u001b[0;31m         \u001b[0mi\u001b[0m \u001b[1;33m=\u001b[0m \u001b[0madalink\u001b[0m\u001b[1;33m.\u001b[0m\u001b[0madabasx\u001b[0m\u001b[1;33m(\u001b[0m\u001b[0mself\u001b[0m\u001b[1;33m.\u001b[0m\u001b[0macbx\u001b[0m\u001b[1;33m,\u001b[0m \u001b[0mlen\u001b[0m\u001b[1;33m(\u001b[0m\u001b[0mself\u001b[0m\u001b[1;33m.\u001b[0m\u001b[0mabda\u001b[0m\u001b[1;33m)\u001b[0m\u001b[1;33m,\u001b[0m \u001b[0mself\u001b[0m\u001b[1;33m.\u001b[0m\u001b[0mabda\u001b[0m\u001b[1;33m)\u001b[0m\u001b[1;33m\u001b[0m\u001b[0m\n\u001b[0m\u001b[1;32m   1254\u001b[0m \u001b[1;33m\u001b[0m\u001b[0m\n\u001b[1;32m   1255\u001b[0m         \u001b[0mtotalCalls\u001b[0m\u001b[1;33m+=\u001b[0m\u001b[1;36m1\u001b[0m\u001b[1;33m\u001b[0m\u001b[0m\n",
      "\u001b[0;31mWindowsError\u001b[0m: exception: access violation reading 0xFFFFFFFFFFFFFFFF"
     ]
    }
   ],
   "source": [
    "run n1_acbx\n"
   ]
  },
  {
   "cell_type": "code",
   "execution_count": null,
   "metadata": {
    "collapsed": true
   },
   "outputs": [],
   "source": []
  }
 ],
 "metadata": {
  "kernelspec": {
   "display_name": "Python 2",
   "language": "python",
   "name": "python2"
  },
  "language_info": {
   "codemirror_mode": {
    "name": "ipython",
    "version": 2
   },
   "file_extension": ".py",
   "mimetype": "text/x-python",
   "name": "python",
   "nbconvert_exporter": "python",
   "pygments_lexer": "ipython2",
   "version": "2.7.12"
  }
 },
 "nbformat": 4,
 "nbformat_minor": 1
}
