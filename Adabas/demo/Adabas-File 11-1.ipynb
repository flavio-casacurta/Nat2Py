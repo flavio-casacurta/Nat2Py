{
 "cells": [
  {
   "cell_type": "code",
   "execution_count": 2,
   "metadata": {
    "collapsed": false
   },
   "outputs": [],
   "source": [
    "from adabas.api import *\n",
    "from adabas.datamap import *\n",
    "a=Adabas(rbl=256,fbl=64,sbl=32,vbl=128,ibl=0)\n",
    "a.cb.dbid=12              \n",
    "a.cb.fnr=11              "
   ]
  },
  {
   "cell_type": "code",
   "execution_count": 23,
   "metadata": {
    "collapsed": false
   },
   "outputs": [
    {
     "name": "stdout",
     "output_type": "stream",
     "text": [
      "00000802 - occurs 5 times\n",
      "00000802 - USD - USD - USD - USD - USD \n",
      "00000803 - occurs 5 times\n",
      "00000803 - USD - USD - USD - USD - USD \n",
      "00000804 - occurs 5 times\n",
      "00000804 - USD - USD - USD - USD - USD \n",
      "00000805 - occurs 5 times\n",
      "00000805 - USD - USD - USD - USD - USD \n",
      "00000806 - occurs 5 times\n",
      "00000806 - USD - USD - USD - USD - USD \n",
      "00000807 - occurs 5 times\n",
      "00000807 - USD - USD - USD - USD - USD \n",
      "00000808 - occurs 5 times\n",
      "00000808 - USD - USD - USD - USD - USD \n",
      "00000809 - occurs 5 times\n",
      "00000809 - USD - USD - USD - USD - USD \n",
      "00000810 - occurs 5 times\n",
      "00000810 - USD - USD - USD - USD - USD \n",
      "00000811 - occurs 5 times\n",
      "00000811 - USD - USD - USD - USD - USD \n"
     ]
    }
   ],
   "source": [
    "a.cb.isn=801\n",
    "try:\n",
    "    for c in xrange(10):\n",
    "        a.fb.value='AQC,002,B.'\n",
    "        a.readByIsn(getnext=1)\n",
    "        if a.rb.value:\n",
    "            aqc=int(a.rb.value.encode('hex') )\n",
    "            a.fb.value='ARL1,002,B.'\n",
    "            a.get(isn=a.cb.isn)\n",
    "            aql=int(a.rb.value.encode('hex') )\n",
    "            exec (\"row = Datamap('Rows', {})\".format(\"String('ar{}', {l}),\" * aqc).format(*range(1,aqc+1), l=aql))\n",
    "            print '{:08} - occurs {} times'.format(a.cb.isn, aqc)\n",
    "            row.buffer = a.rb\n",
    "            a.fb.value='AR1-{}.'.format(int(aqc)) \n",
    "            a.get(isn=a.cb.isn)\n",
    "            print eval(\"'{:08} {}'.format({})\".format(a.cb.isn, '- {} ' * aqc, ('row.ar{}, '* aqc).format(*range(1,aqc+1))))\n",
    "            \n",
    "except DataEnd:\n",
    "    print 'acabou'"
   ]
  },
  {
   "cell_type": "code",
   "execution_count": 10,
   "metadata": {
    "collapsed": false
   },
   "outputs": [
    {
     "data": {
      "text/plain": [
       "'03'"
      ]
     },
     "execution_count": 10,
     "metadata": {},
     "output_type": "execute_result"
    }
   ],
   "source": [
    "a.cb.isn=201\n",
    "a.fb.value='ARL1,2,B.'\n",
    "a.get(isn=201)\n",
    "a.rb.value.encode('hex')"
   ]
  },
  {
   "cell_type": "code",
   "execution_count": null,
   "metadata": {
    "collapsed": false
   },
   "outputs": [],
   "source": []
  },
  {
   "cell_type": "code",
   "execution_count": null,
   "metadata": {
    "collapsed": false
   },
   "outputs": [],
   "source": [
    "print '{} - {}'.format(a.rb.value[:8], \n",
    "                           date.fromordinal(int(a.rb.value[10:])-364))"
   ]
  },
  {
   "cell_type": "code",
   "execution_count": null,
   "metadata": {
    "collapsed": false
   },
   "outputs": [],
   "source": [
    "data =date(1956,06,24)\n",
    "toord = data.toordinal()\n",
    "toord"
   ]
  },
  {
   "cell_type": "code",
   "execution_count": null,
   "metadata": {
    "collapsed": false
   },
   "outputs": [],
   "source": [
    "datan =date(1955,06,26)\n",
    "toordn = datan.toordinal()\n",
    "toordn"
   ]
  },
  {
   "cell_type": "code",
   "execution_count": null,
   "metadata": {
    "collapsed": false
   },
   "outputs": [],
   "source": [
    "toord - toordn"
   ]
  },
  {
   "cell_type": "code",
   "execution_count": null,
   "metadata": {
    "collapsed": false
   },
   "outputs": [],
   "source": [
    "datetime.datetime.toordinal(datetime.datetime.today())"
   ]
  },
  {
   "cell_type": "code",
   "execution_count": null,
   "metadata": {
    "collapsed": false
   },
   "outputs": [],
   "source": [
    "datetime.datetime.date(736487)"
   ]
  }
 ],
 "metadata": {
  "kernelspec": {
   "display_name": "Python 2",
   "language": "python",
   "name": "python2"
  },
  "language_info": {
   "codemirror_mode": {
    "name": "ipython",
    "version": 2
   },
   "file_extension": ".py",
   "mimetype": "text/x-python",
   "name": "python",
   "nbconvert_exporter": "python",
   "pygments_lexer": "ipython2",
   "version": "2.7.12"
  }
 },
 "nbformat": 4,
 "nbformat_minor": 1
}
