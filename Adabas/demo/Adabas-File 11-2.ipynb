{
 "cells": [
  {
   "cell_type": "code",
   "execution_count": 1,
   "metadata": {
    "collapsed": false
   },
   "outputs": [],
   "source": [
    "from adabas.api import *\n",
    "from adabas.datamap import *\n",
    "a=Adabas(rbl=256,fbl=64,sbl=32,vbl=128,ibl=0)\n",
    "a.cb.dbid=12              \n",
    "a.cb.fnr=11 \n",
    "dicper={}"
   ]
  },
  {
   "cell_type": "code",
   "execution_count": 6,
   "metadata": {
    "collapsed": false
   },
   "outputs": [
    {
     "name": "stdout",
     "output_type": "stream",
     "text": [
      "00000201 - occurs 2 times\n",
      "dicper[\"address_line\"] = [\"HEIDELBERGERSTR. 144\", \"6100 DARMSTADT\", ]\n"
     ]
    }
   ],
   "source": [
    "#campo elementar de um grupo periódico\n",
    "a.cb.isn=201\n",
    "gsn = 'AQ'        # grupo short name     - FDT\n",
    "esn = 'AR'        # elementar short name - FDT\n",
    "lgn = 'curr_code' # elementar long-name  - DDM\n",
    "lsn = 3          # length elementar     - DDM\n",
    "upk = ''         # unpack para colunas packeadas\n",
    "scl = ''         # scale\n",
    "Int = ''\n",
    "Str = '\"'\n",
    "if scl or Int:\n",
    "    Int = 'int('\n",
    "    Str = ''\n",
    "    if scl:\n",
    "        scl = ') * .{0:>0{1}}'.format('1', scl)\n",
    "    else:\n",
    "        scl = ')'\n",
    "\n",
    "a.fb.value='{}C,002,B.'.format(gsn)\n",
    "a.get(isn=a.cb.isn)\n",
    "if a.rb.value:\n",
    "    occ=int(a.rb.value.encode('hex') ) # count occurs group\n",
    "    exec (\"row = Datamap('Rows', {})\".format(\"String('{lg}{}', {l}),\" * occ).format(lg=lgn, *range(1,occ+1), l=lsn))\n",
    "    print '{:08} - occurs {} times'.format(a.cb.isn, occ)\n",
    "    row.buffer = a.rb\n",
    "    a.fb.value='{}1-{},{}{}.'.format(esn, occ, lsn, upk) \n",
    "    a.get(isn=a.cb.isn)\n",
    "    ret = eval(\"\"\"'dicper[\"{}\"] = [{}]'.format({})\"\"\".format( lgn, (Str+'{}'+Str+', ') * occ, ('{i}row.{ln}{}{sc}, '* occ).format(i=Int,ln=lgn,sc=scl,*range(1,occ+1))))\n",
    "    #print eval(\"\"\"'dicper[\"{}\"]= [{}]'.format({})\"\"\".format( lgn, '{}, ' * occ, ('row.{ln}{}, '* occ).format(ln=lgn,*range(1,occ+1))))\n",
    "    print ret"
   ]
  },
  {
   "cell_type": "code",
   "execution_count": 4,
   "metadata": {
    "collapsed": false
   },
   "outputs": [
    {
     "name": "stdout",
     "output_type": "stream",
     "text": [
      "00000201 - occurs 3 times\n",
      "dicper[\"salary\"] = [246.15, 235.89, 215.38, ]\n"
     ]
    }
   ],
   "source": [
    "#campo elementar de um grupo periódico\n",
    "a.cb.isn=201\n",
    "gsn = 'AQ'        # grupo short name     - FDT\n",
    "esn = 'AS'        # elementar short name - FDT\n",
    "lgn = 'salary'    # elementar long-name  - DDM\n",
    "lsn = 9           # length elementar     - DDM\n",
    "upk = ',U'        # unpack para colunas packeadas\n",
    "scl = 2           # scale\n",
    "Int = True\n",
    "Str = '\"'\n",
    "if scl or Int:\n",
    "    Int = 'int('\n",
    "    Str = ''\n",
    "    if scl:\n",
    "        scl = ') * .{0:>0{1}}'.format('1', scl)\n",
    "    else:\n",
    "        scl = ')'\n",
    "        \n",
    "a.fb.value='{}C,002,B.'.format(gsn)\n",
    "a.get(isn=a.cb.isn)\n",
    "if a.rb.value:\n",
    "    occ=int(a.rb.value.encode('hex') ) # count occurs group\n",
    "    exec (\"row = Datamap('Rows', {})\".format(\"String('{lg}{}', {l}),\" * occ).format(lg=lgn, *range(1,occ+1), l=lsn))\n",
    "    print '{:08} - occurs {} times'.format(a.cb.isn, occ)\n",
    "    row.buffer = a.rb\n",
    "    a.fb.value='{}1-{},{}{}.'.format(esn, occ, lsn, upk) \n",
    "    a.get(isn=a.cb.isn)\n",
    "    ret = eval(\"\"\"'dicper[\"{}\"] = [{}]'.format({})\"\"\".format( lgn, (Str+'{}'+Str+', ') * occ, ('{i}row.{ln}{}{sc}, '* occ).format(i=Int,ln=lgn,sc=scl,*range(1,occ+1))))\n",
    "    #ret = eval(\"\"\"'dicper[\"{}\"]= [{}]'.format({})\"\"\".format( lgn, '{}, ' * occ, ('{i}row.{ln}{}{sc}, '* occ).format(i=Int,ln=lgn,sc=scl,*range(1,occ+1))))\n",
    "    print ret"
   ]
  },
  {
   "cell_type": "code",
   "execution_count": 34,
   "metadata": {
    "collapsed": false
   },
   "outputs": [
    {
     "name": "stdout",
     "output_type": "stream",
     "text": [
      "00000283 - occurs 3 times\n",
      "dicper[\"bonus\"] = [1846, 2000, 500, ]\n",
      "00000283 - occurs 1 times\n",
      "dicper[\"bonus\"] = [1743, ]\n"
     ]
    }
   ],
   "source": [
    "#campo multiplo de um grupo periódico\n",
    "a.cb.isn=283\n",
    "gsn = 'AQ'        # grupo short name     - FDT\n",
    "esn = 'AT'        # elementar short name - FDT\n",
    "lgn = 'bonus'     # elementar long-name  - DDM\n",
    "lsn = 9           # length elementar     - DDM\n",
    "upk = ',U'        # unpack para colunas packeadas\n",
    "scl = 0           # scale\n",
    "Int = True\n",
    "Str = '\"'\n",
    "if scl or Int:\n",
    "    Int = 'int('\n",
    "    Str = ''\n",
    "    if scl:\n",
    "        scl = ') * .{0:>0{1}}'.format('1', scl)\n",
    "    else:\n",
    "        scl = ')'\n",
    "        \n",
    "a.fb.value='{}C,002,B.'.format(gsn)\n",
    "a.get(isn=a.cb.isn)\n",
    "if a.rb.value:\n",
    "    gocc=int(a.rb.value.encode('hex') ) # count occurs group\n",
    "    for o in range(1,gocc+1):\n",
    "        a.fb.value='{}{}C,002,B.'.format(esn,o)\n",
    "        a.get(isn=a.cb.isn)\n",
    "        if a.rb.value:\n",
    "            occ=int(a.rb.value.encode('hex') ) # count occurs elementar\n",
    "            exec (\"row = Datamap('Rows', {})\".format(\"String('{lg}{}', {l}),\" * occ).format(lg=lgn, *range(1,occ+1), l=lsn))\n",
    "            print '{:08} - occurs {} times'.format(a.cb.isn, occ)\n",
    "            row.buffer = a.rb\n",
    "            a.fb.value='{}{}(1-{}),{}{}.'.format(esn, o, occ, lsn, upk)\n",
    "            a.get(isn=a.cb.isn)\n",
    "            ret = eval(\"\"\"'dicper[\"{}\"] = [{}]'.format({})\"\"\".format(lgn, (Str+'{}'+Str+', ') * occ, ('{i}row.{ln}{}{sc}, '* occ).format(i=Int,ln=lgn,sc=scl,*range(1,occ+1))))\n",
    "            print ret\n",
    "        else:\n",
    "            break"
   ]
  },
  {
   "cell_type": "code",
   "execution_count": 38,
   "metadata": {
    "collapsed": false
   },
   "outputs": [
    {
     "name": "stdout",
     "output_type": "stream",
     "text": [
      "00000283 - occurs 2 times\n",
      "dicper[\"address_line\"]= [\"SCHLOEMERWEG 55\", \"6236 ESCHBORN\", ]\n"
     ]
    }
   ],
   "source": [
    "#campo elementar múltiplo\n",
    "a.cb.isn=283\n",
    "gsn = 'AI'        # elementar short name - FDT\n",
    "esn = 'AI'        # elementar short name - FDT\n",
    "lgn = 'address_line'    # elementar long-name  - DDM\n",
    "lsn = 20           # length elementar     - DDM\n",
    "upk = ''        # unpack para colunas packeadas\n",
    "\n",
    "a.fb.value='{}C,002,B.'.format(gsn)\n",
    "a.get(isn=a.cb.isn)\n",
    "if a.rb.value:\n",
    "    occ=int(a.rb.value.encode('hex') ) # count occurs group\n",
    "    exec (\"row = Datamap('Rows', {})\".format(\"String('{lg}{}', {l}),\" * occ).format(lg=lgn, *range(1,occ+1), l=lsn))\n",
    "    print '{:08} - occurs {} times'.format(a.cb.isn, occ)\n",
    "    row.buffer = a.rb\n",
    "    a.fb.value='{}1-{},{}{}.'.format(esn, occ, lsn, upk) \n",
    "    a.get(isn=a.cb.isn)\n",
    "    print eval(\"\"\"'dicper[\"{}\"]= [{}]'.format({})\"\"\".format( lgn, '\"{}\", ' * occ, ('row.{ln}{}, '* occ).format(ln=lgn,*range(1,occ+1))))"
   ]
  },
  {
   "cell_type": "code",
   "execution_count": 28,
   "metadata": {
    "collapsed": false
   },
   "outputs": [
    {
     "data": {
      "text/plain": [
       "'02'"
      ]
     },
     "execution_count": 28,
     "metadata": {},
     "output_type": "execute_result"
    }
   ],
   "source": [
    "a.cb.isn=283\n",
    "a.fb.value='AQC,2,B.'\n",
    "a.get(isn=a.cb.isn)\n",
    "a.rb.value.encode('hex')"
   ]
  },
  {
   "cell_type": "code",
   "execution_count": 29,
   "metadata": {
    "collapsed": false
   },
   "outputs": [
    {
     "data": {
      "text/plain": [
       "'03'"
      ]
     },
     "execution_count": 29,
     "metadata": {},
     "output_type": "execute_result"
    }
   ],
   "source": [
    "a.fb.value='AT1C,2,B.'\n",
    "a.get(isn=a.cb.isn)\n",
    "occ = a.rb.value.encode('hex')\n",
    "occ"
   ]
  },
  {
   "cell_type": "code",
   "execution_count": 30,
   "metadata": {
    "collapsed": false
   },
   "outputs": [
    {
     "data": {
      "text/plain": [
       "'000001846000002000000000500000000000000000000'"
      ]
     },
     "execution_count": 30,
     "metadata": {},
     "output_type": "execute_result"
    }
   ],
   "source": [
    "a.fb.value='AT1(1-{}),9,U.'.format(occ)\n",
    "a.get(isn=a.cb.isn)\n",
    "a.rb.value"
   ]
  },
  {
   "cell_type": "code",
   "execution_count": null,
   "metadata": {
    "collapsed": false
   },
   "outputs": [],
   "source": [
    "a.cb.isn=200\n",
    "try:\n",
    "    for c in xrange(10):\n",
    "        a.fb.value='AQC,002,B.'\n",
    "        a.readByIsn(getnext=1)\n",
    "        if a.rb.value:\n",
    "            aqc=int(a.rb.value.encode('hex') )\n",
    "            aql=9\n",
    "            aqu=',9,U'\n",
    "            exec (\"row = Datamap('Rows', {})\".format(\"String('as{}', {l}),\" * aqc).format(*range(1,aqc+1), l=aql))\n",
    "            print '{:08} - occurs {} times'.format(a.cb.isn, aqc)\n",
    "            row.buffer = a.rb\n",
    "            a.fb.value='AS1-{}{}.'.format(int(aqc), aqu) \n",
    "            a.get(isn=a.cb.isn)\n",
    "            print eval(\"'{:08} {}'.format({})\".format(a.cb.isn, '- {} ' * aqc, ('row.as{}, '* aqc).format(*range(1,aqc+1))))\n",
    "            \n",
    "except DataEnd:\n",
    "    print 'acabou'"
   ]
  }
 ],
 "metadata": {
  "kernelspec": {
   "display_name": "Python 2",
   "language": "python",
   "name": "python2"
  },
  "language_info": {
   "codemirror_mode": {
    "name": "ipython",
    "version": 2
   },
   "file_extension": ".py",
   "mimetype": "text/x-python",
   "name": "python",
   "nbconvert_exporter": "python",
   "pygments_lexer": "ipython2",
   "version": "2.7.12"
  }
 },
 "nbformat": 4,
 "nbformat_minor": 1
}
