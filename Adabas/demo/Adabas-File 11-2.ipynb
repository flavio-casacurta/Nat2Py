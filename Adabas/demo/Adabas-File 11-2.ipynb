{
 "cells": [
  {
   "cell_type": "code",
   "execution_count": null,
   "metadata": {
    "collapsed": false
   },
   "outputs": [],
   "source": [
    "from adabas.api import *\n",
    "from adabas.datamap import *\n",
    "a=Adabas(rbl=256,fbl=64,sbl=32,vbl=128,ibl=0)\n",
    "a.cb.dbid=12              \n",
    "a.cb.fnr=11 \n",
    "dicper={}"
   ]
  },
  {
   "cell_type": "code",
   "execution_count": null,
   "metadata": {
    "collapsed": false
   },
   "outputs": [],
   "source": [
    "#campo elementar de um grupo periódico\n",
    "a.cb.isn=201\n",
    "gsn = 'AQ'        # grupo short name     - FDT\n",
    "esn = 'AR'        # elementar short name - FDT\n",
    "lgn = 'curr_code' # elementar long-name  - DDM\n",
    "lsn = 3          # length elementar     - DDM\n",
    "upk = ''         # unpack para colunas packeadas\n",
    "a.fb.value='{}C,002,B.'.format(gsn)\n",
    "a.get(isn=a.cb.isn)\n",
    "if a.rb.value:\n",
    "    occ=int(a.rb.value.encode('hex') ) # count occurs group\n",
    "    exec (\"row = Datamap('Rows', {})\".format(\"String('{lg}{}', {l}),\" * occ).format(lg=lgn, *range(1,occ+1), l=lsn))\n",
    "    print '{:08} - occurs {} times'.format(a.cb.isn, occ)\n",
    "    row.buffer = a.rb\n",
    "    a.fb.value='{}1-{},{}{}.'.format(esn, occ, lsn, upk) \n",
    "    a.get(isn=a.cb.isn)\n",
    "    print eval(\"\"\"'dicper[\"{}\"]= [{}]'.format({})\"\"\".format( lgn, '{}, ' * occ, ('row.{ln}{}, '* occ).format(ln=lgn,*range(1,occ+1))))"
   ]
  },
  {
   "cell_type": "code",
   "execution_count": null,
   "metadata": {
    "collapsed": false
   },
   "outputs": [],
   "source": [
    "#campo elementar de um grupo periódico\n",
    "a.cb.isn=201\n",
    "gsn = 'AQ'        # grupo short name     - FDT\n",
    "esn = 'AS'        # elementar short name - FDT\n",
    "lgn = 'salary'    # elementar long-name  - DDM\n",
    "lsn = 9           # length elementar     - DDM\n",
    "upk = ',U'        # unpack para colunas packeadas\n",
    "\n",
    "a.fb.value='{}C,002,B.'.format(gsn)\n",
    "a.get(isn=a.cb.isn)\n",
    "if a.rb.value:\n",
    "    occ=int(a.rb.value.encode('hex') ) # count occurs group\n",
    "    exec (\"row = Datamap('Rows', {})\".format(\"String('{lg}{}', {l}),\" * occ).format(lg=lgn, *range(1,occ+1), l=lsn))\n",
    "    print '{:08} - occurs {} times'.format(a.cb.isn, occ)\n",
    "    row.buffer = a.rb\n",
    "    a.fb.value='{}1-{},{}{}.'.format(esn, occ, lsn, upk) \n",
    "    a.get(isn=a.cb.isn)\n",
    "    print eval(\"\"\"'dicper[\"{}\"]= [{}]'.format({})\"\"\".format( lgn, '{}, ' * occ, ('row.{ln}{}, '* occ).format(ln=lgn,*range(1,occ+1))))"
   ]
  },
  {
   "cell_type": "code",
   "execution_count": null,
   "metadata": {
    "collapsed": false
   },
   "outputs": [],
   "source": [
    "a.cb.isn=200\n",
    "try:\n",
    "    for c in xrange(10):\n",
    "        a.fb.value='AQC,002,B.'\n",
    "        a.readByIsn(getnext=1)\n",
    "        if a.rb.value:\n",
    "            aqc=int(a.rb.value.encode('hex') )\n",
    "            aql=9\n",
    "            aqu=',9,U'\n",
    "            exec (\"row = Datamap('Rows', {})\".format(\"String('as{}', {l}),\" * aqc).format(*range(1,aqc+1), l=aql))\n",
    "            print '{:08} - occurs {} times'.format(a.cb.isn, aqc)\n",
    "            row.buffer = a.rb\n",
    "            a.fb.value='AS1-{}{}.'.format(int(aqc), aqu) \n",
    "            a.get(isn=a.cb.isn)\n",
    "            print eval(\"'{:08} {}'.format({})\".format(a.cb.isn, '- {} ' * aqc, ('row.as{}, '* aqc).format(*range(1,aqc+1))))\n",
    "            \n",
    "except DataEnd:\n",
    "    print 'acabou'"
   ]
  },
  {
   "cell_type": "code",
   "execution_count": null,
   "metadata": {
    "collapsed": false
   },
   "outputs": [],
   "source": [
    "a.cb.isn=3\n",
    "a.fb.value='AT1C,2,B.'\n",
    "a.get(isn=a.cb.isn)\n",
    "a.rb.value.encode('hex')"
   ]
  },
  {
   "cell_type": "code",
   "execution_count": null,
   "metadata": {
    "collapsed": false
   },
   "outputs": [],
   "source": [
    "a.cb.isn=1\n",
    "a.fb.value='AT(1,1),9,U.'\n",
    "a.get(isn=a.cb.isn)\n",
    "a.rb.value"
   ]
  },
  {
   "cell_type": "code",
   "execution_count": null,
   "metadata": {
    "collapsed": false
   },
   "outputs": [],
   "source": [
    "a.cb.isn=201\n",
    "a.fb.value='AS1-3,9,U.'\n",
    "a.get(isn=a.cb.isn)\n",
    "a.rb.value"
   ]
  }
 ],
 "metadata": {
  "kernelspec": {
   "display_name": "Python 2",
   "language": "python",
   "name": "python2"
  },
  "language_info": {
   "codemirror_mode": {
    "name": "ipython",
    "version": 2
   },
   "file_extension": ".py",
   "mimetype": "text/x-python",
   "name": "python",
   "nbconvert_exporter": "python",
   "pygments_lexer": "ipython2",
   "version": "2.7.12"
  }
 },
 "nbformat": 4,
 "nbformat_minor": 1
}
