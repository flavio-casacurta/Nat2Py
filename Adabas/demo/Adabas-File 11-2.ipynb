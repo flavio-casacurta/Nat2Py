{
 "cells": [
  {
   "cell_type": "code",
   "execution_count": 1,
   "metadata": {
    "collapsed": false
   },
   "outputs": [],
   "source": [
    "from adabas.api import *\n",
    "from adabas.datamap import *\n",
    "a=Adabas(rbl=256,fbl=64,sbl=32,vbl=128,ibl=0)\n",
    "a.cb.dbid=12              \n",
    "a.cb.fnr=11 "
   ]
  },
  {
   "cell_type": "code",
   "execution_count": 8,
   "metadata": {
    "collapsed": false
   },
   "outputs": [],
   "source": [
    "#campo elementar de um grupo periódico\n",
    "def get_periodic(isn = 0   # isn a ser pesquisado\n",
    "                ,gsn = ''  # grupo short name ou elementar multiplo    - FDT\n",
    "                ,esn = ''  # elementar short name - FDT\n",
    "                ,lgn = ''  # elementar long-name  - DDM\n",
    "                ,lsn = 0   # length elementar     - DDM\n",
    "                ,upk = ''  # unpack para colunas packeadas '' or True\n",
    "                ,scl = ''  # scale or ''          - DDM\n",
    "                ,Int = ''  # True para numéricos\n",
    "                 ):\n",
    "    ret = ''\n",
    "    try:\n",
    "        upk = ',U' if upk else ''\n",
    "        Str = '\"'\n",
    "        a.cb.isn=isn                 \n",
    "        if scl or Int:\n",
    "            Int = 'int('\n",
    "            Str = ''\n",
    "            if scl:\n",
    "                scl = ') * .{0:>0{1}}'.format('1', scl)\n",
    "            else:\n",
    "                scl = ')'\n",
    "\n",
    "        a.fb.value='{}C,002,B.'.format(gsn)\n",
    "        a.get(isn=a.cb.isn)\n",
    "        if a.rb.value:\n",
    "            occ=int(a.rb.value.encode('hex') ) # count occurs group\n",
    "            exec (\"row = Datamap('Rows', {})\".format(\"String('{lg}{}', {l}),\" * occ).format(lg=lgn, *range(1,occ+1), l=lsn))\n",
    "            row.buffer = a.rb\n",
    "            a.fb.value='{}1-{},{}{}.'.format(esn, occ, lsn, upk) \n",
    "            a.get(isn=a.cb.isn)\n",
    "            ret = eval(\"\"\"'\"{}\": [{}]'.format({})\"\"\".format( lgn, (Str+'{}'+Str+', ') * occ, ('{i}row.{ln}{}{sc}, '* occ).format(i=Int,ln=lgn,sc=scl,*range(1,occ+1))))    \n",
    "    except DatabaseError, (error,apa):\n",
    "        return error.split(':')[1]\n",
    "    return ret"
   ]
  },
  {
   "cell_type": "code",
   "execution_count": 11,
   "metadata": {
    "collapsed": false
   },
   "outputs": [
    {
     "name": "stdout",
     "output_type": "stream",
     "text": [
      "00000201 - occurs 3 times\n",
      "\"curr_code\": [\"EUR\", \"EUR\", \"EUR\", ]\n",
      "\"curr_code\": [\"EUR\", \"EUR\", \"EUR\", ]\n"
     ]
    }
   ],
   "source": [
    "#campo elementar de um grupo periódico\n",
    "a.cb.isn=201\n",
    "gsn = 'AQ'        # grupo short name     - FDT\n",
    "esn = 'AR'        # elementar short name - FDT\n",
    "lgn = 'curr_code' # elementar long-name  - DDM\n",
    "lsn = 3          # length elementar     - DDM\n",
    "upk = ''         # unpack para colunas packeadas\n",
    "scl = ''         # scale\n",
    "Int = ''\n",
    "Str = '\"'\n",
    "if scl or Int:\n",
    "    Int = 'int('\n",
    "    Str = ''\n",
    "    if scl:\n",
    "        scl = ') * .{0:>0{1}}'.format('1', scl)\n",
    "    else:\n",
    "        scl = ')'\n",
    "\n",
    "a.fb.value='{}C,002,B.'.format(gsn)\n",
    "a.get(isn=a.cb.isn)\n",
    "if a.rb.value:\n",
    "    occ=int(a.rb.value.encode('hex') ) # count occurs group\n",
    "    exec (\"row = Datamap('Rows', {})\".format(\"String('{lg}{}', {l}),\" * occ).format(lg=lgn, *range(1,occ+1), l=lsn))\n",
    "    print '{:08} - occurs {} times'.format(a.cb.isn, occ)\n",
    "    row.buffer = a.rb\n",
    "    a.fb.value='{}1-{},{}{}.'.format(esn, occ, lsn, upk) \n",
    "    a.get(isn=a.cb.isn)\n",
    "    ret = eval(\"\"\"'\"{}\": [{}]'.format({})\"\"\".format( lgn, (Str+'{}'+Str+', ') * occ, ('{i}row.{ln}{}{sc}, '* occ).format(i=Int,ln=lgn,sc=scl,*range(1,occ+1))))    \n",
    "    print ret\n",
    "    \n",
    "print get_periodic(isn=201, gsn = 'AQ', esn = 'AR', lgn = 'curr_code', lsn = 3)"
   ]
  },
  {
   "cell_type": "code",
   "execution_count": 12,
   "metadata": {
    "collapsed": false
   },
   "outputs": [
    {
     "name": "stdout",
     "output_type": "stream",
     "text": [
      "00000201 - occurs 3 times\n",
      "\"salary\": [24615, 23589, 21538, ]\n",
      "\"salary\": [24615, 23589, 21538, ]\n"
     ]
    }
   ],
   "source": [
    "#campo elementar de um grupo periódico numerico \n",
    "a.cb.isn=201\n",
    "gsn = 'AQ'        # grupo short name     - FDT\n",
    "esn = 'AS'        # elementar short name - FDT\n",
    "lgn = 'salary'    # elementar long-name  - DDM\n",
    "lsn = 9           # length elementar     - DDM\n",
    "upk = ',U'        # unpack para colunas packeadas ou binary\n",
    "scl = ''          # scale or ''\n",
    "Int = True        # True or ''\n",
    "Str = '\"'\n",
    "if scl or Int:\n",
    "    Int = 'int('\n",
    "    Str = ''\n",
    "    if scl:\n",
    "        scl = ') * .{0:>0{1}}'.format('1', scl)\n",
    "    else:\n",
    "        scl = ')'\n",
    "        \n",
    "a.fb.value='{}C,002,B.'.format(gsn)\n",
    "a.get(isn=a.cb.isn)\n",
    "if a.rb.value:\n",
    "    occ=int(a.rb.value.encode('hex') ) # count occurs group\n",
    "    exec (\"row = Datamap('Rows', {})\".format(\"String('{lg}{}', {l}),\" * occ).format(lg=lgn, *range(1,occ+1), l=lsn))\n",
    "    print '{:08} - occurs {} times'.format(a.cb.isn, occ)\n",
    "    row.buffer = a.rb\n",
    "    a.fb.value='{}1-{},{}{}.'.format(esn, occ, lsn, upk) \n",
    "    a.get(isn=a.cb.isn)\n",
    "    ret = eval(\"\"\"'\"{}\": [{}]'.format({})\"\"\".format( lgn, (Str+'{}'+Str+', ') * occ, ('{i}row.{ln}{}{sc}, '* occ).format(i=Int,ln=lgn,sc=scl,*range(1,occ+1))))    \n",
    "    print ret\n",
    "print get_periodic(isn=201, gsn = 'AQ', esn = 'AS', lgn = 'salary', lsn = 9, upk=True, Int=True)"
   ]
  },
  {
   "cell_type": "code",
   "execution_count": 13,
   "metadata": {
    "collapsed": false
   },
   "outputs": [
    {
     "name": "stdout",
     "output_type": "stream",
     "text": [
      "00000283 - occurs 2 times\n",
      "\"address_line\": [\"SCHLOEMERWEG 55\", \"6236 ESCHBORN\", ]\n",
      "\"address_line\": [\"SCHLOEMERWEG 55\", \"6236 ESCHBORN\", ]\n"
     ]
    }
   ],
   "source": [
    "#campo elementar múltiplo\n",
    "a.cb.isn=283\n",
    "esn = 'AI'           # elementar short name - FDT\n",
    "lgn = 'address_line' # elementar long-name  - DDM\n",
    "lsn = 20             # length elementar     - DDM\n",
    "upk = ''             # unpack para colunas packeadas\n",
    "scl = ''             # scale or ''\n",
    "Int = ''             # True or ''  \n",
    "Str = '\"'\n",
    "if scl or Int:\n",
    "    Int = 'int('\n",
    "    Str = ''\n",
    "    if scl:\n",
    "        scl = ') * .{0:>0{1}}'.format('1', scl)\n",
    "    else:\n",
    "        scl = ')'\n",
    "\n",
    "a.fb.value='{}C,002,B.'.format(esn)\n",
    "a.get(isn=a.cb.isn)\n",
    "if a.rb.value:\n",
    "    occ=int(a.rb.value.encode('hex') ) # count occurs\n",
    "    exec (\"row = Datamap('Rows', {})\".format(\"String('{lg}{}', {l}),\" * occ).format(lg=lgn, *range(1,occ+1), l=lsn))\n",
    "    print '{:08} - occurs {} times'.format(a.cb.isn, occ)\n",
    "    row.buffer = a.rb\n",
    "    a.fb.value='{}1-{},{}{}.'.format(esn, occ, lsn, upk) \n",
    "    a.get(isn=a.cb.isn)\n",
    "    ret =  eval(\"\"\"'\"{}\": [{}]'.format({})\"\"\".format( lgn, (Str+'{}'+Str+', ') * occ, ('{i}row.{ln}{}{sc}, '* occ).format(i=Int,ln=lgn,sc=scl,*range(1,occ+1))))    \n",
    "    print ret\n",
    "print get_periodic(isn=283, gsn = 'AI', esn = 'AI', lgn = 'address_line', lsn = 20)"
   ]
  },
  {
   "cell_type": "code",
   "execution_count": 4,
   "metadata": {
    "collapsed": false
   },
   "outputs": [
    {
     "name": "stdout",
     "output_type": "stream",
     "text": [
      "00000283 - occurs 3 times\n",
      "[1846, 2000, 500, ]\n",
      "00000283 - occurs 1 times\n",
      "[1743, ]\n"
     ]
    },
    {
     "data": {
      "text/plain": [
       "'\"bonus\": [[1846, 2000, 500], [1743]]'"
      ]
     },
     "execution_count": 4,
     "metadata": {},
     "output_type": "execute_result"
    }
   ],
   "source": [
    "#campo multiplo de um grupo periódico\n",
    "a.cb.isn=283\n",
    "gsn = 'AQ'        # grupo short name     - FDT\n",
    "esn = 'AT'        # elementar short name - FDT\n",
    "lgn = 'bonus'     # elementar long-name  - DDM\n",
    "lsn = 9           # length elementar     - DDM\n",
    "upk = ',U'        # unpack para colunas packeadas\n",
    "scl = ''          # scale or ''\n",
    "Int = True\n",
    "Str = '\"'\n",
    "if scl or Int:\n",
    "    Int = 'int('\n",
    "    Str = ''\n",
    "    if scl:\n",
    "        scl = ') * .{0:>0{1}}'.format('1', scl)\n",
    "    else:\n",
    "        scl = ')'\n",
    "lst = []        \n",
    "a.fb.value='{}C,002,B.'.format(gsn)\n",
    "a.get(isn=a.cb.isn)\n",
    "if a.rb.value:\n",
    "    gocc=int(a.rb.value.encode('hex') ) # count occurs group\n",
    "    for o in range(1,gocc+1):\n",
    "        a.fb.value='{}{}C,002,B.'.format(esn,o)\n",
    "        a.get(isn=a.cb.isn)\n",
    "        if a.rb.value:\n",
    "            occ=int(a.rb.value.encode('hex') ) # count occurs elementar\n",
    "            exec (\"row = Datamap('Rows', {})\".format(\"String('{lg}{}', {l}),\" * occ).format(lg=lgn, *range(1,occ+1), l=lsn))\n",
    "            print '{:08} - occurs {} times'.format(a.cb.isn, occ)\n",
    "            row.buffer = a.rb\n",
    "            a.fb.value='{}{}(1-{}),{}{}.'.format(esn, o, occ, lsn, upk)\n",
    "            a.get(isn=a.cb.isn)\n",
    "            ret = eval(\"\"\"'[{}]'.format({})\"\"\".format((Str+'{}'+Str+', ') * occ, ('{i}row.{ln}{}{sc}, '* occ).format(i=Int,ln=lgn,sc=scl,*range(1,occ+1))))\n",
    "            print ret            \n",
    "            lst.append(eval(ret))\n",
    "        else:\n",
    "            break\n",
    "'\"{}\": {}'.format(lgn, lst)            "
   ]
  },
  {
   "cell_type": "code",
   "execution_count": null,
   "metadata": {
    "collapsed": false
   },
   "outputs": [],
   "source": [
    "a.cb.isn=283\n",
    "a.fb.value='AQC,2,B.'\n",
    "a.get(isn=a.cb.isn)\n",
    "a.rb.value.encode('hex')"
   ]
  },
  {
   "cell_type": "code",
   "execution_count": null,
   "metadata": {
    "collapsed": false
   },
   "outputs": [],
   "source": [
    "a.fb.value='AT1C,2,B.'\n",
    "a.get(isn=a.cb.isn)\n",
    "occ = a.rb.value.encode('hex')\n",
    "occ"
   ]
  },
  {
   "cell_type": "code",
   "execution_count": null,
   "metadata": {
    "collapsed": false
   },
   "outputs": [],
   "source": [
    "a.fb.value='AT1(1-{}),9,U.'.format(occ)\n",
    "a.get(isn=a.cb.isn)\n",
    "a.rb.value"
   ]
  },
  {
   "cell_type": "code",
   "execution_count": null,
   "metadata": {
    "collapsed": false
   },
   "outputs": [],
   "source": [
    "a.cb.isn=200\n",
    "try:\n",
    "    for c in xrange(10):\n",
    "        a.fb.value='AQC,002,B.'\n",
    "        a.readByIsn(getnext=1)\n",
    "        if a.rb.value:\n",
    "            aqc=int(a.rb.value.encode('hex') )\n",
    "            aql=9\n",
    "            aqu=',9,U'\n",
    "            exec (\"row = Datamap('Rows', {})\".format(\"String('as{}', {l}),\" * aqc).format(*range(1,aqc+1), l=aql))\n",
    "            print '{:08} - occurs {} times'.format(a.cb.isn, aqc)\n",
    "            row.buffer = a.rb\n",
    "            a.fb.value='AS1-{}{}.'.format(int(aqc), aqu) \n",
    "            a.get(isn=a.cb.isn)\n",
    "            print eval(\"'{:08} {}'.format({})\".format(a.cb.isn, '- {} ' * aqc, ('row.as{}, '* aqc).format(*range(1,aqc+1))))\n",
    "            \n",
    "except DataEnd:\n",
    "    print 'acabou'"
   ]
  }
 ],
 "metadata": {
  "kernelspec": {
   "display_name": "Python 2",
   "language": "python",
   "name": "python2"
  },
  "language_info": {
   "codemirror_mode": {
    "name": "ipython",
    "version": 2
   },
   "file_extension": ".py",
   "mimetype": "text/x-python",
   "name": "python",
   "nbconvert_exporter": "python",
   "pygments_lexer": "ipython2",
   "version": "2.7.12"
  }
 },
 "nbformat": 4,
 "nbformat_minor": 1
}
