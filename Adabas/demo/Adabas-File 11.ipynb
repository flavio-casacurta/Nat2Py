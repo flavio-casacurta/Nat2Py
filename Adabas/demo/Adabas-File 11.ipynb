{
 "cells": [
  {
   "cell_type": "code",
   "execution_count": null,
   "metadata": {
    "collapsed": false
   },
   "outputs": [],
   "source": [
    "from adabas.api import *\n",
    "import struct\n",
    "from datetime import date\n",
    "a=Adabas(rbl=256,fbl=64,sbl=32,vbl=128,ibl=0)\n",
    "a.cb.dbid=12              \n",
    "a.cb.fnr=11              "
   ]
  },
  {
   "cell_type": "code",
   "execution_count": null,
   "metadata": {
    "collapsed": false
   },
   "outputs": [],
   "source": [
    "a.cb.isn=806\n",
    "a.fb.value='AT2C,2,B.'\n",
    "a.get(isn=a.cb.isn)\n",
    "print a.rb.value.encode('hex')\n",
    "print '{} - len = {}'.format(a.rb.value, len(a.rb.value))"
   ]
  },
  {
   "cell_type": "code",
   "execution_count": null,
   "metadata": {
    "collapsed": false
   },
   "outputs": [],
   "source": [
    "a.cb.isn=806\n",
    "a.fb.value='AIC,2,B.'\n",
    "a.get(isn=a.cb.isn)\n",
    "aic = a.rb.value.encode('hex')\n",
    "a.fb.value='AZC,2,B.'\n",
    "a.get(isn=a.cb.isn)\n",
    "azc = a.rb.value.encode('hex')\n",
    "a.fb.value='AI1-{},AZ1-{}.'.format(aic, azc)\n",
    "a.get(isn=a.cb.isn)\n",
    "print '{} - len = {}'.format(a.rb.value, len(a.rb.value))"
   ]
  },
  {
   "cell_type": "code",
   "execution_count": null,
   "metadata": {
    "collapsed": false
   },
   "outputs": [],
   "source": [
    "a.rb.value = ''"
   ]
  },
  {
   "cell_type": "code",
   "execution_count": null,
   "metadata": {
    "collapsed": false
   },
   "outputs": [],
   "source": [
    "a.get(isn=201)\n",
    "print '{:42} - len = {}'.format(a.rb.value, len(a.rb.value))"
   ]
  },
  {
   "cell_type": "code",
   "execution_count": null,
   "metadata": {
    "collapsed": false
   },
   "outputs": [],
   "source": [
    "a.cb.isn=0\n",
    "try:\n",
    "    for c in xrange(10):\n",
    "        a.fb.value='AIC,002,B.'\n",
    "        a.readByIsn(getnext=1)\n",
    "        if a.rb.value:\n",
    "            print '{:08} - occurs {} times'.format(a.cb.isn, a.rb.value.encode('hex'))\n",
    "            a.fb.value='AI1-{}.'.format(int(a.rb.value.encode('hex'))) \n",
    "            a.get(isn=a.cb.isn)\n",
    "            print '{:08} - {} - len = {}'.format(a.cb.isn, a.rb.value, len(a.rb.value))\n",
    "            \n",
    "except DataEnd:\n",
    "    print 'acabou'"
   ]
  },
  {
   "cell_type": "code",
   "execution_count": null,
   "metadata": {
    "collapsed": false
   },
   "outputs": [],
   "source": [
    "a.readByIsn(getnext=1)\n",
    "#a.getiseq()\n",
    "print '{:30} - len = {}'.format(a.rb.value, len(a.rb.value))"
   ]
  },
  {
   "cell_type": "code",
   "execution_count": null,
   "metadata": {
    "collapsed": false
   },
   "outputs": [],
   "source": [
    "a.rb.value.encode('hex')"
   ]
  },
  {
   "cell_type": "code",
   "execution_count": null,
   "metadata": {
    "collapsed": false
   },
   "outputs": [],
   "source": [
    "print '{} - {}'.format(a.rb.value[:8], \n",
    "                           date.fromordinal(int(a.rb.value[10:])-364))"
   ]
  },
  {
   "cell_type": "code",
   "execution_count": null,
   "metadata": {
    "collapsed": false
   },
   "outputs": [],
   "source": [
    "data =date(1956,06,24)\n",
    "toord = data.toordinal()\n",
    "toord"
   ]
  },
  {
   "cell_type": "code",
   "execution_count": null,
   "metadata": {
    "collapsed": false
   },
   "outputs": [],
   "source": [
    "datan =date(1955,06,26)\n",
    "toordn = datan.toordinal()\n",
    "toordn"
   ]
  },
  {
   "cell_type": "code",
   "execution_count": null,
   "metadata": {
    "collapsed": false
   },
   "outputs": [],
   "source": [
    "toord - toordn"
   ]
  },
  {
   "cell_type": "code",
   "execution_count": null,
   "metadata": {
    "collapsed": false
   },
   "outputs": [],
   "source": [
    "datetime.datetime.toordinal(datetime.datetime.today())"
   ]
  },
  {
   "cell_type": "code",
   "execution_count": null,
   "metadata": {
    "collapsed": false
   },
   "outputs": [],
   "source": [
    "datetime.datetime.date(736487)"
   ]
  }
 ],
 "metadata": {
  "kernelspec": {
   "display_name": "Python 2",
   "language": "python",
   "name": "python2"
  },
  "language_info": {
   "codemirror_mode": {
    "name": "ipython",
    "version": 2
   },
   "file_extension": ".py",
   "mimetype": "text/x-python",
   "name": "python",
   "nbconvert_exporter": "python",
   "pygments_lexer": "ipython2",
   "version": "2.7.12"
  }
 },
 "nbformat": 4,
 "nbformat_minor": 1
}
