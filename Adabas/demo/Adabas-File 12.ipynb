{
 "cells": [
  {
   "cell_type": "code",
   "execution_count": 8,
   "metadata": {
    "collapsed": false
   },
   "outputs": [],
   "source": [
    "from adabas.api import *\n",
    "import struct\n",
    "a=Adabas(fbl=64,rbl=1024) \n",
    "a.cb.dbid=12              \n",
    "a.cb.fnr=12              "
   ]
  },
  {
   "cell_type": "code",
   "execution_count": 17,
   "metadata": {
    "collapsed": false
   },
   "outputs": [],
   "source": [
    "a.fb.value='AA,AB,4,B,AC.'\n",
    "a.cb.isn=0"
   ]
  },
  {
   "cell_type": "code",
   "execution_count": 18,
   "metadata": {
    "collapsed": false
   },
   "outputs": [
    {
     "name": "stdout",
     "output_type": "stream",
     "text": [
      "344RG94        #[              - len = 17\n"
     ]
    }
   ],
   "source": [
    "a.getiseq()\n",
    "print '{:30} - len = {}'.format(a.rb.value, len(a.rb.value))"
   ]
  },
  {
   "cell_type": "code",
   "execution_count": null,
   "metadata": {
    "collapsed": false
   },
   "outputs": [],
   "source": [
    "for n in xrange(15):\n",
    "    a.getiseq()              \n",
    "    print '{:25} - len = {}'.format(a.rb.value, len(a.rb.value))\n",
    "    try:\n",
    "        aa, ab = struct.unpack('=15sH', a.rb.value)\n",
    "        print '{:15}{:8}   - =15sH'.format(aa, ab)\n",
    "    except:\n",
    "        try:\n",
    "            aa, ab = struct.unpack('=15sh', a.rb.value)\n",
    "            print '{:15}{:<8}  - =15sh'.format(aa, ab)\n",
    "        except:\n",
    "            try:\n",
    "                aa, ab = struct.unpack('@15sh', a.rb.value)\n",
    "                print '{:15}{:8}  - @15sh'.format(aa, ab)\n",
    "            except:\n",
    "                aa, ab = struct.unpack('=15sb', a.rb.value)\n",
    "                print '{:15}{:8}  - =15sb'.format(aa, ab)"
   ]
  },
  {
   "cell_type": "code",
   "execution_count": null,
   "metadata": {
    "collapsed": true
   },
   "outputs": [],
   "source": [
    "a.fb.value='AA,AB.'\n",
    "a.cb.isn=0"
   ]
  },
  {
   "cell_type": "code",
   "execution_count": null,
   "metadata": {
    "collapsed": false
   },
   "outputs": [],
   "source": [
    "for n in xrange(15):    \n",
    "    a.getiseq()         \n",
    "    #print a.rb.value\n",
    "    print '{:15}{:<08}'.format(a.rb.value[:15], a.rb.value[15:].encode('hex').upper())"
   ]
  },
  {
   "cell_type": "code",
   "execution_count": null,
   "metadata": {
    "collapsed": true
   },
   "outputs": [],
   "source": [
    "a.getiseq()"
   ]
  },
  {
   "cell_type": "code",
   "execution_count": null,
   "metadata": {
    "collapsed": false
   },
   "outputs": [],
   "source": [
    "a.rb.value"
   ]
  },
  {
   "cell_type": "code",
   "execution_count": null,
   "metadata": {
    "collapsed": false
   },
   "outputs": [],
   "source": [
    "'{:15}{:<08}'.format(a.rb.value[:15], a.rb.value[15:].encode('hex').upper())"
   ]
  },
  {
   "cell_type": "code",
   "execution_count": null,
   "metadata": {
    "collapsed": true
   },
   "outputs": [],
   "source": []
  }
 ],
 "metadata": {
  "kernelspec": {
   "display_name": "Python 2",
   "language": "python",
   "name": "python2"
  },
  "language_info": {
   "codemirror_mode": {
    "name": "ipython",
    "version": 2
   },
   "file_extension": ".py",
   "mimetype": "text/x-python",
   "name": "python",
   "nbconvert_exporter": "python",
   "pygments_lexer": "ipython2",
   "version": "2.7.12"
  }
 },
 "nbformat": 4,
 "nbformat_minor": 1
}
