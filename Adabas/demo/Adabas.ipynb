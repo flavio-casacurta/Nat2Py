{
 "cells": [
  {
   "cell_type": "code",
   "execution_count": 1,
   "metadata": {
    "collapsed": false
   },
   "outputs": [],
   "source": [
    "from adabas.api import *\n",
    "import struct\n",
    "#a=Adabas(fbl=12,rbl=200) # create control block, format and record buffer\n",
    "a=Adabas(rbl=256,fbl=64,sbl=32,vbl=128,ibl=0)\n",
    "a.cb.dbid=12              # set database id\n",
    "a.cb.fnr=11              # set file number\n",
    "#a.open()"
   ]
  },
  {
   "cell_type": "code",
   "execution_count": 4,
   "metadata": {
    "collapsed": false,
    "scrolled": true
   },
   "outputs": [],
   "source": [
    "a.fb.value='AA,AC,AF,AH,AI,AJ.'\n",
    "a.cb.isn=0"
   ]
  },
  {
   "cell_type": "code",
   "execution_count": 5,
   "metadata": {
    "collapsed": false
   },
   "outputs": [
    {
     "name": "stdout",
     "output_type": "stream",
     "text": [
      "50005800SIMONE              M\u0007\u0012�\u001c",
      "26 AVENUE RHIN ET DAJOIGNY              \n",
      "50005800SIMONE              M 479728135 26 AVENUE RHIN ET DA JOIGNY              \n"
     ]
    }
   ],
   "source": [
    "a.getiseq()              # get ISN in sequence (I option)\n",
    "print a.rb.value\n",
    "aa, ac, af, ah, ai1, ai2 = struct.unpack('=8s20s1si20s20s', a.rb.value)\n",
    "print aa+ac+af, ah, ai1, ai2"
   ]
  },
  {
   "cell_type": "code",
   "execution_count": null,
   "metadata": {
    "collapsed": false
   },
   "outputs": [],
   "source": [
    "for i in range(15):\n",
    "    a.cb.isn=i\n",
    "    a.getiseq()\n",
    "    print a.rb.value    "
   ]
  },
  {
   "cell_type": "code",
   "execution_count": null,
   "metadata": {
    "collapsed": false
   },
   "outputs": [],
   "source": [
    "print a.rb.value \n",
    "print 'int        -', struct.unpack('=i', a.rb.value)\n",
    "print 'unsign int -', struct.unpack('=I', a.rb.value)\n",
    "print 'long       -', struct.unpack('=l', a.rb.value)"
   ]
  }
 ],
 "metadata": {
  "kernelspec": {
   "display_name": "Python 2",
   "language": "python",
   "name": "python2"
  },
  "language_info": {
   "codemirror_mode": {
    "name": "ipython",
    "version": 2
   },
   "file_extension": ".py",
   "mimetype": "text/x-python",
   "name": "python",
   "nbconvert_exporter": "python",
   "pygments_lexer": "ipython2",
   "version": "2.7.12"
  }
 },
 "nbformat": 4,
 "nbformat_minor": 1
}
