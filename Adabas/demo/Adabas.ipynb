{
 "cells": [
  {
   "cell_type": "code",
   "execution_count": 1,
   "metadata": {
    "collapsed": true
   },
   "outputs": [],
   "source": [
    "from adabas.api import *\n",
    "import struct\n",
    "a=Adabas(fbl=12,rbl=100) # create control block, format and record buffer\n",
    "a.cb.dbid=12              # set database id\n",
    "a.cb.fnr=11              # set file number"
   ]
  },
  {
   "cell_type": "code",
   "execution_count": 2,
   "metadata": {
    "collapsed": false
   },
   "outputs": [],
   "source": [
    "a.fb.value='AH.'\n",
    "a.cb.isn=0"
   ]
  },
  {
   "cell_type": "code",
   "execution_count": 12,
   "metadata": {
    "collapsed": false
   },
   "outputs": [
    {
     "name": "stdout",
     "output_type": "stream",
     "text": [
      "\u0007\u0011qL\n"
     ]
    }
   ],
   "source": [
    "a.getiseq()              # get ISN in sequence (I option)\n",
    "print a.rb.value "
   ]
  },
  {
   "cell_type": "code",
   "execution_count": 13,
   "metadata": {
    "collapsed": false
   },
   "outputs": [
    {
     "name": "stdout",
     "output_type": "stream",
     "text": [
      "\u0007\u0011qL\n",
      "int   - (1282478343,)\n",
      "long  - (1282478343,)\n"
     ]
    }
   ],
   "source": [
    "print a.rb.value \n",
    "print 'int   -', struct.unpack('=i', a.rb.value)\n",
    "print 'long  -', struct.unpack('=l', a.rb.value)"
   ]
  },
  {
   "cell_type": "code",
   "execution_count": null,
   "metadata": {
    "collapsed": true
   },
   "outputs": [],
   "source": []
  }
 ],
 "metadata": {
  "kernelspec": {
   "display_name": "Python 2",
   "language": "python",
   "name": "python2"
  },
  "language_info": {
   "codemirror_mode": {
    "name": "ipython",
    "version": 2
   },
   "file_extension": ".py",
   "mimetype": "text/x-python",
   "name": "python",
   "nbconvert_exporter": "python",
   "pygments_lexer": "ipython2",
   "version": "2.7.12"
  }
 },
 "nbformat": 4,
 "nbformat_minor": 1
}
