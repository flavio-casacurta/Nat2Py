{
 "cells": [
  {
   "cell_type": "code",
   "execution_count": 1,
   "metadata": {
    "collapsed": false
   },
   "outputs": [],
   "source": [
    "from adabas.api import *\n",
    "import struct\n",
    "a=Adabas(fbl=12,rbl=200) # create control block, format and record buffer\n",
    "a.cb.dbid=12              # set database id\n",
    "a.cb.fnr=11              # set file number\n",
    "a.open()"
   ]
  },
  {
   "cell_type": "code",
   "execution_count": 14,
   "metadata": {
    "collapsed": false
   },
   "outputs": [],
   "source": [
    "a.fb.value='AA,AC,AF,AH.'\n",
    "a.cb.isn=0"
   ]
  },
  {
   "cell_type": "code",
   "execution_count": 18,
   "metadata": {
    "collapsed": false
   },
   "outputs": [
    {
     "name": "stdout",
     "output_type": "stream",
     "text": [
      "50005500ALEXANDRE           M\u0007\u0014\"L\n",
      "50005500ALEXANDRE           M 1277301767\n"
     ]
    }
   ],
   "source": [
    "a.getiseq()              # get ISN in sequence (I option)\n",
    "print a.rb.value\n",
    "aa, ac, af, ah = struct.unpack('=8s20s1si', a.rb.value)\n",
    "print aa+ac+af, ah"
   ]
  },
  {
   "cell_type": "code",
   "execution_count": null,
   "metadata": {
    "collapsed": false
   },
   "outputs": [],
   "source": [
    "for i in range(15):\n",
    "    a.cb.isn=i\n",
    "    a.getiseq()\n",
    "    print a.rb.value    "
   ]
  },
  {
   "cell_type": "code",
   "execution_count": null,
   "metadata": {
    "collapsed": false
   },
   "outputs": [],
   "source": [
    "print a.rb.value \n",
    "print 'int        -', struct.unpack('=i', a.rb.value)\n",
    "print 'unsign int -', struct.unpack('=I', a.rb.value)\n",
    "print 'long       -', struct.unpack('=l', a.rb.value)"
   ]
  },
  {
   "cell_type": "code",
   "execution_count": 19,
   "metadata": {
    "collapsed": true
   },
   "outputs": [],
   "source": [
    "import datetime"
   ]
  },
  {
   "cell_type": "code",
   "execution_count": null,
   "metadata": {
    "collapsed": true
   },
   "outputs": [],
   "source": [
    "datetime.''"
   ]
  },
  {
   "cell_type": "code",
   "execution_count": null,
   "metadata": {
    "collapsed": true
   },
   "outputs": [],
   "source": [
    "from adabas import Abuf"
   ]
  },
  {
   "cell_type": "code",
   "execution_count": null,
   "metadata": {
    "collapsed": false
   },
   "outputs": [],
   "source": [
    "run dblist.py \n"
   ]
  }
 ],
 "metadata": {
  "kernelspec": {
   "display_name": "Python 2",
   "language": "python",
   "name": "python2"
  },
  "language_info": {
   "codemirror_mode": {
    "name": "ipython",
    "version": 2
   },
   "file_extension": ".py",
   "mimetype": "text/x-python",
   "name": "python",
   "nbconvert_exporter": "python",
   "pygments_lexer": "ipython2",
   "version": "2.7.12"
  }
 },
 "nbformat": 4,
 "nbformat_minor": 1
}
