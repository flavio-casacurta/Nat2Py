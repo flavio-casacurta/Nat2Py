{
 "cells": [
  {
   "cell_type": "code",
   "execution_count": 1,
   "metadata": {
    "collapsed": true
   },
   "outputs": [],
   "source": [
    "import cStringIO\n",
    "import string\n",
    "import adabas\n",
    "from adabas.api import *\n",
    "from adabas.datamap import *"
   ]
  },
  {
   "cell_type": "code",
   "execution_count": 2,
   "metadata": {
    "collapsed": true
   },
   "outputs": [],
   "source": [
    "from datetime import date\n",
    "mask_date = lambda data, mask='%d-%m-%Y': date.fromordinal(int(data[2:])-364).strftime(mask)"
   ]
  },
  {
   "cell_type": "code",
   "execution_count": 3,
   "metadata": {
    "collapsed": true
   },
   "outputs": [],
   "source": [
    "DBID=12;FNR=11 # EmplTel file\n",
    "STARTISN=0\n",
    "RCOUNT=5\n",
    "# define the mapping of data in record buffer to attributes\n",
    "# of EmpTel class\n",
    "\n",
    "# create datamap object for Employees-Telephone-List\n",
    "emp=Datamap('EmplTel',\n",
    "    String('personnel_id',  8),\n",
    "    String('firstname',    20),\n",
    "    String('m_initial',    20),\n",
    "    String('lastname',     20),\n",
    "    String('birth',         8),\n",
    "    String('country',       3),\n",
    "    String('areacode',      6),\n",
    "    String('phone',        15),\n",
    "    String('department',    6),\n",
    "    String('jobtitle',     25))"
   ]
  },
  {
   "cell_type": "code",
   "execution_count": 4,
   "metadata": {
    "collapsed": false
   },
   "outputs": [],
   "source": [
    "lines=''                                         \n",
    "extraline=''                                     \n",
    "alter=False                                      \n",
    "c1=Adabas(rbl=256,fbl=64,sbl=32,vbl=128,ibl=0)   \n",
    "c1.cb.dbid=DBID\n",
    "c1.cb.fnr=FNR\n",
    "c1.cb.cid='1010'                                 \n",
    "c1.fb.value='AA,AC,AD,AE,AH,8,U,AL,AN,AM,AO,AP.' \n"
   ]
  },
  {
   "cell_type": "code",
   "execution_count": 5,
   "metadata": {
    "collapsed": false
   },
   "outputs": [],
   "source": [
    "c1.cb.isn=STARTISN                                                                 \n",
    "# use emp Datamap on record buffer                                                 \n",
    "emp.buffer=c1.rb                                                                   \n",
    "emp.offset=0                                                                       \n",
    "                                                                                  \n",
    "count=0                                                                            \n",
    "                                                                                   \n",
    "try:                                                                               \n",
    "    for count in range(RCOUNT):                                                    \n",
    "        c1.readByIsn(getnext=1)                                                    \n",
    "                                                                                    \n",
    "        lines += \"{} - {:30} - {} - {} - {} - {} - {}\\n\".format(\n",
    "                emp.personnel_id,\n",
    "                string.capwords(emp.lastname+', '+emp.firstname+' '+emp.m_initial),\n",
    "                mask_date(emp.birth, mask ='%d/%m/%Y'),\n",
    "                emp.country,\n",
    "                emp.phone,\n",
    "                emp.department,\n",
    "                string.capwords(emp.jobtitle))\n",
    "    lines+= 'Sequential Read by ISN returned '+str(count+1)+' record(s).'\n",
    "except DataEnd:\n",
    "    extraline+= 'Sequential Read by ISN returned '+str(count)+' record(s).'\n",
    "    pass\n",
    "except DatabaseError, (line, apa):\n",
    "    extraline+='Database Error:'+line\n",
    "                "
   ]
  },
  {
   "cell_type": "code",
   "execution_count": 6,
   "metadata": {
    "collapsed": false
   },
   "outputs": [
    {
     "name": "stdout",
     "output_type": "stream",
     "text": [
      "50005800 - Adam, Simone                   - 30/01/1952 - F - 44864858 - VENT59 - Chef De Service\n",
      "50005600 - Moreno, Humberto               - 28/09/1955 - F - 42457727 - VENT07 - Chef De Service\n",
      "50005500 - Blond, Alexandre               - 26/06/1955 - F - 42452720 - VENT56 - Chef De Service\n",
      "50005300 - Maiziere, Elisabeth            - 23/01/1952 - F - 46758304 - VENT54 - Chef De Service\n",
      "50004900 - Caoudal, Albert                - 17/06/1942 - F - 44346166 - VENT06 - Chef De Service\n",
      "Sequential Read by ISN returned 5 record(s).\n"
     ]
    }
   ],
   "source": [
    "print lines\n"
   ]
  }
 ],
 "metadata": {
  "kernelspec": {
   "display_name": "Python 2",
   "language": "python",
   "name": "python2"
  },
  "language_info": {
   "codemirror_mode": {
    "name": "ipython",
    "version": 2
   },
   "file_extension": ".py",
   "mimetype": "text/x-python",
   "name": "python",
   "nbconvert_exporter": "python",
   "pygments_lexer": "ipython2",
   "version": "2.7.12"
  }
 },
 "nbformat": 4,
 "nbformat_minor": 1
}
