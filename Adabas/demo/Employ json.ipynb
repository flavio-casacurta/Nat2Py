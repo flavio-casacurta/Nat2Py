{
 "cells": [
  {
   "cell_type": "code",
   "execution_count": 1,
   "metadata": {
    "collapsed": true
   },
   "outputs": [],
   "source": [
    "import json\n",
    "from adabas.api import *\n",
    "from adabas.datamap import *"
   ]
  },
  {
   "cell_type": "code",
   "execution_count": 2,
   "metadata": {
    "collapsed": true
   },
   "outputs": [],
   "source": [
    "from datetime import date\n",
    "mask_date = lambda data, mask='%d-%m-%Y': date.fromordinal(int(data[2:])-364).strftime(mask)"
   ]
  },
  {
   "cell_type": "code",
   "execution_count": 3,
   "metadata": {
    "collapsed": false
   },
   "outputs": [],
   "source": [
    "#campo elementar de um grupo periódico ou campo elementar múltiplo\n",
    "def get_periodic(isn = 0   # isn a ser pesquisado\n",
    "                ,gsn = ''  # grupo short name ou elementar multiplo    - FDT\n",
    "                ,esn = ''  # elementar short name - FDT\n",
    "                ,lgn = ''  # elementar long-name  - DDM\n",
    "                ,lsn = 0   # length elementar     - DDM\n",
    "                ,upk = ''  # unpack para colunas packeadas '' or True\n",
    "                ,scl = ''  # scale or ''          - DDM\n",
    "                ,Int = ''  # True para numéricos\n",
    "                 ):\n",
    "    ret = ''\n",
    "    try:\n",
    "        upk = ',U' if upk else ''\n",
    "        Str = '\"'\n",
    "        a.cb.isn=isn                 \n",
    "        if scl or Int:\n",
    "            Int = 'int('\n",
    "            Str = ''\n",
    "            if scl:\n",
    "                scl = ') * .{0:>0{1}}'.format('1', scl)\n",
    "            else:\n",
    "                scl = ')'\n",
    "\n",
    "        a.fb.value='{}C,002,B.'.format(gsn)\n",
    "        a.get(isn=a.cb.isn)\n",
    "        if a.rb.value:\n",
    "            occ=int(a.rb.value.encode('hex') ) # count occurs group\n",
    "            exec (\"row = Datamap('Rows', {})\".format(\"String('{lg}{}', {l}),\" * occ).format(lg=lgn, *range(1,occ+1), l=lsn))\n",
    "            row.buffer = a.rb\n",
    "            a.fb.value='{}1-{},{}{}.'.format(esn, occ, lsn, upk) \n",
    "            a.get(isn=a.cb.isn)\n",
    "            ret = eval(\"\"\"'\"{}\": [{}]'.format({})\"\"\".format( lgn, (Str+'{}'+Str+', ') * occ, ('{i}row.{ln}{}{sc}, '* occ).format(i=Int,ln=lgn,sc=scl,*range(1,occ+1))))    \n",
    "          #  ret = ret[:-3] + ']'\n",
    "            ret = ret.replace(', ]', ']')\n",
    "    except DatabaseError, (error,apa):\n",
    "        return error.split(':')[1]\n",
    "    return ret"
   ]
  },
  {
   "cell_type": "code",
   "execution_count": 4,
   "metadata": {
    "collapsed": true
   },
   "outputs": [],
   "source": [
    "#campo multiplo de um grupo periódico\n",
    "def get_per_mult(isn = 0   # isn a ser pesquisado\n",
    "                ,gsn = ''  # grupo short name     - FDT\n",
    "                ,esn = ''  # elementar short name - FDT\n",
    "                ,lgn = ''  # elementar long-name  - DDM\n",
    "                ,lsn = 0   # length elementar     - DDM\n",
    "                ,upk = ''  # unpack para colunas packeadas '' or True\n",
    "                ,scl = ''  # scale or ''          - DDM\n",
    "                ,Int = ''  # True para numéricos\n",
    "                 ):\n",
    "    ret = ''\n",
    "    try:\n",
    "        upk = ',U' if upk else ''\n",
    "        Str = '\"'\n",
    "        a.cb.isn=isn\n",
    "        if scl or Int:\n",
    "            Int = 'int('\n",
    "            Str = ''\n",
    "            if scl:\n",
    "                scl = ') * .{0:>0{1}}'.format('1', scl)\n",
    "            else:\n",
    "                scl = ')'\n",
    "        lst = []        \n",
    "        a.fb.value='{}C,002,B.'.format(gsn)\n",
    "        a.get(isn=a.cb.isn)\n",
    "        if a.rb.value:\n",
    "            gocc=int(a.rb.value.encode('hex') ) # count occurs group\n",
    "            for o in range(1,gocc+1):\n",
    "                a.fb.value='{}{}C,002,B.'.format(esn,o)\n",
    "                a.get(isn=a.cb.isn)\n",
    "                if a.rb.value:\n",
    "                    occ=int(a.rb.value.encode('hex') ) # count occurs elementar\n",
    "                    exec (\"row = Datamap('Rows', {})\".format(\"String('{lg}{}', {l}),\" * occ).format(lg=lgn, *range(1,occ+1), l=lsn))\n",
    "                    row.buffer = a.rb\n",
    "                    a.fb.value='{}{}(1-{}),{}{}.'.format(esn, o, occ, lsn, upk)\n",
    "                    a.get(isn=a.cb.isn)\n",
    "                    ret = eval(\"\"\"'[{}]'.format({})\"\"\".format((Str+'{}'+Str+', ') * occ, ('{i}row.{ln}{}{sc}, '* occ).format(i=Int,ln=lgn,sc=scl,*range(1,occ+1))))\n",
    "                    lst.append(eval(ret))\n",
    "                else:\n",
    "                    break\n",
    "    except DatabaseError, (error,apa):\n",
    "        return error.split(':')[1]\n",
    "    return '\"{}\": {}'.format(lgn, lst)            "
   ]
  },
  {
   "cell_type": "code",
   "execution_count": 45,
   "metadata": {
    "collapsed": false
   },
   "outputs": [],
   "source": [
    "DBID=12;FNR=11 \n",
    "STARTISN=282\n",
    "RCOUNT=5\n",
    "\n",
    "row=Datamap('rows',\n",
    "    String('personnel_id',  8), # aa 1\n",
    "    String('first_name',   20), # ac 2\n",
    "    String('middle_name',  20), # ad 3\n",
    "    String('name',         20), # ae 4\n",
    "    String('birth',         8), # ah 5\n",
    "    String('country',       3), # al 6\n",
    "    String('area_code',     6), # an 7\n",
    "    String('phone',        15), # am 8\n",
    "    String('dept',          6), # ao 9\n",
    "    String('job_title',    25)) # ap 10"
   ]
  },
  {
   "cell_type": "code",
   "execution_count": 46,
   "metadata": {
    "collapsed": false
   },
   "outputs": [],
   "source": [
    "lines=''                                         \n",
    "extraline=''                                     \n",
    "alter=False                                      \n",
    "c1=Adabas(rbl=256,fbl=64,sbl=32,vbl=128,ibl=0)   \n",
    "c1.cb.dbid=DBID\n",
    "c1.cb.fnr=FNR\n",
    "c1.cb.cid='1010'                                 \n",
    "c1.fb.value='AA,AC,AD,AE,AH,8,U,AL,AN,AM,AO,AP.' "
   ]
  },
  {
   "cell_type": "code",
   "execution_count": 47,
   "metadata": {
    "collapsed": true
   },
   "outputs": [],
   "source": [
    "a=Adabas(rbl=256,fbl=64,sbl=32,vbl=128,ibl=0)\n",
    "a.cb.dbid=12              \n",
    "a.cb.fnr=11                            "
   ]
  },
  {
   "cell_type": "code",
   "execution_count": 48,
   "metadata": {
    "collapsed": false
   },
   "outputs": [],
   "source": [
    "c1.cb.isn=STARTISN                                                                 \n",
    "# use emp Datamap on record buffer                                                 \n",
    "row.buffer=c1.rb                                                                   \n",
    "row.offset=0                                                                       \n",
    "                                                                                  \n",
    "count=0                                                                            \n",
    "                                                                                   \n",
    "try:                                                                               \n",
    "    for count in range(RCOUNT):                                                    \n",
    "        c1.readByIsn(getnext=1)                                                    \n",
    "                                                                                    \n",
    "        lines += \"\"\"{}\"{}\": {}, \"{}\": \"{}\", \"{}\": \"{}\", \"{}\": \"{}\",\"\"\"\\\n",
    "                 \"\"\"\"{}\": \"{}\", \"{}\": \"{}\", \"{}\": \"{}\",\"\"\"\\\n",
    "                 \"\"\"\"{}\": \"{}\", \"{}\": \"{}\", \"{}\": \"{}\",\"\"\"\\\n",
    "                 \"\"\"\"{}\": \"{}\", {}, {}{}\\n\"\"\".format(\"{\"\n",
    "                                            ,'isn'         , c1.cb.isn           \n",
    "                                            ,'personnel_id', row.personnel_id \n",
    "                                            ,'first_name'  , row.first_name   \n",
    "                                            ,'middle_name' , row.middle_name  \n",
    "                                            ,'name'        , row.name         \n",
    "                                            ,'birth'       , mask_date(row.birth)\n",
    "                                            ,'country'     , row.country      \n",
    "                                            ,'area_code'   , row.area_code    \n",
    "                                            ,'phone'       , row.phone        \n",
    "                                            ,'dept'        , row.dept         \n",
    "                                            ,'job_title'   , row.job_title\n",
    "                 ,get_periodic(isn=c1.cb.isn, gsn='AQ', esn='AR', lgn='curr_code', lsn = 3)\n",
    "                 ,get_per_mult(isn=c1.cb.isn, gsn='AQ', esn='AT', lgn='bonus', lsn=9, upk=True, Int=True)                                \n",
    "                                            ,\"}\")    \n",
    "\n",
    "    lines+= 'Sequential Read by ISN returned '+str(count+1)+' record(s).'\n",
    "except DataEnd:\n",
    "    extraline+= 'Sequential Read by ISN returned '+str(count)+' record(s).'\n",
    "    pass\n",
    "except DatabaseError, (line, apa):\n",
    "    extraline+='Database Error:'+line\n",
    "                "
   ]
  },
  {
   "cell_type": "code",
   "execution_count": 49,
   "metadata": {
    "collapsed": false
   },
   "outputs": [],
   "source": [
    "line = lines.splitlines()"
   ]
  },
  {
   "cell_type": "code",
   "execution_count": 50,
   "metadata": {
    "collapsed": false
   },
   "outputs": [
    {
     "data": {
      "text/plain": [
       "['{\"isn\": 283, \"personnel_id\": \"11200308\", \"first_name\": \"MERIT\", \"middle_name\": \"\",\"name\": \"PTAH\", \"birth\": \"17-10-1948\", \"country\": \"D\",\"area_code\": \"06196\", \"phone\": \"299871\", \"dept\": \"FINA24\",\"job_title\": \"SACHBEARBEITERIN\", \"curr_code\": [\"EUR\", \"EUR\"], \"bonus\": [[1846, 2000, 500], [1743]]}',\n",
       " '{\"isn\": 284, \"personnel_id\": \"11200309\", \"first_name\": \"TANIA\", \"middle_name\": \"ISAK\",\"name\": \"DINESEN\", \"birth\": \"09-08-1944\", \"country\": \"D\",\"area_code\": \"069\", \"phone\": \"988711\", \"dept\": \"FINA24\",\"job_title\": \"BUCHHALTERIN\", \"curr_code\": [\"EUR\"], \"bonus\": [[2564, 2000, 3800]]}',\n",
       " '{\"isn\": 285, \"personnel_id\": \"11200312\", \"first_name\": \"JOHANNES\", \"middle_name\": \"MANFRED\",\"name\": \"BLOEMER\", \"birth\": \"07-11-1979\", \"country\": \"D\",\"area_code\": \"069\", \"phone\": \"775599\", \"dept\": \"FINA24\",\"job_title\": \"SACHBEARBEITER\", \"curr_code\": [\"EUR\", \"EUR\"], \"bonus\": [[2051, 1200, 2300], [1948]]}',\n",
       " '{\"isn\": 286, \"personnel_id\": \"11200313\", \"first_name\": \"SIMON\", \"middle_name\": \"BENJAMIN\",\"name\": \"LEIBACHER\", \"birth\": \"15-12-1952\", \"country\": \"D\",\"area_code\": \"069\", \"phone\": \"854329\", \"dept\": \"FINA24\",\"job_title\": \"BUCHHALTER\", \"curr_code\": [\"EUR\"], \"bonus\": [[1538, 1000, 500]]}',\n",
       " '{\"isn\": 287, \"personnel_id\": \"11200314\", \"first_name\": \"HORST\", \"middle_name\": \"WALTER\",\"name\": \"BECKER\", \"birth\": \"06-06-1958\", \"country\": \"D\",\"area_code\": \"06152\", \"phone\": \"842289\", \"dept\": \"FINA24\",\"job_title\": \"KASSIERER\", \"curr_code\": [\"EUR\", \"EUR\"], \"bonus\": [[1538, 2800, 2400], [1333]]}']"
      ]
     },
     "execution_count": 50,
     "metadata": {},
     "output_type": "execute_result"
    }
   ],
   "source": [
    "line[:5]"
   ]
  },
  {
   "cell_type": "code",
   "execution_count": 51,
   "metadata": {
    "collapsed": false
   },
   "outputs": [],
   "source": [
    "parsed = json.loads(line[0].decode('utf-8'))"
   ]
  },
  {
   "cell_type": "code",
   "execution_count": 52,
   "metadata": {
    "collapsed": false
   },
   "outputs": [
    {
     "data": {
      "text/plain": [
       "{u'area_code': u'06196',\n",
       " u'birth': u'17-10-1948',\n",
       " u'bonus': [[1846, 2000, 500], [1743]],\n",
       " u'country': u'D',\n",
       " u'curr_code': [u'EUR', u'EUR'],\n",
       " u'dept': u'FINA24',\n",
       " u'first_name': u'MERIT',\n",
       " u'isn': 283,\n",
       " u'job_title': u'SACHBEARBEITERIN',\n",
       " u'middle_name': u'',\n",
       " u'name': u'PTAH',\n",
       " u'personnel_id': u'11200308',\n",
       " u'phone': u'299871'}"
      ]
     },
     "execution_count": 52,
     "metadata": {},
     "output_type": "execute_result"
    }
   ],
   "source": [
    "parsed"
   ]
  },
  {
   "cell_type": "code",
   "execution_count": 36,
   "metadata": {
    "collapsed": false
   },
   "outputs": [
    {
     "data": {
      "text/plain": [
       "[[1846, 2000, 500], [1743]]"
      ]
     },
     "execution_count": 36,
     "metadata": {},
     "output_type": "execute_result"
    }
   ],
   "source": [
    "parsed['bonus']"
   ]
  }
 ],
 "metadata": {
  "kernelspec": {
   "display_name": "Python 2",
   "language": "python",
   "name": "python2"
  },
  "language_info": {
   "codemirror_mode": {
    "name": "ipython",
    "version": 2
   },
   "file_extension": ".py",
   "mimetype": "text/x-python",
   "name": "python",
   "nbconvert_exporter": "python",
   "pygments_lexer": "ipython2",
   "version": "2.7.12"
  }
 },
 "nbformat": 4,
 "nbformat_minor": 1
}
