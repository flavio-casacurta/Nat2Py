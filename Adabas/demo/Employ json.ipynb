{
 "cells": [
  {
   "cell_type": "code",
   "execution_count": 1,
   "metadata": {
    "collapsed": true
   },
   "outputs": [],
   "source": [
    "import json\n",
    "from adabas.api import *\n",
    "from adabas.datamap import *"
   ]
  },
  {
   "cell_type": "code",
   "execution_count": 2,
   "metadata": {
    "collapsed": true
   },
   "outputs": [],
   "source": [
    "from datetime import date\n",
    "mask_date = lambda data, mask='%d-%m-%Y': date.fromordinal(int(data[2:])-364).strftime(mask)"
   ]
  },
  {
   "cell_type": "code",
   "execution_count": 20,
   "metadata": {
    "collapsed": false
   },
   "outputs": [],
   "source": [
    "#campo elementar de um grupo periódico ou campo elementar múltiplo\n",
    "def get_periodic(isn = 0   # isn a ser pesquisado\n",
    "                ,gsn = ''  # grupo short name ou elementar multiplo    - FDT\n",
    "                ,esn = ''  # elementar short name - FDT\n",
    "                ,lgn = ''  # elementar long-name  - DDM\n",
    "                ,lsn = 0   # length elementar     - DDM\n",
    "                ,upk = ''  # unpack para colunas packeadas '' or True\n",
    "                ,scl = ''  # scale or ''          - DDM\n",
    "                ,Int = ''  # True para numéricos\n",
    "                 ):\n",
    "    ret = ''\n",
    "    try:\n",
    "        upk = ',U' if upk else ''\n",
    "        Str = '\"'\n",
    "        a.cb.isn=isn                 \n",
    "        if scl or Int:\n",
    "            Int = 'int('\n",
    "            Str = ''\n",
    "            if scl:\n",
    "                scl = ') * .{0:>0{1}}'.format('1', scl)\n",
    "            else:\n",
    "                scl = ')'\n",
    "\n",
    "        a.fb.value='{}C,002,B.'.format(gsn)\n",
    "        a.get(isn=a.cb.isn)\n",
    "        if a.rb.value:\n",
    "            occ=int(a.rb.value.encode('hex') ) # count occurs group\n",
    "            exec (\"row = Datamap('Rows', {})\".format(\"String('{lg}{}', {l}),\" * occ).format(lg=lgn, *range(1,occ+1), l=lsn))\n",
    "            row.buffer = a.rb\n",
    "            a.fb.value='{}1-{},{}{}.'.format(esn, occ, lsn, upk) \n",
    "            a.get(isn=a.cb.isn)\n",
    "            ret = eval(\"\"\"'\"{}\": [{}]'.format({})\"\"\".format( lgn, (Str+'{}'+Str+', ') * occ, ('{i}row.{ln}{}{sc}, '* occ).format(i=Int,ln=lgn,sc=scl,*range(1,occ+1))))    \n",
    "          #  ret = ret[:-3] + ']'\n",
    "            ret = ret.replace(', ]', ']')\n",
    "    except DatabaseError, (error,apa):\n",
    "        return error.split(':')[1]\n",
    "    return ret"
   ]
  },
  {
   "cell_type": "code",
   "execution_count": 21,
   "metadata": {
    "collapsed": false
   },
   "outputs": [],
   "source": [
    "DBID=12;FNR=11 \n",
    "STARTISN=200\n",
    "RCOUNT=5\n",
    "\n",
    "row=Datamap('rows',\n",
    "    String('personnel_id',  8), # aa 1\n",
    "    String('first_name',   20), # ac 2\n",
    "    String('middle_name',  20), # ad 3\n",
    "    String('name',         20), # ae 4\n",
    "    String('birth',         8), # ah 5\n",
    "    String('country',       3), # al 6\n",
    "    String('area_code',     6), # an 7\n",
    "    String('phone',        15), # am 8\n",
    "    String('dept',          6), # ao 9\n",
    "    String('job_title',    25)) # ap 10"
   ]
  },
  {
   "cell_type": "code",
   "execution_count": 22,
   "metadata": {
    "collapsed": false
   },
   "outputs": [],
   "source": [
    "lines=''                                         \n",
    "extraline=''                                     \n",
    "alter=False                                      \n",
    "c1=Adabas(rbl=256,fbl=64,sbl=32,vbl=128,ibl=0)   \n",
    "c1.cb.dbid=DBID\n",
    "c1.cb.fnr=FNR\n",
    "c1.cb.cid='1010'                                 \n",
    "c1.fb.value='AA,AC,AD,AE,AH,8,U,AL,AN,AM,AO,AP.' "
   ]
  },
  {
   "cell_type": "code",
   "execution_count": 23,
   "metadata": {
    "collapsed": true
   },
   "outputs": [],
   "source": [
    "a=Adabas(rbl=256,fbl=64,sbl=32,vbl=128,ibl=0)\n",
    "a.cb.dbid=12              \n",
    "a.cb.fnr=11                            "
   ]
  },
  {
   "cell_type": "code",
   "execution_count": 24,
   "metadata": {
    "collapsed": false
   },
   "outputs": [],
   "source": [
    "c1.cb.isn=STARTISN                                                                 \n",
    "# use emp Datamap on record buffer                                                 \n",
    "row.buffer=c1.rb                                                                   \n",
    "row.offset=0                                                                       \n",
    "                                                                                  \n",
    "count=0                                                                            \n",
    "                                                                                   \n",
    "try:                                                                               \n",
    "    for count in range(RCOUNT):                                                    \n",
    "        c1.readByIsn(getnext=1)                                                    \n",
    "                                                                                    \n",
    "        lines += \"\"\"{}\"{}\": \"{}\", \"{}\": \"{}\", \"{}\": \"{}\",\"\"\"\\\n",
    "                 \"\"\"\"{}\": \"{}\", \"{}\": \"{}\", \"{}\": \"{}\",\"\"\"\\\n",
    "                 \"\"\"\"{}\": \"{}\", \"{}\": \"{}\", \"{}\": \"{}\",\"\"\"\\\n",
    "                 \"\"\"\"{}\": \"{}\", {}{}\\n\"\"\".format(\"{\"\n",
    "                                            ,'personnel_id', row.personnel_id \n",
    "                                            ,'first_name'  , row.first_name   \n",
    "                                            ,'middle_name' , row.middle_name  \n",
    "                                            ,'name'        , row.name         \n",
    "                                            ,'birth'       , mask_date(row.birth)\n",
    "                                            ,'country'     , row.country      \n",
    "                                            ,'area_code'   , row.area_code    \n",
    "                                            ,'phone'       , row.phone        \n",
    "                                            ,'dept'        , row.dept         \n",
    "                                            ,'job_title'   , row.job_title\n",
    "                 ,get_periodic(isn=c1.cb.isn, gsn = 'AQ', esn = 'AR', lgn = 'curr_code', lsn = 3)\n",
    "                                            ,\"}\")    \n",
    "\n",
    "    lines+= 'Sequential Read by ISN returned '+str(count+1)+' record(s).'\n",
    "except DataEnd:\n",
    "    extraline+= 'Sequential Read by ISN returned '+str(count)+' record(s).'\n",
    "    pass\n",
    "except DatabaseError, (line, apa):\n",
    "    extraline+='Database Error:'+line\n",
    "                "
   ]
  },
  {
   "cell_type": "code",
   "execution_count": 25,
   "metadata": {
    "collapsed": false
   },
   "outputs": [],
   "source": [
    "line = lines.splitlines()"
   ]
  },
  {
   "cell_type": "code",
   "execution_count": 26,
   "metadata": {
    "collapsed": false
   },
   "outputs": [
    {
     "data": {
      "text/plain": [
       "['{\"personnel_id\": \"11400326\", \"first_name\": \"HEINRICH\", \"middle_name\": \"GUENTHER\",\"name\": \"SPENGLER\", \"birth\": \"10-03-1955\", \"country\": \"D\",\"area_code\": \"06151\", \"phone\": \"771233\", \"dept\": \"MARK29\",\"job_title\": \"SACHBEARBEITER\", \"curr_code\": [\"EUR\", \"EUR\", \"EUR\"]}',\n",
       " '{\"personnel_id\": \"11400327\", \"first_name\": \"FRANK\", \"middle_name\": \"HEINZ\",\"name\": \"SPECK\", \"birth\": \"22-07-1952\", \"country\": \"D\",\"area_code\": \"06151\", \"phone\": \"223344\", \"dept\": \"FINA24\",\"job_title\": \"SACHBEARBEITER\", \"curr_code\": [\"EUR\", \"EUR\"]}',\n",
       " '{\"personnel_id\": \"11400328\", \"first_name\": \"ANNA\", \"middle_name\": \"HEDWIG\",\"name\": \"SCHILLING\", \"birth\": \"12-01-1949\", \"country\": \"D\",\"area_code\": \"06151\", \"phone\": \"13426\", \"dept\": \"FINA24\",\"job_title\": \"SACHBEARBEITERIN\", \"curr_code\": [\"EUR\", \"EUR\"]}',\n",
       " '{\"personnel_id\": \"11100102\", \"first_name\": \"EDGAR\", \"middle_name\": \"PETER\",\"name\": \"SCHINDLER\", \"birth\": \"04-12-1962\", \"country\": \"D\",\"area_code\": \"06252\", \"phone\": \"12637\", \"dept\": \"COMP25\",\"job_title\": \"PROGRAMMIERER\", \"curr_code\": [\"EUR\", \"EUR\", \"EUR\", \"EUR\"]}',\n",
       " '{\"personnel_id\": \"11100105\", \"first_name\": \"CHRISTIAN\", \"middle_name\": \"\",\"name\": \"SCHIRM\", \"birth\": \"15-03-1961\", \"country\": \"D\",\"area_code\": \"06151\", \"phone\": \"129834\", \"dept\": \"COMP21\",\"job_title\": \"SYSTEMPROGRAMMIERER\", \"curr_code\": [\"EUR\", \"EUR\"]}']"
      ]
     },
     "execution_count": 26,
     "metadata": {},
     "output_type": "execute_result"
    }
   ],
   "source": [
    "line[:5]"
   ]
  },
  {
   "cell_type": "code",
   "execution_count": 27,
   "metadata": {
    "collapsed": false
   },
   "outputs": [],
   "source": [
    "parsed = json.loads(line[1].decode('utf-8'))"
   ]
  },
  {
   "cell_type": "code",
   "execution_count": 19,
   "metadata": {
    "collapsed": false
   },
   "outputs": [
    {
     "data": {
      "text/plain": [
       "{u'area_code': u'06151',\n",
       " u'birth': u'22-07-1952',\n",
       " u'country': u'D',\n",
       " u'curr_code': [u'EUR', u'EUR'],\n",
       " u'dept': u'FINA24',\n",
       " u'first_name': u'FRANK',\n",
       " u'job_title': u'SACHBEARBEITER',\n",
       " u'middle_name': u'HEINZ',\n",
       " u'name': u'SPECK',\n",
       " u'personnel_id': u'11400327',\n",
       " u'phone': u'223344'}"
      ]
     },
     "execution_count": 19,
     "metadata": {},
     "output_type": "execute_result"
    }
   ],
   "source": [
    "parsed"
   ]
  },
  {
   "cell_type": "code",
   "execution_count": null,
   "metadata": {
    "collapsed": true
   },
   "outputs": [],
   "source": []
  }
 ],
 "metadata": {
  "kernelspec": {
   "display_name": "Python 2",
   "language": "python",
   "name": "python2"
  },
  "language_info": {
   "codemirror_mode": {
    "name": "ipython",
    "version": 2
   },
   "file_extension": ".py",
   "mimetype": "text/x-python",
   "name": "python",
   "nbconvert_exporter": "python",
   "pygments_lexer": "ipython2",
   "version": "2.7.12"
  }
 },
 "nbformat": 4,
 "nbformat_minor": 1
}
