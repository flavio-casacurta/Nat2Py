{
 "cells": [
  {
   "cell_type": "code",
   "execution_count": 1,
   "metadata": {
    "collapsed": true
   },
   "outputs": [],
   "source": [
    "from adabas.api import *"
   ]
  },
  {
   "cell_type": "code",
   "execution_count": 2,
   "metadata": {
    "collapsed": true
   },
   "outputs": [],
   "source": [
    "DBID=12\n",
    "a = Adabas(rbl=64)\n",
    "a.dbid=DBID\n",
    "a.dumpcb=1"
   ]
  },
  {
   "cell_type": "code",
   "execution_count": 3,
   "metadata": {
    "collapsed": false
   },
   "outputs": [
    {
     "name": "stdout",
     "output_type": "stream",
     "text": [
      "After Adabas call\n",
      "cmd=OP op1/2=/ ad1='' dbid=12 fnr=0 rsp=0\n",
      "cid='\\x00\\x00\\x00\\x00' isn=0 isl=553779200 isq=100925696\n",
      "fbl=0, rbl=64, sbl=0, vbl=0, ibl=0\n",
      "ad3='', ad4='', ad5='    \\x00\\x00\\x00\\x00', cmdt=0, pdbid=0, pnucid=0\n",
      "Control Block <adabas.Cbuf object at 0x0000000004D04EC8>\n",
      "CB 0000 00004F50 00000000 00000000 00000000 ..OP............ ...&............\n",
      "CB 0010 00000221 00010406 00004000 00000000 ...!......@..... .......... .....\n",
      "CB 0020 00002020 20202020 20202020 00000000 ..          .... ................\n",
      "CB 0030 20202020 20202020 20202020 20202020                  ................\n",
      "CB 0040 20202020 00000000 00000000 00000000     ............ ................\n",
      "\n"
     ]
    }
   ],
   "source": [
    "a.open()"
   ]
  },
  {
   "cell_type": "code",
   "execution_count": 4,
   "metadata": {
    "collapsed": false
   },
   "outputs": [
    {
     "data": {
      "text/plain": [
       "[1, 3, 9, 11, 12, 13]"
      ]
     },
     "execution_count": 4,
     "metadata": {},
     "output_type": "execute_result"
    }
   ],
   "source": [
    "dic_fdt={}\n",
    "for fnr in xrange(1,99):\n",
    "    try:\n",
    "        dic_fdt[fnr]=[list(l) for l in readFDT(DBID, fnr, printfdt=False)]\n",
    "    except DatabaseError:\n",
    "        pass\n",
    "dic_fdt.keys()    "
   ]
  },
  {
   "cell_type": "code",
   "execution_count": 5,
   "metadata": {
    "collapsed": false
   },
   "outputs": [
    {
     "data": {
      "text/plain": [
       "[[1, 'AA', 8, 'A', ['DE', 'UQ']],\n",
       " [1, 'AB', None, None, []],\n",
       " [2, 'AC', 20, 'A', ['NU']],\n",
       " [2, 'AE', 20, 'A', ['DE', 'PHON PARENT', 'SUBP PARENT']],\n",
       " [2, 'AD', 20, 'A', ['NU']],\n",
       " [1, 'AF', 1, 'A', ['FI']],\n",
       " [1, 'AG', 1, 'A', ['FI']],\n",
       " [1, 'AH', 4, 'P', ['DE', 'NC']],\n",
       " [1, 'A1', None, None, []],\n",
       " [2, 'AI', 20, 'A', ['MU', 'NU']],\n",
       " [2, 'AJ', 20, 'A', ['DE', 'NU']],\n",
       " [2, 'AK', 10, 'A', ['NU']],\n",
       " [2, 'AL', 3, 'A', ['NU']],\n",
       " [1, 'A2', None, None, []],\n",
       " [2, 'AN', 6, 'A', ['NU']],\n",
       " [2, 'AM', 15, 'A', ['NU']],\n",
       " [1, 'AO', 6, 'A', ['DE', 'SUBP PARENT']],\n",
       " [1, 'AP', 25, 'A', ['DE', 'NU']],\n",
       " [1, 'AQ', None, None, ['PE']],\n",
       " [2, 'AR', 3, 'A', ['NU', 'PE', 'SUBP PARENT']],\n",
       " [2, 'AS', 5, 'P', ['NU', 'PE', 'SUBP PARENT']],\n",
       " [2, 'AT', 5, 'P', ['MU', 'NU', 'PE']],\n",
       " [1, 'A3', None, None, []],\n",
       " [2, 'AU', 2, 'U', ['SUBP PARENT']],\n",
       " [2, 'AV', 2, 'U', ['NU', 'SUBP PARENT']],\n",
       " [1, 'AW', None, None, ['PE']],\n",
       " [2, 'AX', 8, 'U', ['NU', 'PE']],\n",
       " [2, 'AY', 8, 'U', ['NU', 'PE']],\n",
       " [1, 'AZ', 3, 'A', ['DE', 'MU', 'NU']]]"
      ]
     },
     "execution_count": 5,
     "metadata": {},
     "output_type": "execute_result"
    }
   ],
   "source": [
    "dic_fdt[11]"
   ]
  },
  {
   "cell_type": "raw",
   "metadata": {},
   "source": [
    "a.close()"
   ]
  },
  {
   "cell_type": "code",
   "execution_count": null,
   "metadata": {
    "collapsed": true
   },
   "outputs": [],
   "source": []
  }
 ],
 "metadata": {
  "kernelspec": {
   "display_name": "Python 2",
   "language": "python",
   "name": "python2"
  },
  "language_info": {
   "codemirror_mode": {
    "name": "ipython",
    "version": 2
   },
   "file_extension": ".py",
   "mimetype": "text/x-python",
   "name": "python",
   "nbconvert_exporter": "python",
   "pygments_lexer": "ipython2",
   "version": "2.7.12"
  }
 },
 "nbformat": 4,
 "nbformat_minor": 1
}
