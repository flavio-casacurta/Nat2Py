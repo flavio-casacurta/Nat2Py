{
 "cells": [
  {
   "cell_type": "code",
   "execution_count": 1,
   "metadata": {
    "collapsed": true
   },
   "outputs": [],
   "source": [
    "from adabas.api import *"
   ]
  },
  {
   "cell_type": "code",
   "execution_count": 2,
   "metadata": {
    "collapsed": true
   },
   "outputs": [],
   "source": [
    "DBID=12\n",
    "a = Adabas(rbl=64)\n",
    "a.dbid=DBID\n",
    "a.dumpcb=1"
   ]
  },
  {
   "cell_type": "code",
   "execution_count": 3,
   "metadata": {
    "collapsed": false
   },
   "outputs": [
    {
     "name": "stdout",
     "output_type": "stream",
     "text": [
      "After Adabas call\n",
      "cmd=OP op1/2=/ ad1='' dbid=12 fnr=0 rsp=0\n",
      "cid='\\x00\\x00\\x00\\x00' isn=0 isl=553779200 isq=100925696\n",
      "fbl=0, rbl=64, sbl=0, vbl=0, ibl=0\n",
      "ad3='', ad4='', ad5='    \\x00\\x00\\x00\\x00', cmdt=0, pdbid=0, pnucid=0\n",
      "Control Block <adabas.Cbuf object at 0x00000000052C4EC8>\n",
      "CB 0000 00004F50 00000000 00000000 00000000 ..OP............ ...&............\n",
      "CB 0010 00000221 00010406 00004000 00000000 ...!......@..... .......... .....\n",
      "CB 0020 00002020 20202020 20202020 00000000 ..          .... ................\n",
      "CB 0030 20202020 20202020 20202020 20202020                  ................\n",
      "CB 0040 20202020 00000000 00000000 00000000     ............ ................\n",
      "\n"
     ]
    }
   ],
   "source": [
    "a.open()"
   ]
  },
  {
   "cell_type": "code",
   "execution_count": 4,
   "metadata": {
    "collapsed": false
   },
   "outputs": [
    {
     "data": {
      "text/plain": [
       "[1, 3, 9, 11, 12, 13]"
      ]
     },
     "execution_count": 4,
     "metadata": {},
     "output_type": "execute_result"
    }
   ],
   "source": [
    "dic_fdt={}\n",
    "for fnr in xrange(1,99):\n",
    "    try:\n",
    "        dic_fdt[fnr]=[list(l) for l in readFDT(DBID, fnr, printfdt=False)]\n",
    "    except DatabaseError:\n",
    "        pass\n",
    "dic_fdt.keys()    "
   ]
  },
  {
   "cell_type": "code",
   "execution_count": 7,
   "metadata": {
    "collapsed": false
   },
   "outputs": [
    {
     "data": {
      "text/plain": [
       "[[1, 'CA', 8, 'A', ['DE', 'NU', 'SUBP PARENT']],\n",
       " [1, 'CB', 1, 'A', ['NU', 'SUBP PARENT']],\n",
       " [1, 'CC', None, None, ['PE']],\n",
       " [2, 'CD', 20, 'A', ['DE', 'NU', 'PE']],\n",
       " [2, 'CE', 6, 'U', ['NU', 'PE']],\n",
       " [2, 'CF', 50, 'A', ['MU', 'NU', 'PE']],\n",
       " [1, 'CG', None, None, ['PE']],\n",
       " [2, 'CI', 25, 'A', ['NU', 'PE']],\n",
       " [2, 'CJ', 6, 'A', ['DE', 'NU', 'PE']],\n",
       " [2, 'CK', 6, 'U', ['NU', 'PE']],\n",
       " [2, 'CL', 6, 'U', ['NU', 'PE']],\n",
       " [2, 'CM', 20, 'A', ['MU', 'NU', 'PE']],\n",
       " [1, 'EA', 8, 'U', ['DE', 'NU']],\n",
       " [1, 'EB', 32, 'A', ['DE', 'NU']],\n",
       " [1, 'EC', 8, 'U', ['NU']],\n",
       " [1, 'ED', 9, 'U', ['NU']],\n",
       " [1, 'FA', 8, 'U', ['DE', 'NU']],\n",
       " [1, 'FB', 20, 'A', ['DE', 'NU']],\n",
       " [1, 'FC', 20, 'A', ['NU']],\n",
       " [1, 'FD', 25, 'A', ['NU']],\n",
       " [1, 'FE', 10, 'A', ['NU']],\n",
       " [1, 'GA', 8, 'U', ['DE', 'NU']],\n",
       " [1, 'GB', 8, 'U', ['DE', 'NU']],\n",
       " [1, 'GC', 8, 'A', ['NU']],\n",
       " [1, 'GD', 11, 'U', ['NU']],\n",
       " [1, 'HA', 8, 'U', ['DE', 'NU']],\n",
       " [1, 'HB', 8, 'U', ['NU']],\n",
       " [1, 'HC', 6, 'U', ['NU']],\n",
       " [1, 'HD', 9, 'U', ['NU']],\n",
       " [1, 'KA', 8, 'U', ['DE', 'NU']],\n",
       " [1, 'KB', 8, 'U', ['DE', 'NU']],\n",
       " [1, 'KC', 1, 'A', ['DE', 'NU']],\n",
       " [1, 'KD', 35, 'A', ['NU']],\n",
       " [1, 'KE', 35, 'A', ['DE', 'NU']],\n",
       " [1, 'KF', 35, 'A', ['DE', 'NU']],\n",
       " [1, 'KG', None, None, ['PE']],\n",
       " [2, 'KH', 20, 'A', ['DE', 'NU', 'PE']],\n",
       " [2, 'KI', 20, 'A', ['DE', 'NU', 'PE']],\n",
       " [2, 'KJ', 4, 'U', ['NU', 'PE']],\n",
       " [2, 'KK', 35, 'A', ['NU', 'PE']],\n",
       " [1, 'KL', None, None, ['PE']],\n",
       " [2, 'KM', 8, 'U', ['DE', 'NU', 'PE']],\n",
       " [2, 'KN', 8, 'U', ['NU', 'PE']],\n",
       " [1, 'KO', None, None, ['PE']],\n",
       " [2, 'KP', 8, 'U', ['DE', 'NU', 'PE']],\n",
       " [2, 'KQ', 1, 'A', ['NU', 'PE']],\n",
       " [2, 'KR', 1, 'A', ['NU', 'PE']],\n",
       " [2, 'KS', 1, 'A', ['NU', 'PE']],\n",
       " [2, 'KT', 1, 'A', ['NU', 'PE']],\n",
       " [2, 'KU', 1, 'A', ['NU', 'PE']],\n",
       " [2, 'KV', 1, 'A', ['NU', 'PE']],\n",
       " [2, 'KW', 60, 'A', ['MU', 'NU', 'PE']],\n",
       " [1, 'KX', 20, 'A', ['NU']],\n",
       " [1, 'KY', 20, 'A', ['NU']],\n",
       " [1, 'LA', 8, 'U', ['DE', 'NU']],\n",
       " [1, 'LB', 35, 'A', ['NU']],\n",
       " [1, 'LD', 35, 'A', ['NU']],\n",
       " [1, 'LE', 20, 'A', ['NU']],\n",
       " [1, 'LF', 4, 'U', ['NU']],\n",
       " [1, 'LG', 35, 'A', ['NU']],\n",
       " [1, 'LH', 20, 'A', ['NU']],\n",
       " [1, 'LI', 20, 'A', ['NU']],\n",
       " [1, 'MA', 8, 'U', ['DE', 'NU']],\n",
       " [1, 'MB', 8, 'U', ['NU']],\n",
       " [1, 'MC', 35, 'A', ['DE', 'NU']],\n",
       " [1, 'MD', 35, 'A', ['DE', 'NU']],\n",
       " [1, 'ME', 20, 'A', ['NU']],\n",
       " [1, 'MF', 20, 'A', ['NU']],\n",
       " [1, 'OA', 8, 'U', ['DE', 'NU']],\n",
       " [1, 'OB', 8, 'U', ['NU']],\n",
       " [1, 'OE', 20, 'A', ['DE', 'NU']],\n",
       " [1, 'OF', 4, 'U', ['NU']],\n",
       " [1, 'OG', 35, 'A', ['NU']],\n",
       " [1, 'OH', 4, 'U', ['DE', 'NU']],\n",
       " [1, 'OI', 1, 'U', ['DE', 'NU']],\n",
       " [1, 'OJ', 20, 'A', ['NU']],\n",
       " [1, 'OK', 20, 'A', ['NU']],\n",
       " [1, 'A0', 30, 'A', ['DE', 'NU']],\n",
       " [1, 'A1', 30, 'A', ['DE', 'NU']],\n",
       " [1, 'A2', 30, 'A', ['DE', 'NU']],\n",
       " [1, 'A3', 30, 'A', ['DE', 'NU']],\n",
       " [1, 'A4', 30, 'A', ['DE', 'NU']],\n",
       " [1, 'A5', 30, 'A', ['DE', 'NU']],\n",
       " [1, 'A6', 30, 'A', ['DE', 'NU']],\n",
       " [1, 'A7', 30, 'A', ['DE', 'MU', 'NU']],\n",
       " [1, 'A8', 30, 'A', ['DE', 'MU', 'NU']],\n",
       " [1, 'A9', 30, 'A', ['DE', 'MU', 'NU']],\n",
       " [1, 'AA', 30, 'A', ['NU']],\n",
       " [1, 'AB', 30, 'A', ['NU']],\n",
       " [1, 'AC', 30, 'A', ['NU']],\n",
       " [1, 'AD', 30, 'A', ['NU']],\n",
       " [1, 'AE', 30, 'A', ['NU']],\n",
       " [1, 'AF', 30, 'A', ['NU']],\n",
       " [1, 'AG', 30, 'A', ['NU']],\n",
       " [1, 'AH', 30, 'A', ['NU']],\n",
       " [1, 'AI', 30, 'A', ['NU']],\n",
       " [1, 'AJ', 30, 'A', ['NU']],\n",
       " [1, 'AK', 30, 'A', ['NU']],\n",
       " [1, 'AL', 30, 'A', ['NU']],\n",
       " [1, 'AM', 30, 'A', ['NU']],\n",
       " [1, 'AN', 30, 'A', ['NU']],\n",
       " [1, 'AO', 30, 'A', ['NU']],\n",
       " [1, 'AP', 30, 'A', ['NU']],\n",
       " [1, 'AQ', 30, 'A', ['NU']],\n",
       " [1, 'AR', 30, 'A', ['NU']],\n",
       " [1, 'AS', 30, 'A', ['NU']],\n",
       " [1, 'AT', 30, 'A', ['NU']],\n",
       " [1, 'AU', 30, 'A', ['MU', 'NU']],\n",
       " [1, 'AV', 30, 'A', ['MU', 'NU']],\n",
       " [1, 'AW', 30, 'A', ['MU', 'NU']],\n",
       " [1, 'AX', 30, 'A', ['MU', 'NU']],\n",
       " [1, 'AY', 30, 'A', ['MU', 'NU']],\n",
       " [1, 'AZ', 30, 'A', ['MU', 'NU']],\n",
       " [1, 'B0', 4, 'B', ['DE', 'NU']],\n",
       " [1, 'B1', 4, 'B', ['DE', 'NU']],\n",
       " [1, 'B2', 4, 'B', ['DE', 'NU']],\n",
       " [1, 'B3', 4, 'B', ['DE', 'MU', 'NU']],\n",
       " [1, 'B4', 4, 'B', ['DE', 'MU', 'NU']],\n",
       " [1, 'BA', 4, 'B', ['NU']],\n",
       " [1, 'BB', 4, 'B', ['NU']],\n",
       " [1, 'BC', 4, 'B', ['NU']],\n",
       " [1, 'BD', 4, 'B', ['MU', 'NU']],\n",
       " [1, 'BE', 4, 'B', ['MU', 'NU']],\n",
       " [1, 'BF', 4, 'B', ['MU', 'NU']],\n",
       " [1, 'N0', 20, 'U', ['DE', 'NU']],\n",
       " [1, 'N1', 20, 'U', ['DE', 'NU']],\n",
       " [1, 'N2', 20, 'U', ['DE', 'NU']],\n",
       " [1, 'N3', 20, 'U', ['DE', 'MU', 'NU']],\n",
       " [1, 'N4', 20, 'U', ['DE', 'MU', 'NU']],\n",
       " [1, 'NA', 20, 'U', ['NU']],\n",
       " [1, 'NB', 20, 'U', ['NU']],\n",
       " [1, 'NC', 20, 'U', ['NU']],\n",
       " [1, 'ND', 20, 'U', ['NU']],\n",
       " [1, 'NE', 20, 'U', ['NU']],\n",
       " [1, 'NF', 20, 'U', ['NU']],\n",
       " [1, 'NG', 20, 'U', ['NU']],\n",
       " [1, 'NH', 20, 'U', ['NU']],\n",
       " [1, 'NI', 20, 'U', ['NU']],\n",
       " [1, 'NJ', 20, 'U', ['NU']],\n",
       " [1, 'NK', 20, 'U', ['NU']],\n",
       " [1, 'NL', 20, 'U', ['NU']],\n",
       " [1, 'NM', 20, 'U', ['MU', 'NU']],\n",
       " [1, 'NN', 20, 'U', ['MU', 'NU']],\n",
       " [1, 'NO', 20, 'U', ['MU', 'NU']],\n",
       " [1, 'P0', 6, 'P', ['DE', 'NU']],\n",
       " [1, 'P1', 6, 'P', ['DE', 'NU']],\n",
       " [1, 'P2', 6, 'P', ['DE', 'NU']],\n",
       " [1, 'P3', 6, 'P', ['DE', 'MU', 'NU']],\n",
       " [1, 'P4', 6, 'P', ['DE', 'MU', 'NU']],\n",
       " [1, 'PA', 6, 'P', ['NU']],\n",
       " [1, 'PB', 6, 'P', ['NU']],\n",
       " [1, 'PC', 6, 'P', ['NU']],\n",
       " [1, 'PD', 6, 'P', ['NU']],\n",
       " [1, 'PE', 6, 'P', ['NU']],\n",
       " [1, 'PF', 6, 'P', ['NU']],\n",
       " [1, 'PG', 6, 'P', ['NU']],\n",
       " [1, 'PH', 6, 'P', ['NU']],\n",
       " [1, 'PI', 6, 'P', ['NU']],\n",
       " [1, 'PJ', 6, 'P', ['NU']],\n",
       " [1, 'PK', 6, 'P', ['NU']],\n",
       " [1, 'PL', 6, 'P', ['NU']],\n",
       " [1, 'PM', 6, 'P', ['MU', 'NU']],\n",
       " [1, 'PN', 6, 'P', ['MU', 'NU']],\n",
       " [1, 'PO', 6, 'P', ['MU', 'NU']],\n",
       " [1, 'X1', None, None, ['PE']],\n",
       " [2, 'XA', 30, 'A', ['DE', 'NU', 'PE']],\n",
       " [2, 'XB', 30, 'A', ['DE', 'MU', 'NU', 'PE']],\n",
       " [2, 'XC', 30, 'A', ['NU', 'PE']],\n",
       " [2, 'XD', 30, 'A', ['NU', 'PE']],\n",
       " [2, 'XE', 30, 'A', ['NU', 'PE']],\n",
       " [2, 'XF', 4, 'B', ['DE', 'NU', 'PE']],\n",
       " [2, 'XG', 4, 'B', ['NU', 'PE']],\n",
       " [2, 'XH', 20, 'U', ['DE', 'NU', 'PE']],\n",
       " [2, 'XI', 20, 'U', ['DE', 'MU', 'NU', 'PE']],\n",
       " [2, 'XJ', 20, 'U', ['NU', 'PE']],\n",
       " [2, 'XK', 20, 'U', ['NU', 'PE']],\n",
       " [2, 'XL', 20, 'U', ['NU', 'PE']],\n",
       " [2, 'XM', 6, 'P', ['DE', 'NU', 'PE']],\n",
       " [2, 'XN', 6, 'P', ['DE', 'MU', 'NU', 'PE']],\n",
       " [2, 'XO', 6, 'P', ['NU', 'PE']],\n",
       " [2, 'XP', 6, 'P', ['NU', 'PE']],\n",
       " [2, 'XQ', 6, 'P', ['NU', 'PE']],\n",
       " [1, 'Y1', None, None, ['PE']],\n",
       " [2, 'YA', 30, 'A', ['DE', 'NU', 'PE']],\n",
       " [2, 'YB', 30, 'A', ['DE', 'MU', 'NU', 'PE']],\n",
       " [2, 'YC', 30, 'A', ['NU', 'PE']],\n",
       " [2, 'YD', 30, 'A', ['NU', 'PE']],\n",
       " [2, 'YE', 30, 'A', ['NU', 'PE']],\n",
       " [2, 'YF', 4, 'B', ['DE', 'NU', 'PE']],\n",
       " [2, 'YG', 4, 'B', ['NU', 'PE']],\n",
       " [2, 'YH', 20, 'U', ['DE', 'NU', 'PE']],\n",
       " [2, 'YI', 20, 'U', ['DE', 'MU', 'NU', 'PE']],\n",
       " [2, 'YJ', 20, 'U', ['NU', 'PE']],\n",
       " [2, 'YK', 20, 'U', ['NU', 'PE']],\n",
       " [2, 'YL', 20, 'U', ['NU', 'PE']],\n",
       " [2, 'YM', 6, 'P', ['DE', 'NU', 'PE']],\n",
       " [2, 'YN', 6, 'P', ['DE', 'MU', 'NU', 'PE']],\n",
       " [2, 'YO', 6, 'P', ['NU', 'PE']],\n",
       " [2, 'YP', 6, 'P', ['NU', 'PE']],\n",
       " [2, 'YQ', 6, 'P', ['NU', 'PE']]]"
      ]
     },
     "execution_count": 7,
     "metadata": {},
     "output_type": "execute_result"
    }
   ],
   "source": [
    "dic_fdt[13]"
   ]
  },
  {
   "cell_type": "raw",
   "metadata": {},
   "source": [
    "a.close()"
   ]
  }
 ],
 "metadata": {
  "kernelspec": {
   "display_name": "Python 2",
   "language": "python",
   "name": "python2"
  },
  "language_info": {
   "codemirror_mode": {
    "name": "ipython",
    "version": 2
   },
   "file_extension": ".py",
   "mimetype": "text/x-python",
   "name": "python",
   "nbconvert_exporter": "python",
   "pygments_lexer": "ipython2",
   "version": "2.7.12"
  }
 },
 "nbformat": 4,
 "nbformat_minor": 1
}
