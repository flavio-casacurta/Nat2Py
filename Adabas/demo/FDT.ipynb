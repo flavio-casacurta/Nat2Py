{
 "cells": [
  {
   "cell_type": "code",
   "execution_count": 1,
   "metadata": {
    "collapsed": true
   },
   "outputs": [],
   "source": [
    "from adabas.api import *"
   ]
  },
  {
   "cell_type": "code",
   "execution_count": 2,
   "metadata": {
    "collapsed": true
   },
   "outputs": [],
   "source": [
    "DBID=12\n",
    "a = Adabas(rbl=64)\n",
    "a.dbid=DBID\n",
    "a.dumpcb=0"
   ]
  },
  {
   "cell_type": "code",
   "execution_count": 3,
   "metadata": {
    "collapsed": false
   },
   "outputs": [],
   "source": [
    "try:\n",
    "    a.open()\n",
    "except DatabaseError, (error, apa):\n",
    "    print error.split(':')[1]\n"
   ]
  },
  {
   "cell_type": "code",
   "execution_count": 4,
   "metadata": {
    "collapsed": false
   },
   "outputs": [
    {
     "data": {
      "text/plain": [
       "[11]"
      ]
     },
     "execution_count": 4,
     "metadata": {},
     "output_type": "execute_result"
    }
   ],
   "source": [
    "dic_fdt={}\n",
    "fnr = 11\n",
    "try:\n",
    "    dic_fdt[fnr]=[list(l) for l in readFDT(DBID, fnr, printfdt=False)]\n",
    "    fnr_fdt = readFDT(DBID, fnr, printfdt=False)\n",
    "except DatabaseError, (error,apa):\n",
    "    error = error.split(':')[1]\n",
    "    print error[:error.find('-')]\n",
    "dic_fdt.keys()    "
   ]
  },
  {
   "cell_type": "code",
   "execution_count": 5,
   "metadata": {
    "collapsed": false
   },
   "outputs": [
    {
     "data": {
      "text/plain": [
       "[[1, 'AA', 8, 'A', ['DE', 'UQ']],\n",
       " [1, 'AB', None, None, []],\n",
       " [2, 'AC', 20, 'A', ['NU']],\n",
       " [2, 'AE', 20, 'A', ['DE', 'PHON PARENT', 'SUBP PARENT']],\n",
       " [2, 'AD', 20, 'A', ['NU']],\n",
       " [1, 'AF', 1, 'A', ['FI']],\n",
       " [1, 'AG', 1, 'A', ['FI']],\n",
       " [1, 'AH', 4, 'P', ['DE', 'NC']],\n",
       " [1, 'A1', None, None, []],\n",
       " [2, 'AI', 20, 'A', ['MU', 'NU']],\n",
       " [2, 'AJ', 20, 'A', ['DE', 'NU']],\n",
       " [2, 'AK', 10, 'A', ['NU']],\n",
       " [2, 'AL', 3, 'A', ['NU']],\n",
       " [1, 'A2', None, None, []],\n",
       " [2, 'AN', 6, 'A', ['NU']],\n",
       " [2, 'AM', 15, 'A', ['NU']],\n",
       " [1, 'AO', 6, 'A', ['DE', 'SUBP PARENT']],\n",
       " [1, 'AP', 25, 'A', ['DE', 'NU']],\n",
       " [1, 'AQ', None, None, ['PE']],\n",
       " [2, 'AR', 3, 'A', ['NU', 'PE', 'SUBP PARENT']],\n",
       " [2, 'AS', 5, 'P', ['NU', 'PE', 'SUBP PARENT']],\n",
       " [2, 'AT', 5, 'P', ['MU', 'NU', 'PE']],\n",
       " [1, 'A3', None, None, []],\n",
       " [2, 'AU', 2, 'U', ['SUBP PARENT']],\n",
       " [2, 'AV', 2, 'U', ['NU', 'SUBP PARENT']],\n",
       " [1, 'AW', None, None, ['PE']],\n",
       " [2, 'AX', 8, 'U', ['NU', 'PE']],\n",
       " [2, 'AY', 8, 'U', ['NU', 'PE']],\n",
       " [1, 'AZ', 3, 'A', ['DE', 'MU', 'NU']]]"
      ]
     },
     "execution_count": 5,
     "metadata": {},
     "output_type": "execute_result"
    }
   ],
   "source": [
    "dic_fdt.get(fnr, None)"
   ]
  },
  {
   "cell_type": "code",
   "execution_count": null,
   "metadata": {
    "collapsed": false
   },
   "outputs": [],
   "source": [
    "fnr_fdt"
   ]
  },
  {
   "cell_type": "raw",
   "metadata": {},
   "source": [
    "a.close()"
   ]
  },
  {
   "cell_type": "code",
   "execution_count": null,
   "metadata": {
    "collapsed": false
   },
   "outputs": [],
   "source": [
    "run dblist.py"
   ]
  },
  {
   "cell_type": "code",
   "execution_count": null,
   "metadata": {
    "collapsed": true
   },
   "outputs": [],
   "source": []
  }
 ],
 "metadata": {
  "kernelspec": {
   "display_name": "Python 2",
   "language": "python",
   "name": "python2"
  },
  "language_info": {
   "codemirror_mode": {
    "name": "ipython",
    "version": 2
   },
   "file_extension": ".py",
   "mimetype": "text/x-python",
   "name": "python",
   "nbconvert_exporter": "python",
   "pygments_lexer": "ipython2",
   "version": "2.7.12"
  }
 },
 "nbformat": 4,
 "nbformat_minor": 1
}
