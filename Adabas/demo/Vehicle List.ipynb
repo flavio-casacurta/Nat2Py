{
 "cells": [
  {
   "cell_type": "code",
   "execution_count": 1,
   "metadata": {
    "collapsed": true
   },
   "outputs": [],
   "source": [
    "import cStringIO\n",
    "import os,sys\n",
    "import string\n",
    "import adabas\n",
    "from adabas.api import *\n",
    "from adabas.datamap import *"
   ]
  },
  {
   "cell_type": "code",
   "execution_count": 2,
   "metadata": {
    "collapsed": true
   },
   "outputs": [],
   "source": [
    "DBID=12;FNR=12 # Vehicle file\n",
    "STARTISN=0\n",
    "RCOUNT=5\n",
    "# define the mapping of data in record buffer to attributes\n",
    "# of Vehicle class\n",
    "\n",
    "# create datamap object for Vehicle-List\n",
    "emp=Datamap('Vehicle',\n",
    "    String('reg_num',      15),\n",
    "    Bytes('chassis_num',    4),\n",
    "    String('personnel_id',  8))"
   ]
  },
  {
   "cell_type": "code",
   "execution_count": 6,
   "metadata": {
    "collapsed": true
   },
   "outputs": [],
   "source": [
    "mask_bytes = lambda bytes : '{:<08}'.format(bytes.encode('hex').upper())"
   ]
  },
  {
   "cell_type": "code",
   "execution_count": 7,
   "metadata": {
    "collapsed": false
   },
   "outputs": [],
   "source": [
    "lines=''                                         \n",
    "extraline=''                                     \n",
    "alter=False                                      \n",
    "c1=Adabas(rbl=256,fbl=64,sbl=32,vbl=128,ibl=0)   \n",
    "c1.cb.dbid=DBID\n",
    "c1.cb.fnr=FNR\n",
    "c1.cb.cid='1010'                                 \n",
    "c1.fb.value='AA,AB,AC.' \n"
   ]
  },
  {
   "cell_type": "code",
   "execution_count": 8,
   "metadata": {
    "collapsed": false
   },
   "outputs": [],
   "source": [
    "c1.cb.isn=STARTISN                                                                 \n",
    "# use emp Datamap on record buffer                                                 \n",
    "emp.buffer=c1.rb                                                                   \n",
    "emp.offset=0                                                                       \n",
    "                                                                                  \n",
    "count=0                                                                            \n",
    "                                                                                   \n",
    "try:                                                                               \n",
    "    for count in range(RCOUNT):                                                    \n",
    "        c1.readByIsn(getnext=1)                                                    \n",
    "                                                                                    \n",
    "        lines += \"{} - {} - {}\\n\".format(\n",
    "                emp.reg_num,\n",
    "                mask_bytes(emp.chassis_num),\n",
    "                emp.personnel_id)\n",
    "    extraline+= 'Sequential Read by ISN returned '+str(count+1)+' record(s).'\n",
    "except DataEnd:\n",
    "    extraline+= 'Sequential Read by ISN returned '+str(count)+' record(s).'\n",
    "    pass\n",
    "except DatabaseError, (line, apa):\n",
    "    extraline+='</table><br>Database Error:'+line\n",
    "                "
   ]
  },
  {
   "cell_type": "code",
   "execution_count": 9,
   "metadata": {
    "collapsed": false
   },
   "outputs": [
    {
     "name": "stdout",
     "output_type": "stream",
     "text": [
      "344RG94 - 235B0000 - 50000100\n",
      "401HH75 - 4C040000 - 50000200\n",
      "999YH75 - 4C040000 - 50000300\n",
      "65VW75 - B9820100 - 50000400\n",
      "71KL75 - 9B720100 - 50000500\n",
      "\n"
     ]
    }
   ],
   "source": [
    "print lines\n"
   ]
  },
  {
   "cell_type": "code",
   "execution_count": 10,
   "metadata": {
    "collapsed": false
   },
   "outputs": [
    {
     "name": "stdout",
     "output_type": "stream",
     "text": [
      "Sequential Read by ISN returned 4 record(s).\n"
     ]
    }
   ],
   "source": [
    "print extraline"
   ]
  }
 ],
 "metadata": {
  "kernelspec": {
   "display_name": "Python 2",
   "language": "python",
   "name": "python2"
  },
  "language_info": {
   "codemirror_mode": {
    "name": "ipython",
    "version": 2
   },
   "file_extension": ".py",
   "mimetype": "text/x-python",
   "name": "python",
   "nbconvert_exporter": "python",
   "pygments_lexer": "ipython2",
   "version": "2.7.12"
  }
 },
 "nbformat": 4,
 "nbformat_minor": 1
}
