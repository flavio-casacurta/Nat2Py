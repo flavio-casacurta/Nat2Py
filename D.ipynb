{
 "cells": [
  {
   "cell_type": "code",
   "execution_count": 19,
   "metadata": {
    "collapsed": false
   },
   "outputs": [
    {
     "name": "stdout",
     "output_type": "stream",
     "text": [
      "0,ind\n"
     ]
    }
   ],
   "source": [
    "fld = \"CAMPO-PE2-MULTIPLO(1,ind)\"\n",
    "fld, idx = fld.split('(')[:]\n",
    "idx = idx[:-1]\n",
    "for i in idx.split(','):\n",
    "    if i.isdigit():\n",
    "        idx = idx.replace(i, str(int(i)-1), 1)\n",
    "print idx"
   ]
  },
  {
   "cell_type": "code",
   "execution_count": null,
   "metadata": {
    "collapsed": true
   },
   "outputs": [],
   "source": []
  }
 ],
 "metadata": {
  "kernelspec": {
   "display_name": "Python 2",
   "language": "python",
   "name": "python2"
  },
  "language_info": {
   "codemirror_mode": {
    "name": "ipython",
    "version": 2
   },
   "file_extension": ".py",
   "mimetype": "text/x-python",
   "name": "python",
   "nbconvert_exporter": "python",
   "pygments_lexer": "ipython2",
   "version": "2.7.12"
  }
 },
 "nbformat": 4,
 "nbformat_minor": 1
}
