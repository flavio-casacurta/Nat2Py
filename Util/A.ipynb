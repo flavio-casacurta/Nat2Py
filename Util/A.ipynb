{
 "cells": [
  {
   "cell_type": "code",
   "execution_count": 3,
   "metadata": {
    "collapsed": false
   },
   "outputs": [],
   "source": [
    "from DirFileList import *\n",
    "from HOFs import *\n",
    "\n",
    "path = r'C:\\Natural\\Originais\\PGM'\n",
    "\n",
    "ehPgm = lambda pgm: pgm[-3:].upper() == 'NSN' or pgm[-3:].upper() == 'NSP'\n",
    "\n",
    "dirFileList = DirFileList()\n",
    "dirFileList.setDirFileList(path)\n",
    "pgmList = dirFileList.getDirFileList()\n"
   ]
  },
  {
   "cell_type": "code",
   "execution_count": 6,
   "metadata": {
    "collapsed": false
   },
   "outputs": [],
   "source": [
    "pgm = pgmList[0]\n",
    "lines = open(pgm).readlines()\n",
    "clearLines =  map(l472, filter(both(isNotBlank, isNotRem), lines))\n",
    "lPgm = clearLines[clearLines.index(filter(isEndDefine, clearLines)[0])+1:]"
   ]
  },
  {
   "cell_type": "code",
   "execution_count": 12,
   "metadata": {
    "collapsed": false
   },
   "outputs": [],
   "source": [
    "import os"
   ]
  },
  {
   "cell_type": "code",
   "execution_count": 15,
   "metadata": {
    "collapsed": false
   },
   "outputs": [],
   "source": [
    "run firstword2.py"
   ]
  }
 ],
 "metadata": {
  "kernelspec": {
   "display_name": "Python 2",
   "language": "python",
   "name": "python2"
  },
  "language_info": {
   "codemirror_mode": {
    "name": "ipython",
    "version": 2
   },
   "file_extension": ".py",
   "mimetype": "text/x-python",
   "name": "python",
   "nbconvert_exporter": "python",
   "pygments_lexer": "ipython2",
   "version": "2.7.12"
  }
 },
 "nbformat": 4,
 "nbformat_minor": 1
}
