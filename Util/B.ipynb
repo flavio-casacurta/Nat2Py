{
 "cells": [
  {
   "cell_type": "code",
   "execution_count": 1,
   "metadata": {
    "collapsed": true
   },
   "outputs": [],
   "source": [
    "import re\n",
    "opt_pattern_format = \"({})?\""
   ]
  },
  {
   "cell_type": "code",
   "execution_count": 2,
   "metadata": {
    "collapsed": true
   },
   "outputs": [],
   "source": [
    "row_pattern_multper = r\"\"\"^(?P<multper>[ MP])\"\"\""
   ]
  },
  {
   "cell_type": "code",
   "execution_count": 3,
   "metadata": {
    "collapsed": true
   },
   "outputs": [],
   "source": [
    "row_pattern_level_names = r\"\"\"(?P<level>\\d)(?P<shortname>\\S{2})(?P<longname>\\S+)\\s+\"\"\""
   ]
  },
  {
   "cell_type": "code",
   "execution_count": 4,
   "metadata": {
    "collapsed": true
   },
   "outputs": [],
   "source": [
    "row_pattern_attribute = r\"\"\"(?P<type>[ABCDFILNPT])?(?P<length>\\d{3})(?P<scale>\\d)\"\"\""
   ]
  },
  {
   "cell_type": "code",
   "execution_count": 5,
   "metadata": {
    "collapsed": true
   },
   "outputs": [],
   "source": [
    "row_pattern_null = r\"\"\"(?P<null>[NF])\"\"\"\n",
    "row_pattern_descsub = r\"\"\"(?P<descsub>[DS])\"\"\""
   ]
  },
  {
   "cell_type": "code",
   "execution_count": 6,
   "metadata": {
    "collapsed": false
   },
   "outputs": [],
   "source": [
    "row_pattern_ddm_mfm = re.compile(row_pattern_multper +\n",
    "                                 row_pattern_level_names +\n",
    "                                 opt_pattern_format.format(row_pattern_attribute) +\n",
    "                                 opt_pattern_format.format(row_pattern_null) +\n",
    "                                 opt_pattern_format.format(row_pattern_descsub))"
   ]
  },
  {
   "cell_type": "code",
   "execution_count": 7,
   "metadata": {
    "collapsed": true
   },
   "outputs": [],
   "source": [
    "line = \"\"\" 1ABCAMPO-ALFA                      A0780ND\"\"\"\n",
    "#line = \"\"\"M1AICAMPO-MULTIPLO                  N0030N\"\"\"\n",
    "#line = \"\"\"P1AJGP-SEM-MULTIPLO                  0000\"\"\""
   ]
  },
  {
   "cell_type": "code",
   "execution_count": 8,
   "metadata": {
    "collapsed": false
   },
   "outputs": [
    {
     "data": {
      "text/plain": [
       "{'descsub': 'D',\n",
       " 'length': '078',\n",
       " 'level': '1',\n",
       " 'longname': 'CAMPO-ALFA',\n",
       " 'multper': ' ',\n",
       " 'null': 'N',\n",
       " 'scale': '0',\n",
       " 'shortname': 'AB',\n",
       " 'type': 'A'}"
      ]
     },
     "execution_count": 8,
     "metadata": {},
     "output_type": "execute_result"
    }
   ],
   "source": [
    "match = row_pattern_ddm_mfm.match(line)\n",
    "match.groupdict()"
   ]
  }
 ],
 "metadata": {
  "kernelspec": {
   "display_name": "Python 2",
   "language": "python",
   "name": "python2"
  },
  "language_info": {
   "codemirror_mode": {
    "name": "ipython",
    "version": 2
   },
   "file_extension": ".py",
   "mimetype": "text/x-python",
   "name": "python",
   "nbconvert_exporter": "python",
   "pygments_lexer": "ipython2",
   "version": "2.7.12"
  }
 },
 "nbformat": 4,
 "nbformat_minor": 1
}
