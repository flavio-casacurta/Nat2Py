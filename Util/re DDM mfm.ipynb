{
 "cells": [
  {
   "cell_type": "code",
   "execution_count": 1,
   "metadata": {
    "collapsed": true
   },
   "outputs": [],
   "source": [
    "import re\n",
    "opt_pattern_format = \"({})?\""
   ]
  },
  {
   "cell_type": "code",
   "execution_count": 2,
   "metadata": {
    "collapsed": true
   },
   "outputs": [],
   "source": [
    "row_pattern_mfm_multpergroup = r\"\"\"^(?P<multpergroup>[ GMP])\"\"\"                           \n",
    "row_pattern_mfm_level_names = r\"\"\"(?P<level>\\d)(?P<shortname>\\S{2})(?P<longname>\\S+)\\s+\"\"\"\n",
    "row_pattern_mfm_typelength = r\"\"\"(?P<type>[ABCDFILNPT])?(?P<length>\\d{3})(?P<scale>\\d)\"\"\" \n",
    "row_pattern_mfm_null = r\"\"\"(?P<null>[NF])\"\"\"                                              \n",
    "row_pattern_mfm_descsub = r\"\"\"(?P<descsub>[DS])\"\"\"                                        "
   ]
  },
  {
   "cell_type": "code",
   "execution_count": 3,
   "metadata": {
    "collapsed": false
   },
   "outputs": [],
   "source": [
    "row_pattern_mfm_ddm = re.compile(row_pattern_mfm_multpergroup +                         \n",
    "                                 row_pattern_mfm_level_names +                          \n",
    "                                 opt_pattern_format.format(row_pattern_mfm_typelength) +\n",
    "                                 opt_pattern_format.format(row_pattern_mfm_null) +      \n",
    "                                 opt_pattern_format.format(row_pattern_mfm_descsub))    "
   ]
  },
  {
   "cell_type": "code",
   "execution_count": 4,
   "metadata": {
    "collapsed": true
   },
   "outputs": [],
   "source": [
    "line = \"\"\" 1ABCAMPO-ALFA                      A0780ND\"\"\"\n",
    "#line = \"\"\"M1AICAMPO-MULTIPLO                  N0030N\"\"\"\n",
    "#line = \"\"\"P1AJGP-SEM-MULTIPLO                  0000\"\"\""
   ]
  },
  {
   "cell_type": "code",
   "execution_count": 5,
   "metadata": {
    "collapsed": false
   },
   "outputs": [
    {
     "data": {
      "text/plain": [
       "{'descsub': 'D',\n",
       " 'length': '078',\n",
       " 'level': '1',\n",
       " 'longname': 'CAMPO-ALFA',\n",
       " 'multpergroup': ' ',\n",
       " 'null': 'N',\n",
       " 'scale': '0',\n",
       " 'shortname': 'AB',\n",
       " 'type': 'A'}"
      ]
     },
     "execution_count": 5,
     "metadata": {},
     "output_type": "execute_result"
    }
   ],
   "source": [
    "match = row_pattern_mfm_ddm.match(line)\n",
    "match.groupdict()"
   ]
  }
 ],
 "metadata": {
  "kernelspec": {
   "display_name": "Python 2",
   "language": "python",
   "name": "python2"
  },
  "language_info": {
   "codemirror_mode": {
    "name": "ipython",
    "version": 2
   },
   "file_extension": ".py",
   "mimetype": "text/x-python",
   "name": "python",
   "nbconvert_exporter": "python",
   "pygments_lexer": "ipython2",
   "version": "2.7.12"
  }
 },
 "nbformat": 4,
 "nbformat_minor": 1
}
