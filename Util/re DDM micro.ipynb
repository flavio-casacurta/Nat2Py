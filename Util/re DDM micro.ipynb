{
 "cells": [
  {
   "cell_type": "code",
   "execution_count": 1,
   "metadata": {
    "collapsed": true
   },
   "outputs": [],
   "source": [
    "import re\n",
    "opt_pattern_format = \"({})?\""
   ]
  },
  {
   "cell_type": "code",
   "execution_count": 2,
   "metadata": {
    "collapsed": true
   },
   "outputs": [],
   "source": [
    "row_pattern_mic_multper = r\"\"\"^(?P<multper>[ GMP])\"\"\""
   ]
  },
  {
   "cell_type": "code",
   "execution_count": 44,
   "metadata": {
    "collapsed": true
   },
   "outputs": [],
   "source": [
    "row_pattern_mic_level_names = r\"\"\"\\s+(?P<level>\\d)\\s(?P<shortname>\\S{2})\\s+(?P<longname>\\S+)\\s+\"\"\""
   ]
  },
  {
   "cell_type": "code",
   "execution_count": 80,
   "metadata": {
    "collapsed": true
   },
   "outputs": [],
   "source": [
    "row_pattern_mic_typelength = r\"\"\"(?P<type>[ABCDFILNPT])\\s+(?P<length>\\d+)\"\"\"\n",
    "row_pattern_mic_scale = \"\"\"\\.(?P<scale>\\d)\\s+\"\"\""
   ]
  },
  {
   "cell_type": "code",
   "execution_count": null,
   "metadata": {
    "collapsed": true
   },
   "outputs": [],
   "source": [
    "row_pattern_mic_null = r\"\"\"(?P<null>[NF])\"\"\"\n",
    "row_pattern_mic_descsub = r\"\"\"(?P<descsub>[DS])\"\"\""
   ]
  },
  {
   "cell_type": "code",
   "execution_count": 81,
   "metadata": {
    "collapsed": false
   },
   "outputs": [],
   "source": [
    "row_pattern_ddm_mic = re.compile(row_pattern_mic_multper +\n",
    "                                 row_pattern_mic_level_names +\n",
    "                                 opt_pattern_format.format(row_pattern_mic_typelength) +\n",
    "                                 opt_pattern_format.format(row_pattern_mic_scale))\n",
    "                                 #+\n",
    "                                 #opt_pattern_format.format(row_pattern_mic_null) +\n",
    "                                 #opt_pattern_format.format(row_pattern_mic_descsub))"
   ]
  },
  {
   "cell_type": "code",
   "execution_count": 82,
   "metadata": {
    "collapsed": true
   },
   "outputs": [],
   "source": [
    "line = '  1 AA PERSONNEL-ID                      A    8.2    D        HD=PERSONNEL/ID'\n",
    "#line = \"\"\"P1AJGP-SEM-MULTIPLO                  0000\"\"\""
   ]
  },
  {
   "cell_type": "code",
   "execution_count": 83,
   "metadata": {
    "collapsed": false
   },
   "outputs": [
    {
     "data": {
      "text/plain": [
       "{'length': '8',\n",
       " 'level': '1',\n",
       " 'longname': 'PERSONNEL-ID',\n",
       " 'multper': ' ',\n",
       " 'scale': '2',\n",
       " 'shortname': 'AA',\n",
       " 'type': 'A'}"
      ]
     },
     "execution_count": 83,
     "metadata": {},
     "output_type": "execute_result"
    }
   ],
   "source": [
    "match = row_pattern_ddm_mic.match(line)\n",
    "match.groupdict()"
   ]
  },
  {
   "cell_type": "code",
   "execution_count": null,
   "metadata": {
    "collapsed": true
   },
   "outputs": [],
   "source": []
  },
  {
   "cell_type": "code",
   "execution_count": null,
   "metadata": {
    "collapsed": true
   },
   "outputs": [],
   "source": []
  }
 ],
 "metadata": {
  "kernelspec": {
   "display_name": "Python 2",
   "language": "python",
   "name": "python2"
  },
  "language_info": {
   "codemirror_mode": {
    "name": "ipython",
    "version": 2
   },
   "file_extension": ".py",
   "mimetype": "text/x-python",
   "name": "python",
   "nbconvert_exporter": "python",
   "pygments_lexer": "ipython2",
   "version": "2.7.12"
  }
 },
 "nbformat": 4,
 "nbformat_minor": 1
}
