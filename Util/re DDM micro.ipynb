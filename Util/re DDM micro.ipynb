{
 "cells": [
  {
   "cell_type": "code",
   "execution_count": 19,
   "metadata": {
    "collapsed": true
   },
   "outputs": [],
   "source": [
    "import re\n",
    "opt_pattern_format = \"({})?\"\n",
    "row_pattern_mic_multpergroup = r\"\"\"^(?P<multpergroup>[ GMP])\"\"\"\n",
    "row_pattern_mic_level_names = r\"\"\"\\s+(?P<level>\\d)\\s(?P<shortname>\\S{2})\\s+(?P<longname>\\S+)\\s+\"\"\"\n",
    "row_pattern_mic_typelength = r\"\"\"(?P<type>[ABCDFILNPT])\\s+(?P<length>\\d+)\"\"\"\n",
    "row_pattern_mic_scale = \"\"\"\\.(?P<scale>\\d)\"\"\"\n",
    "row_pattern_mic_null = r\"\"\"\\s{2}(?P<null>[ NF])\"\"\"\n",
    "row_pattern_mic_descsub = r\"\"\"\\s(?P<descsub>[DS])\"\"\"\n",
    "row_pattern_mic_header = r\"\"\"\\s+HD=(?P<header>\\S+)\"\"\"\n",
    "row_pattern_mic_editmask = r\"\"\"\\s+EM=(?P<editmask>\\S+)\"\"\""
   ]
  },
  {
   "cell_type": "code",
   "execution_count": 20,
   "metadata": {
    "collapsed": false
   },
   "outputs": [],
   "source": [
    "row_pattern_ddm_mic = re.compile(row_pattern_mic_multper +\n",
    "                                 row_pattern_mic_level_names +\n",
    "                                 opt_pattern_format.format(row_pattern_mic_typelength) +\n",
    "                                 opt_pattern_format.format(row_pattern_mic_scale) +\n",
    "                                 opt_pattern_format.format(row_pattern_mic_null) +   \n",
    "                                 opt_pattern_format.format(row_pattern_mic_descsub) +\n",
    "                                 opt_pattern_format.format(row_pattern_mic_header) +\n",
    "                                 opt_pattern_format.format(row_pattern_mic_editmask))"
   ]
  },
  {
   "cell_type": "code",
   "execution_count": 21,
   "metadata": {
    "collapsed": true
   },
   "outputs": [],
   "source": [
    "#line = '  1 AA PERSONNEL-ID                      A  8.2    D        HD=PERSONNEL/ID'\n",
    "line = '  1 AH BIRTH                             D    6    D        HD=DATE/OF/BIRTH        EM=YYYY-MM-DD'"
   ]
  },
  {
   "cell_type": "code",
   "execution_count": 22,
   "metadata": {
    "collapsed": false
   },
   "outputs": [
    {
     "data": {
      "text/plain": [
       "{'descsub': 'D',\n",
       " 'editmask': 'YYYY-MM-DD',\n",
       " 'header': 'DATE/OF/BIRTH',\n",
       " 'length': '6',\n",
       " 'level': '1',\n",
       " 'longname': 'BIRTH',\n",
       " 'multper': ' ',\n",
       " 'null': ' ',\n",
       " 'scale': None,\n",
       " 'shortname': 'AH',\n",
       " 'type': 'D'}"
      ]
     },
     "execution_count": 22,
     "metadata": {},
     "output_type": "execute_result"
    }
   ],
   "source": [
    "match = row_pattern_ddm_mic.match(line)\n",
    "match.groupdict()"
   ]
  },
  {
   "cell_type": "code",
   "execution_count": null,
   "metadata": {
    "collapsed": true
   },
   "outputs": [],
   "source": []
  }
 ],
 "metadata": {
  "kernelspec": {
   "display_name": "Python 2",
   "language": "python",
   "name": "python2"
  },
  "language_info": {
   "codemirror_mode": {
    "name": "ipython",
    "version": 2
   },
   "file_extension": ".py",
   "mimetype": "text/x-python",
   "name": "python",
   "nbconvert_exporter": "python",
   "pygments_lexer": "ipython2",
   "version": "2.7.12"
  }
 },
 "nbformat": 4,
 "nbformat_minor": 1
}
