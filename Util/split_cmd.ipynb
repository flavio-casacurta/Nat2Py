{
 "cells": [
  {
   "cell_type": "code",
   "execution_count": 2,
   "metadata": {
    "collapsed": true
   },
   "outputs": [],
   "source": [
    "from warehouse import LINEFEED\n",
    "from HOFs import *"
   ]
  },
  {
   "cell_type": "code",
   "execution_count": 37,
   "metadata": {
    "collapsed": true
   },
   "outputs": [],
   "source": [
    "lines = [\"\"\"   IF *PF-KEY                       EQ   'PF3' OR= 'PF15' OR= 'PF17'\"\"\"]"
   ]
  },
  {
   "cell_type": "code",
   "execution_count": 55,
   "metadata": {
    "collapsed": true
   },
   "outputs": [],
   "source": [
    "line = \"\"\"   IF *PF-KEY                       EQ   'PF3' OR= 'PF15' OR= 'PF17'\"\"\""
   ]
  },
  {
   "cell_type": "code",
   "execution_count": 74,
   "metadata": {
    "collapsed": false
   },
   "outputs": [
    {
     "data": {
      "text/plain": [
       "\"OR= 'PF17'\""
      ]
     },
     "execution_count": 74,
     "metadata": {},
     "output_type": "execute_result"
    }
   ],
   "source": [
    "wrd1 = 'OR='\n",
    "lw = len(wrd1)\n",
    "idx = line[lw:].index(wrd1)+2\n",
    "wrd1 + ' ' + line[lw:idx]\n",
    "ll = len(wrd1 + ' ' + line[lw:idx])\n",
    "line[ll:]"
   ]
  },
  {
   "cell_type": "code",
   "execution_count": 57,
   "metadata": {
    "collapsed": false
   },
   "outputs": [
    {
     "data": {
      "text/plain": [
       "'OR='"
      ]
     },
     "execution_count": 57,
     "metadata": {},
     "output_type": "execute_result"
    }
   ],
   "source": [
    "wrd1 = word(line, 1)\n",
    "wrd1"
   ]
  },
  {
   "cell_type": "code",
   "execution_count": 35,
   "metadata": {
    "collapsed": false
   },
   "outputs": [],
   "source": [
    "    for line in lines:\n",
    "        wrd = words(line)\n",
    "        for w in xrange(1, wrd[0]):\n",
    "            if wrd[1][w] in LINEFEED:\n",
    "                joinLines.append(wrd[1][w] + ' ' + line[len(wrd[1][w]):]line.index(wrd[1][w])])\n",
    "                line = line[line.index(wrd[1][w]):]\n",
    "        joinLines.append(line)\n"
   ]
  },
  {
   "cell_type": "code",
   "execution_count": 36,
   "metadata": {
    "collapsed": false
   },
   "outputs": [
    {
     "data": {
      "text/plain": [
       "[\"OR= IF *PF-KEY                       EQ   'PF3' \",\n",
       " 'OR= ',\n",
       " \"OR= 'PF15' OR= 'PF17'\"]"
      ]
     },
     "execution_count": 36,
     "metadata": {},
     "output_type": "execute_result"
    }
   ],
   "source": [
    "joinLines"
   ]
  },
  {
   "cell_type": "code",
   "execution_count": null,
   "metadata": {
    "collapsed": true
   },
   "outputs": [],
   "source": []
  }
 ],
 "metadata": {
  "kernelspec": {
   "display_name": "Python 2",
   "language": "python",
   "name": "python2"
  },
  "language_info": {
   "codemirror_mode": {
    "name": "ipython",
    "version": 2
   },
   "file_extension": ".py",
   "mimetype": "text/x-python",
   "name": "python",
   "nbconvert_exporter": "python",
   "pygments_lexer": "ipython2",
   "version": "2.7.12"
  }
 },
 "nbformat": 4,
 "nbformat_minor": 1
}
