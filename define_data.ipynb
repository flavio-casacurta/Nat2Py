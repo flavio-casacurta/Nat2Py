{
 "cells": [
  {
   "cell_type": "code",
   "execution_count": 2,
   "metadata": {
    "collapsed": false,
    "scrolled": false
   },
   "outputs": [],
   "source": [
    "from Util.HOFs import *\n",
    "from Util.DataPatterns import *\n",
    "lines = open(r'C:\\Natural\\POC\\Originais\\POC.XXX.ALTERACAO.TXT').readlines()\n",
    "clearLines =  map(l472, filter(isNotRem, lines))\n",
    "#clearLines"
   ]
  },
  {
   "cell_type": "code",
   "execution_count": 4,
   "metadata": {
    "collapsed": false
   },
   "outputs": [
    {
     "name": "stdout",
     "output_type": "stream",
     "text": [
      "0\n",
      "74\n"
     ]
    }
   ],
   "source": [
    "line_dd = clearLines.index(filter(isDefine, clearLines)[0])    \n",
    "line_ed = clearLines.index(filter(isEndDefine, clearLines)[0]) \n",
    "print line_dd\n",
    "print line_ed\n"
   ]
  },
  {
   "cell_type": "code",
   "execution_count": 5,
   "metadata": {
    "collapsed": false
   },
   "outputs": [],
   "source": [
    "lines = clearLines[line_dd + 1:line_ed]"
   ]
  },
  {
   "cell_type": "code",
   "execution_count": 6,
   "metadata": {
    "collapsed": false
   },
   "outputs": [
    {
     "data": {
      "text/plain": [
       "[' GLOBAL USING G11111AA',\n",
       " ' LOCAL USING L11111AA',\n",
       " ' LOCAL',\n",
       " ' 1 #ATR                           (C)',\n",
       " ' 1 #ATR1                          (C/1:5)',\n",
       " ' 1 #ATR2                          (C/1:5,1:5)',\n",
       " ' 1 #ATR3                          (C)',\n",
       " ' 1 #ATR4                          (C)',\n",
       " ' 1 #ATR5                          (C)',\n",
       " ' 1 #ATR6                          (C)',\n",
       " ' 1 #TELA',\n",
       " '  2 #CAMPO-ALFA                    (A78)',\n",
       " '  2 #CAMPO-NUM                     (A20)',\n",
       " '  2 REDEFINE                       #CAMPO-NUM',\n",
       " '    3 FILLER                       1X',\n",
       " '    3 #CAMPO-R-NU-TOT              (N19)',\n",
       " '    3 REDEFINE                     #CAMPO-R-NU-TOT',\n",
       " '      4 #CAMPO-R-NU-DEC            (N17,2)',\n",
       " '  2 #CAMPO-PACK                    (A16)',\n",
       " '  2 REDEFINE                       #CAMPO-PACK',\n",
       " '    3 FILLER                       1X',\n",
       " '    3 #CAMPO-R-PACK-TOT            (N15)',\n",
       " '    3 REDEFINE                     #CAMPO-R-PACK-TOT',\n",
       " '      4 #CAMPO-R-PACK-DEC          (N13,2)',\n",
       " '  2 #CAMPO-BIN                     (A09)',\n",
       " '  2 REDEFINE                       #CAMPO-BIN',\n",
       " '    3 #CAMPO-BIN-N                 (N09)',\n",
       " '  2 #CAMPO-DATA-TELA               (A08)',\n",
       " '  2 REDEFINE                       #CAMPO-DATA-TELA',\n",
       " '    3 #CAMPO-DT-NUM-ANO            (A04)',\n",
       " '    3 #CAMPO-DT-NUM-MES            (A02)',\n",
       " '    3 #CAMPO-DT-NUM-DIA            (A02)',\n",
       " '  2 REDEFINE                       #CAMPO-DATA-TELA',\n",
       " '    3 #CAMPO-DATA-TELA-N           (N08)',\n",
       " '  2 #CAPO-HORA-TELA                (A06)',\n",
       " '  2 REDEFINE                       #CAPO-HORA-TELA',\n",
       " '    3 #COMPO-HORA-HO               (A02)',\n",
       " '    3 #COMPO-HORA-MM               (A02)',\n",
       " '    3 #COMPO-HORA-SS               (A02)',\n",
       " '  2 REDEFINE                       #CAPO-HORA-TELA',\n",
       " '    3 #COMPO-HORA-HO-N             (N06)',\n",
       " '  2 #CAMPO-MULTIPLO                (A03/1:5)',\n",
       " '  2 REDEFINE                     #CAMPO-MULTIPLO',\n",
       " '    3 #CAMPO-MULTIPLO-R            (N03/1:5)',\n",
       " '  2 #CAMPO-PE-1                    (1:5)',\n",
       " '    3 #CAMPO-PE-ALFA               (A10)',\n",
       " '    3 #CAMPO-PE-NUM                (A05)',\n",
       " '    3 REDEFINE                     #CAMPO-PE-NUM',\n",
       " '      4 #CAMPO-PE-NUM-R            (N05)',\n",
       " '  2 #CAMPO-PE-2                    (1:5)',\n",
       " '    3 #CAMPO-PE2-MULTIPLO          (A03/1:5)',\n",
       " '    3 REDEFINE                    #CAMPO-PE2-MULTIPLO',\n",
       " '      4 #CAMPO-PE2-MULTIPLO-R      (N03/1:5)',\n",
       " '    3 #CAMPO-PE2-ALFA              (A10)',\n",
       " '    3 #CAMPO-PE2-NUM               (A05)',\n",
       " '    3 REDEFINE                     #CAMPO-PE2-NUM',\n",
       " '      4 #CAMPO-PE2-NUM-R           (N05)',\n",
       " '  2 #TL-CONFIRMA                   (A01)',\n",
       " ' 1 #IND1                          (N05)',\n",
       " ' 1 #IND2                          (N05)',\n",
       " ' 1 #IND-TL                        (N07)',\n",
       " \" 1 #TL-TX-CONF                    (A13) INIT<'CONFIRMA S/N:'>\",\n",
       " \" 1 #TL-TX-REGISTRO                (A16) INIT<'REGISTRO ISN   :'>\",\n",
       " ' 1 #TL-REGISTRO                   (N08)',\n",
       " \" 1 #TL-TX-DATE                    (A10) INIT<'DATA DATE:'>\",\n",
       " ' 1 #TL-DT-DATE                    (A10)',\n",
       " \" 1 #TL-TX-TIME                    (A10) INIT<'HORA TIME:'>\",\n",
       " ' 1 #TL-HO-TIME                    (A08)',\n",
       " ' 1 #TX-PFS                        (A48)',\n",
       " \"   INIT <'PF8 - AVANCA'>\",\n",
       " ' 1 #CAMPO-RETORNA                 (A78)',\n",
       " ' 1 #TB-RETORNA                    (A78/1:10000)',\n",
       " ' 1 #IND-TB                        (N01)']"
      ]
     },
     "execution_count": 6,
     "metadata": {},
     "output_type": "execute_result"
    }
   ],
   "source": [
    "lines"
   ]
  },
  {
   "cell_type": "code",
   "execution_count": 9,
   "metadata": {
    "collapsed": false
   },
   "outputs": [
    {
     "name": "stdout",
     "output_type": "stream",
     "text": [
      " LOCAL USING L11111AA\n"
     ]
    }
   ],
   "source": [
    "lines = iter(lines)\n",
    "for line in lines:\n",
    "    lines.next()\n",
    "    print line\n",
    "    break\n",
    "    "
   ]
  }
 ],
 "metadata": {
  "kernelspec": {
   "display_name": "Python 2",
   "language": "python",
   "name": "python2"
  },
  "language_info": {
   "codemirror_mode": {
    "name": "ipython",
    "version": 2
   },
   "file_extension": ".py",
   "mimetype": "text/x-python",
   "name": "python",
   "nbconvert_exporter": "python",
   "pygments_lexer": "ipython2",
   "version": "2.7.12"
  }
 },
 "nbformat": 4,
 "nbformat_minor": 1
}
