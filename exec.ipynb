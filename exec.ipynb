{
 "cells": [
  {
   "cell_type": "code",
   "execution_count": null,
   "metadata": {
    "collapsed": false
   },
   "outputs": [],
   "source": [
    "def_lda = '''lda = {'primeiro-campo:'','''\n",
    "field = \" '#ATR':' '\"\n",
    "dda = 'lda'\n",
    "comp = 'def_{} += field'.format(dda)\n",
    "exec compile(comp, '', 'exec')\n",
    "def_lda"
   ]
  },
  {
   "cell_type": "code",
   "execution_count": null,
   "metadata": {
    "collapsed": false
   },
   "outputs": [],
   "source": [
    "import json\n",
    "from Util.warehouse import DDA\n",
    "def_gda = '''gda = {'''\n",
    "references = {}\n",
    "dda = 'GLOBAL'\n",
    "Using = 'g11111aa'\n",
    "using = file(r'Convertidos\\{}.txt'.format(Using)).read()\n",
    "comp = 'def_{} += using'.format(DDA[dda])\n",
    "exec compile(comp, '', 'exec')\n",
    "filejson = file('Convertidos/{}.json'.format(Using)).read()\n",
    "references.update(json.loads(filejson))\n",
    "print def_gda\n",
    "print references\n"
   ]
  },
  {
   "cell_type": "code",
   "execution_count": null,
   "metadata": {
    "collapsed": false
   },
   "outputs": [],
   "source": [
    "references[u'#TAB-TXT-TELA'][u'def']"
   ]
  },
  {
   "cell_type": "code",
   "execution_count": null,
   "metadata": {
    "collapsed": false
   },
   "outputs": [],
   "source": [
    "references[u'#TAB-TXT-TELA'][u'length']"
   ]
  }
 ],
 "metadata": {
  "kernelspec": {
   "display_name": "Python 2",
   "language": "python",
   "name": "python2"
  },
  "language_info": {
   "codemirror_mode": {
    "name": "ipython",
    "version": 2
   },
   "file_extension": ".py",
   "mimetype": "text/x-python",
   "name": "python",
   "nbconvert_exporter": "python",
   "pygments_lexer": "ipython2",
   "version": "2.7.12"
  }
 },
 "nbformat": 4,
 "nbformat_minor": 1
}
