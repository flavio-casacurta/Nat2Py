{
 "cells": [
  {
   "cell_type": "code",
   "execution_count": null,
   "metadata": {
    "collapsed": false
   },
   "outputs": [],
   "source": [
    "def_lda = '''lda = {'''\n",
    "field = \" '#ATR':' '\"\n",
    "dda = 'lda'\n",
    "comp = 'def_{} += field'.format(dda)\n",
    "exec compile(comp, '', 'exec')\n",
    "def_lda"
   ]
  },
  {
   "cell_type": "code",
   "execution_count": null,
   "metadata": {
    "collapsed": false
   },
   "outputs": [],
   "source": [
    "import json\n",
    "from Util.warehouse import DDA\n",
    "def_gda = '''gda = {'''\n",
    "references = {}\n",
    "dda = 'GLOBAL'\n",
    "Using = 'g11111aa'\n",
    "using = file(r'Convertidos\\{}.txt'.format(Using)).read()\n",
    "comp = 'def_{} += using'.format(DDA[dda])\n",
    "exec compile(comp, '', 'exec')\n",
    "filejson = file('Convertidos/{}.json'.format(Using)).read()\n",
    "references.update(json.loads(filejson))\n",
    "print def_gda\n",
    "print references\n"
   ]
  },
  {
   "cell_type": "code",
   "execution_count": null,
   "metadata": {
    "collapsed": false
   },
   "outputs": [],
   "source": [
    "references[u'#TAB-TXT-TELA'][u'def']"
   ]
  },
  {
   "cell_type": "code",
   "execution_count": null,
   "metadata": {
    "collapsed": false
   },
   "outputs": [],
   "source": [
    "references[u'#TAB-TXT-TELA'][u'length']"
   ]
  },
  {
   "cell_type": "code",
   "execution_count": null,
   "metadata": {
    "collapsed": false
   },
   "outputs": [],
   "source": [
    "lda = {'#TELA':{'#CAMPO-ALFA': ' ', '#CAMPO-NUM': 123 }}\n",
    "lda['#TELA']['#CAMPO-NUM']\n"
   ]
  },
  {
   "cell_type": "code",
   "execution_count": null,
   "metadata": {
    "collapsed": false
   },
   "outputs": [],
   "source": [
    "ancestors = ['#TELA']\n",
    "ancestors.append('#CAMPO-ALFA') \n",
    "init = 123\n",
    "lda = eval(\"\"\"'{}'.format(\"['{}']\" * len(ancestors))\"\"\").format(*ancestors)"
   ]
  },
  {
   "cell_type": "code",
   "execution_count": null,
   "metadata": {
    "collapsed": false
   },
   "outputs": [],
   "source": [
    "attrb = eval(\"\"\"'{}'.format(\"['{}': \" * len(ancestors))\"\"\").format(*ancestors)\n",
    "attrb = attrb.replace('[','{').replace(']', '}')\n",
    "attrb\n"
   ]
  },
  {
   "cell_type": "code",
   "execution_count": null,
   "metadata": {
    "collapsed": false
   },
   "outputs": [],
   "source": [
    "ref = eval(\"\"\"'{}'.format(\"['{}']\" * len(ancestors))\"\"\").format(*ancestors)\n",
    "print ref"
   ]
  },
  {
   "cell_type": "code",
   "execution_count": 9,
   "metadata": {
    "collapsed": false
   },
   "outputs": [
    {
     "name": "stdout",
     "output_type": "stream",
     "text": [
      "lda = {'F255':{\n",
      "        'CAMPO-ALFA': '',\n",
      "        'CAMPO-NUMERICO': 0,0,\n",
      "        'CAMPO-PACK': 0.0,\n",
      "        'CAMPO-BINARIO' 0,\n",
      "        'CAMPO-NUMERICO-DATA': 0.0,\n",
      "        'CAMPO-DATE-DATA': date(1, 1, 1),\n",
      "        'CAMPO-NUMERICO-HORA': 0.0,\n",
      "        'CAMPO-TIME-HORA': time(1, 1, 1),\n",
      "        'CAMPO-MULTIPLO': [0],\n",
      "        'GP-SEM-MULTIPLO':{\n",
      "                           'CAMPO-PE-ALFA': [''],\n",
      "                           'CAMPO-PE-NUM': [0],\n",
      "                          }\n",
      "        'GP-COM-MULTIPLO':{\n",
      "                           'CAMPO-PE2-MULTIPLO': [[0]],\n",
      "                           'CAMPO-PE2-ALFA': [''],\n",
      "                           'CAMPO-PE2-NUM': [0]\n",
      "                          }\n",
      "       }\n",
      "\n",
      "{u'CAMPO-NUMERICO-HORA': {u'length': 6, u'scale': 0, u'type': u'N', u'occurs': None, u'def': u\"lda['F255']['CAMPO-NUMERICO-HORA']\"}, u'CAMPO-DATE-DATA': {u'length': 0, u'scale': 0, u'type': u'D', u'occurs': None, u'def': u\"lda['F255']['CAMPO-DATE-DATA']\"}, u'CAMPO-PE2-ALFA': {u'length': 10, u'scale': 0, u'type': u'A', u'occurs': 5, u'def': u\"lda['F255']['GP-COM-MULTIPLO']['CAMPO-PE2-ALFA']\"}, u'F255': {u'length': 0, u'type': None, u'occurs': None, u'def': u\"lda['F255']\"}, u'CAMPO-NUMERICO-DATA': {u'length': 4, u'scale': 0, u'type': u'B', u'occurs': None, u'def': u\"lda['F255']['CAMPO-NUMERICO-DATA']\"}, u'CAMPO-BINARIO': {u'length': 4, u'scale': 0, u'type': u'B', u'occurs': None, u'def': u\"lda['F255']['CAMPO-BINARIO']\"}, u'CAMPO-PE-ALFA': {u'length': 10, u'scale': 0, u'type': u'A', u'occurs': 5, u'def': u\"lda['F255']['GP-SEM-MULTIPLO']['CAMPO-PE-ALFA']\"}, u'CAMPO-PE2-NUM': {u'length': 5, u'scale': 0, u'type': u'N', u'occurs': 5, u'def': u\"lda['F255']['GP-COM-MULTIPLO']['CAMPO-PE2-NUM']\"}, u'CAMPO-MULTIPLO': {u'length': 3, u'scale': 0, u'type': u'N', u'occurs': 5, u'def': u\"lda['F255']['CAMPO-MULTIPLO']\"}, u'GP-SEM-MULTIPLO': {u'length': 0, u'scale': 0, u'type': None, u'occurs': None, u'def': u\"lda['F255']['GP-SEM-MULTIPLO']\"}, u'CAMPO-PE2-MULTIPLO': {u'scale': 0, u'two_dimension': 5, u'length': 3, u'type': u'N', u'occurs': 5, u'def': u\"lda['F255']['GP-COM-MULTIPLO']['CAMPO-PE2-MULTIPLO']\"}, u'CAMPO-TIME-HORA': {u'length': 6, u'scale': 0, u'type': u'N', u'occurs': None, u'def': u\"lda['F255']['CAMPO-TIME-HORA']\"}, u'CAMPO-ALFA': {u'length': 78, u'type': u'A', u'occurs': None, u'def': u\"lda['F255']['CAMPO-ALFA']\"}, u'CAMPO-PE-NUM': {u'length': 5, u'scale': 0, u'type': u'N', u'occurs': 5, u'def': u\"lda['F255']['GP-SEM-MULTIPLO']['CAMPO-PE-NUM']\"}, u'CAMPO-NUMERICO': {u'length': 17, u'scale': 2, u'type': u'A', u'occurs': None, u'def': u\"lda['F255']['CAMPO-NUMERICO']\"}, u'GP-COM-MULTIPLO': {u'length': 0, u'scale': 0, u'type': None, u'occurs': None, u'def': u\"lda['F255']['GP-COM-MULTIPLO']\"}, u'CAMPO-PACK': {u'length': 13, u'scale': 2, u'type': u'A', u'occurs': None, u'def': u\"lda['F255']['CAMPO-PACK']\"}}\n"
     ]
    }
   ],
   "source": [
    "import json\n",
    "from Util.warehouse import DDA\n",
    "def_lda = '''lda = {'''\n",
    "references = {}\n",
    "dda = 'LOCAL'\n",
    "Using = 'L11111AA'\n",
    "using = file(r'Convertidos\\{}.txt'.format(Using)).read()\n",
    "comp = 'def_{} += using'.format(DDA[dda])\n",
    "exec compile(comp, '', 'exec')\n",
    "filejson = file('Convertidos/{}.json'.format(Using)).read()\n",
    "references.update(json.loads(filejson))\n",
    "print def_lda\n",
    "print references"
   ]
  }
 ],
 "metadata": {
  "kernelspec": {
   "display_name": "Python 2",
   "language": "python",
   "name": "python2"
  },
  "language_info": {
   "codemirror_mode": {
    "name": "ipython",
    "version": 2
   },
   "file_extension": ".py",
   "mimetype": "text/x-python",
   "name": "python",
   "nbconvert_exporter": "python",
   "pygments_lexer": "ipython2",
   "version": "2.7.12"
  }
 },
 "nbformat": 4,
 "nbformat_minor": 1
}
