{
 "cells": [
  {
   "cell_type": "code",
   "execution_count": null,
   "metadata": {
    "collapsed": false
   },
   "outputs": [],
   "source": [
    "def_lda = '''lda = {'''\n",
    "field = \" '#ATR':' '\"\n",
    "dda = 'lda'\n",
    "comp = 'def_{} += field'.format(dda)\n",
    "exec compile(comp, '', 'exec')\n",
    "def_lda"
   ]
  },
  {
   "cell_type": "code",
   "execution_count": null,
   "metadata": {
    "collapsed": false
   },
   "outputs": [],
   "source": [
    "import json\n",
    "from Util.warehouse import DDA\n",
    "def_gda = '''gda = {'''\n",
    "references = {}\n",
    "dda = 'GLOBAL'\n",
    "Using = 'g11111aa'\n",
    "using = file(r'Convertidos\\{}.txt'.format(Using)).read()\n",
    "comp = 'def_{} += using'.format(DDA[dda])\n",
    "exec compile(comp, '', 'exec')\n",
    "filejson = file('Convertidos/{}.json'.format(Using)).read()\n",
    "references.update(json.loads(filejson))\n",
    "print def_gda\n",
    "print references\n"
   ]
  },
  {
   "cell_type": "code",
   "execution_count": null,
   "metadata": {
    "collapsed": false
   },
   "outputs": [],
   "source": [
    "references[u'#TAB-TXT-TELA'][u'def']"
   ]
  },
  {
   "cell_type": "code",
   "execution_count": null,
   "metadata": {
    "collapsed": false
   },
   "outputs": [],
   "source": [
    "references[u'#TAB-TXT-TELA'][u'length']"
   ]
  },
  {
   "cell_type": "code",
   "execution_count": 1,
   "metadata": {
    "collapsed": false
   },
   "outputs": [
    {
     "data": {
      "text/plain": [
       "123"
      ]
     },
     "execution_count": 1,
     "metadata": {},
     "output_type": "execute_result"
    }
   ],
   "source": [
    "lda = {'#TELA':{'#CAMPO-ALFA': ' ', '#CAMPO-NUM': 123 }}\n",
    "lda['#TELA']['#CAMPO-NUM']\n"
   ]
  },
  {
   "cell_type": "code",
   "execution_count": 35,
   "metadata": {
    "collapsed": false
   },
   "outputs": [],
   "source": [
    "ancestors = ['#TELA']\n",
    "ancestors.append('#CAMPO-ALFA') \n",
    "init = 123\n",
    "lda = eval(\"\"\"'{}'.format(\"['{}']\" * len(ancestors))\"\"\").format(*ancestors)"
   ]
  },
  {
   "cell_type": "code",
   "execution_count": 38,
   "metadata": {
    "collapsed": false
   },
   "outputs": [
    {
     "data": {
      "text/plain": [
       "\"{'#TELA': {'#CAMPO-ALFA': \""
      ]
     },
     "execution_count": 38,
     "metadata": {},
     "output_type": "execute_result"
    }
   ],
   "source": [
    "attrb = eval(\"\"\"'{}'.format(\"['{}': \" * len(ancestors))\"\"\").format(*ancestors)\n",
    "attrb = attrb.replace('[','{').replace(']', '}')\n",
    "attrb\n"
   ]
  },
  {
   "cell_type": "code",
   "execution_count": 41,
   "metadata": {
    "collapsed": false
   },
   "outputs": [
    {
     "name": "stdout",
     "output_type": "stream",
     "text": [
      "['#TELA']['#CAMPO-ALFA']\n"
     ]
    }
   ],
   "source": [
    "ref = eval(\"\"\"'{}'.format(\"['{}']\" * len(ancestors))\"\"\").format(*ancestors)\n",
    "print ref"
   ]
  }
 ],
 "metadata": {
  "kernelspec": {
   "display_name": "Python 2",
   "language": "python",
   "name": "python2"
  },
  "language_info": {
   "codemirror_mode": {
    "name": "ipython",
    "version": 2
   },
   "file_extension": ".py",
   "mimetype": "text/x-python",
   "name": "python",
   "nbconvert_exporter": "python",
   "pygments_lexer": "ipython2",
   "version": "2.7.12"
  }
 },
 "nbformat": 4,
 "nbformat_minor": 1
}
