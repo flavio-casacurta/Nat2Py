{
 "cells": [
  {
   "cell_type": "code",
   "execution_count": null,
   "metadata": {
    "collapsed": true
   },
   "outputs": [],
   "source": [
    "from Util.HOFs import *\n",
    "from Util.DataPatterns import *\n",
    "from Util.warehouse import DATATYPES_NATURAL"
   ]
  },
  {
   "cell_type": "code",
   "execution_count": null,
   "metadata": {
    "collapsed": false
   },
   "outputs": [],
   "source": [
    "#line = \"\"\"0120 1 #TELA\"\"\"\n",
    "line = \"\"\"0130  2 #CAMPO-ALFA                    (A78)\"\"\"\n",
    "#line = \"\"\"0430  2 #CAMPO-MULTIPLO                (A03/1:5)\"\"\"\n",
    "match = DataPatterns.row_pattern.match(l472(line).lstrip())\n",
    "match = match.groupdict()\n",
    "match\n"
   ]
  },
  {
   "cell_type": "code",
   "execution_count": null,
   "metadata": {
    "collapsed": true
   },
   "outputs": [],
   "source": [
    "ancestors = []\n",
    "def_lda = '''lda = {'''"
   ]
  },
  {
   "cell_type": "code",
   "execution_count": null,
   "metadata": {
    "collapsed": false
   },
   "outputs": [],
   "source": [
    "def set_init(match):\n",
    "    type = None if not match.get('type', None) else match['type']\n",
    "    init = None if not match.get('init', None) else match['init']\n",
    "    if type:\n",
    "        if not init:\n",
    "            init = DATATYPES_NATURAL[type]['init']\n",
    "    else:\n",
    "        init = '{'\n",
    "    return init   "
   ]
  },
  {
   "cell_type": "code",
   "execution_count": null,
   "metadata": {
    "collapsed": false
   },
   "outputs": [],
   "source": [
    "init = None if not match.get('init', None) else match['init']\n",
    "not init"
   ]
  },
  {
   "cell_type": "code",
   "execution_count": null,
   "metadata": {
    "collapsed": true
   },
   "outputs": [],
   "source": [
    "spc = ''"
   ]
  },
  {
   "cell_type": "code",
   "execution_count": null,
   "metadata": {
    "collapsed": false
   },
   "outputs": [],
   "source": [
    "def dictionarize(match, spc):\n",
    "    init = set_init(match)\n",
    "    ac1 = '[' if match['occurs'] else ''\n",
    "    fc1 = ']' if match['occurs'] else ''\n",
    "    ac2 = '[' if match['two_dimension'] else ''\n",
    "    fc2 = ']' if match['two_dimension'] else ''\n",
    "    comma = '' if init == '{' else ','\n",
    "    attrb = \"\"\"{}'{}': {}{}{}{}{}{}\\n\"\"\".format(spc, match['name'], ac1, ac2, init, fc1, fc2, comma)\n",
    "    return attrb, init\n",
    "    "
   ]
  },
  {
   "cell_type": "code",
   "execution_count": null,
   "metadata": {
    "collapsed": false
   },
   "outputs": [],
   "source": [
    "dda = 'lda'\n",
    "attrb, init = dictionarize(match, spc)\n",
    "if init == '{':\n",
    "    spc = ' ' * (len(match['name'])+12)\n",
    "comp = 'def_{} += attrb'.format(dda)\n",
    "exec compile(comp, '', 'exec')  \n",
    "print def_lda"
   ]
  },
  {
   "cell_type": "code",
   "execution_count": null,
   "metadata": {
    "collapsed": false
   },
   "outputs": [],
   "source": [
    "def_lda = '''lda = {'''\n",
    "attrb = \"\"\"'#TELA': {\"\"\"\n",
    "dda = 'lda'\n",
    "comp = 'def_{} += attrb'.format(dda)\n",
    "exec compile(comp, '', 'exec')\n",
    "def_lda"
   ]
  },
  {
   "cell_type": "code",
   "execution_count": null,
   "metadata": {
    "collapsed": true
   },
   "outputs": [],
   "source": [
    "def get_ref(dda, ancestors, match):\n",
    "    ancestors.append(match['name'])\n",
    "    ref = dda + eval(\"\"\"'{}'.format(\"['{}']\" * len(ancestors))\"\"\").format(*ancestors)\n",
    "    return ref"
   ]
  },
  {
   "cell_type": "code",
   "execution_count": null,
   "metadata": {
    "collapsed": false
   },
   "outputs": [],
   "source": [
    "match"
   ]
  },
  {
   "cell_type": "code",
   "execution_count": null,
   "metadata": {
    "collapsed": false
   },
   "outputs": [],
   "source": [
    "dda = 'lda'\n",
    "ancestors = ['#TELA']\n",
    "print get_ref(dda, ancestors, match)\n",
    "ancestors.pop()\n",
    "print ancestors"
   ]
  },
  {
   "cell_type": "code",
   "execution_count": null,
   "metadata": {
    "collapsed": false
   },
   "outputs": [],
   "source": [
    "ancestors = ['#TELA']\n",
    "ancestors.append('#CAMPO-ALFA') \n",
    "ref = eval(\"\"\"'{}'.format(\"['{}']\" * len(ancestors))\"\"\").format(*ancestors)\n"
   ]
  },
  {
   "cell_type": "code",
   "execution_count": null,
   "metadata": {
    "collapsed": false
   },
   "outputs": [],
   "source": [
    "attrb = eval(\"\"\"'{}'.format(\"['{}': \" * len(ancestors))\"\"\").format(*ancestors)\n",
    "attrb = attrb.replace('[','{').replace(']', '}')\n",
    "attrb\n"
   ]
  },
  {
   "cell_type": "code",
   "execution_count": null,
   "metadata": {
    "collapsed": false
   },
   "outputs": [],
   "source": [
    "ref = eval(\"\"\"'{}'.format(\"['{}']\" * len(ancestors))\"\"\").format(*ancestors)\n",
    "print ref"
   ]
  },
  {
   "cell_type": "code",
   "execution_count": null,
   "metadata": {
    "collapsed": false
   },
   "outputs": [],
   "source": [
    "lda = {'#TELA': {\n",
    "                 '#CAMPO-ALFA': '',\n",
    "                 '#CAMPO-MULTIPLO': ['CM1', 'CM2', 'CM3', '', 'CM5'],\n",
    "                }   \n",
    "       }\n",
    "print lda['#TELA']['#CAMPO-MULTIPLO']\n",
    "print lda['#TELA']['#CAMPO-MULTIPLO'][2]"
   ]
  },
  {
   "cell_type": "code",
   "execution_count": null,
   "metadata": {
    "collapsed": false
   },
   "outputs": [],
   "source": [
    "line = 'LOCAL using fffff'\n",
    "words(line)\n",
    "words(line)[1][2]"
   ]
  },
  {
   "cell_type": "code",
   "execution_count": 1,
   "metadata": {
    "collapsed": false
   },
   "outputs": [
    {
     "data": {
      "text/plain": [
       "{'#ATR': '',\n",
       " '#TELA': {'#CAMPO-ALFA': '',\n",
       "  '#CAMPO-NUM': '',\n",
       "  '#CAMPO-NUM-R': {'#CAMPO-R-NU-TOT': 0,\n",
       "   '#CAMPO-R-NU-TOT-R': {'#CAMPO-R-NU-DEC': 0.0},\n",
       "   'FILLER_01': ''},\n",
       "  '#CAMPO-PACK': '',\n",
       "  '#CAMPO-PACK-R': {'#CAMPO-R-PACK-TOT': 0,\n",
       "   '#CAMPO-R-PACK-TOT-R': {'#CAMPO-R-PACK-DEC': 0.0},\n",
       "   'FILLER_02': ''}}}"
      ]
     },
     "execution_count": 1,
     "metadata": {},
     "output_type": "execute_result"
    }
   ],
   "source": [
    "from Convertidos.pgmteste import lda\n",
    "lda\n"
   ]
  }
 ],
 "metadata": {
  "kernelspec": {
   "display_name": "Python 2",
   "language": "python",
   "name": "python2"
  },
  "language_info": {
   "codemirror_mode": {
    "name": "ipython",
    "version": 2
   },
   "file_extension": ".py",
   "mimetype": "text/x-python",
   "name": "python",
   "nbconvert_exporter": "python",
   "pygments_lexer": "ipython2",
   "version": "2.7.12"
  }
 },
 "nbformat": 4,
 "nbformat_minor": 1
}
