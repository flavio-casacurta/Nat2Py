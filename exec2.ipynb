{
 "cells": [
  {
   "cell_type": "code",
   "execution_count": null,
   "metadata": {
    "collapsed": true
   },
   "outputs": [],
   "source": [
    "from Util.HOFs import *\n",
    "from Util.DataPatterns import *\n",
    "from Util.warehouse import DATATYPES_NATURAL"
   ]
  },
  {
   "cell_type": "code",
   "execution_count": null,
   "metadata": {
    "collapsed": false
   },
   "outputs": [],
   "source": [
    "#line = \"\"\"0120 1 #TELA\"\"\"\n",
    "line = \"\"\"0130  2 #CAMPO-ALFA                    (A78)\"\"\"\n",
    "#line = \"\"\"0430  2 #CAMPO-MULTIPLO                (A03/1:5)\"\"\"\n",
    "match = DataPatterns.row_pattern.match(l472(line).lstrip())\n",
    "match = match.groupdict()\n",
    "match\n"
   ]
  },
  {
   "cell_type": "code",
   "execution_count": null,
   "metadata": {
    "collapsed": true
   },
   "outputs": [],
   "source": [
    "ancestors = []\n",
    "def_lda = '''lda = {'''"
   ]
  },
  {
   "cell_type": "code",
   "execution_count": null,
   "metadata": {
    "collapsed": false
   },
   "outputs": [],
   "source": [
    "def set_init(match):\n",
    "    type = None if not match.get('type', None) else match['type']\n",
    "    init = None if not match.get('init', None) else match['init']\n",
    "    if type:\n",
    "        if not init:\n",
    "            init = DATATYPES_NATURAL[type]['init']\n",
    "    else:\n",
    "        init = '{'\n",
    "    return init   "
   ]
  },
  {
   "cell_type": "code",
   "execution_count": null,
   "metadata": {
    "collapsed": false
   },
   "outputs": [],
   "source": [
    "init = None if not match.get('init', None) else match['init']\n",
    "not init"
   ]
  },
  {
   "cell_type": "code",
   "execution_count": null,
   "metadata": {
    "collapsed": true
   },
   "outputs": [],
   "source": [
    "spc = ''"
   ]
  },
  {
   "cell_type": "code",
   "execution_count": null,
   "metadata": {
    "collapsed": false
   },
   "outputs": [],
   "source": [
    "def dictionarize(match, spc):\n",
    "    init = set_init(match)\n",
    "    ac1 = '[' if match['occurs'] else ''\n",
    "    fc1 = ']' if match['occurs'] else ''\n",
    "    ac2 = '[' if match['two_dimension'] else ''\n",
    "    fc2 = ']' if match['two_dimension'] else ''\n",
    "    comma = '' if init == '{' else ','\n",
    "    attrb = \"\"\"{}'{}': {}{}{}{}{}{}\\n\"\"\".format(spc, match['name'], ac1, ac2, init, fc1, fc2, comma)\n",
    "    return attrb, init\n",
    "    "
   ]
  },
  {
   "cell_type": "code",
   "execution_count": null,
   "metadata": {
    "collapsed": false
   },
   "outputs": [],
   "source": [
    "dda = 'lda'\n",
    "attrb, init = dictionarize(match, spc)\n",
    "if init == '{':\n",
    "    spc = ' ' * (len(match['name'])+12)\n",
    "comp = 'def_{} += attrb'.format(dda)\n",
    "exec compile(comp, '', 'exec')  \n",
    "print def_lda"
   ]
  },
  {
   "cell_type": "code",
   "execution_count": null,
   "metadata": {
    "collapsed": false
   },
   "outputs": [],
   "source": [
    "def_lda = '''lda = {'''\n",
    "attrb = \"\"\"'#TELA': {\"\"\"\n",
    "dda = 'lda'\n",
    "comp = 'def_{} += attrb'.format(dda)\n",
    "exec compile(comp, '', 'exec')\n",
    "def_lda"
   ]
  },
  {
   "cell_type": "code",
   "execution_count": null,
   "metadata": {
    "collapsed": true
   },
   "outputs": [],
   "source": [
    "def get_ref(dda, ancestors, match):\n",
    "    ancestors.append(match['name'])\n",
    "    ref = dda + eval(\"\"\"'{}'.format(\"['{}']\" * len(ancestors))\"\"\").format(*ancestors)\n",
    "    return ref"
   ]
  },
  {
   "cell_type": "code",
   "execution_count": null,
   "metadata": {
    "collapsed": false
   },
   "outputs": [],
   "source": [
    "match"
   ]
  },
  {
   "cell_type": "code",
   "execution_count": null,
   "metadata": {
    "collapsed": false
   },
   "outputs": [],
   "source": [
    "dda = 'lda'\n",
    "ancestors = ['#TELA']\n",
    "print get_ref(dda, ancestors, match)\n",
    "ancestors.pop()\n",
    "print ancestors"
   ]
  },
  {
   "cell_type": "code",
   "execution_count": null,
   "metadata": {
    "collapsed": false
   },
   "outputs": [],
   "source": [
    "ancestors = ['#TELA']\n",
    "ancestors.append('#CAMPO-ALFA') \n",
    "ref = eval(\"\"\"'{}'.format(\"['{}']\" * len(ancestors))\"\"\").format(*ancestors)\n"
   ]
  },
  {
   "cell_type": "code",
   "execution_count": null,
   "metadata": {
    "collapsed": false
   },
   "outputs": [],
   "source": [
    "attrb = eval(\"\"\"'{}'.format(\"['{}': \" * len(ancestors))\"\"\").format(*ancestors)\n",
    "attrb = attrb.replace('[','{').replace(']', '}')\n",
    "attrb\n"
   ]
  },
  {
   "cell_type": "code",
   "execution_count": null,
   "metadata": {
    "collapsed": false
   },
   "outputs": [],
   "source": [
    "ref = eval(\"\"\"'{}'.format(\"['{}']\" * len(ancestors))\"\"\").format(*ancestors)\n",
    "print ref"
   ]
  },
  {
   "cell_type": "code",
   "execution_count": null,
   "metadata": {
    "collapsed": false
   },
   "outputs": [],
   "source": [
    "lda = {'#TELA': {\n",
    "                 '#CAMPO-ALFA': '',\n",
    "                 '#CAMPO-MULTIPLO': ['CM1', 'CM2', 'CM3', '', 'CM5'],\n",
    "                }   \n",
    "       }\n",
    "print lda['#TELA']['#CAMPO-MULTIPLO']\n",
    "print lda['#TELA']['#CAMPO-MULTIPLO'][2]"
   ]
  },
  {
   "cell_type": "code",
   "execution_count": null,
   "metadata": {
    "collapsed": false
   },
   "outputs": [],
   "source": [
    "line = 'LOCAL using fffff'\n",
    "words(line)\n",
    "words(line)[1][2]"
   ]
  },
  {
   "cell_type": "code",
   "execution_count": 1,
   "metadata": {
    "collapsed": false
   },
   "outputs": [],
   "source": [
    "from Convertidos.pgmteste import *\n"
   ]
  },
  {
   "cell_type": "code",
   "execution_count": 3,
   "metadata": {
    "collapsed": false
   },
   "outputs": [
    {
     "data": {
      "text/plain": [
       "{'#ATR': '',\n",
       " '#ATR1': [''],\n",
       " '#ATR2': [['']],\n",
       " '#ATR3': '',\n",
       " '#ATR4': '',\n",
       " '#ATR5': '',\n",
       " '#ATR6': '',\n",
       " '#CAMPO-RETORNA': '',\n",
       " '#IND-TB': Decimal('0'),\n",
       " '#IND-TL': Decimal('0'),\n",
       " '#IND1': Decimal('0'),\n",
       " '#IND2': Decimal('0'),\n",
       " '#TB-RETORNA': [''],\n",
       " '#TELA': {'#CAMPO-ALFA': '',\n",
       "  '#CAMPO-BIN': '',\n",
       "  '#CAMPO-BIN-R1': {'#CAMPO-BIN-N': Decimal('0')},\n",
       "  '#CAMPO-DATA-TELA': '',\n",
       "  '#CAMPO-DATA-TELA-R1': {'#CAMPO-DT-NUM-ANO': '',\n",
       "   '#CAMPO-DT-NUM-DIA': '',\n",
       "   '#CAMPO-DT-NUM-MES': ''},\n",
       "  '#CAMPO-DATA-TELA-R2': {'#CAMPO-DATA-TELA-N': Decimal('0')},\n",
       "  '#CAMPO-MULTIPLO': [''],\n",
       "  '#CAMPO-MULTIPLO-R1': {'#CAMPO-MULTIPLO-R': [Decimal('0')]},\n",
       "  '#CAMPO-NUM': '',\n",
       "  '#CAMPO-NUM-R1': {'#CAMPO-R-NU-TOT': Decimal('0'),\n",
       "   '#CAMPO-R-NU-TOT-R1': {'#CAMPO-R-NU-DEC': Decimal('0')},\n",
       "   'FILLER_01': ''},\n",
       "  '#CAMPO-PACK': '',\n",
       "  '#CAMPO-PACK-R1': {'#CAMPO-R-PACK-TOT': Decimal('0'),\n",
       "   '#CAMPO-R-PACK-TOT-R1': {'#CAMPO-R-PACK-DEC': Decimal('0')},\n",
       "   'FILLER_02': ''},\n",
       "  '#CAMPO-PE-1': {'#CAMPO-PE-ALFA': '',\n",
       "   '#CAMPO-PE-NUM': '',\n",
       "   '#CAMPO-PE-NUM-R1': {'#CAMPO-PE-NUM-R': Decimal('0')}},\n",
       "  '#CAMPO-PE-2': {'#CAMPO-PE2-ALFA': '',\n",
       "   '#CAMPO-PE2-MULTIPLO': [''],\n",
       "   '#CAMPO-PE2-MULTIPLO-R1': {'#CAMPO-PE2-MULTIPLO-R': [Decimal('0')]},\n",
       "   '#CAMPO-PE2-NUM': '',\n",
       "   '#CAMPO-PE2-NUM-R1': {'#CAMPO-PE2-NUM-R': Decimal('0')}},\n",
       "  '#CAPO-HORA-TELA': '',\n",
       "  '#CAPO-HORA-TELA-R1': {'#COMPO-HORA-HO': '',\n",
       "   '#COMPO-HORA-MM': '',\n",
       "   '#COMPO-HORA-SS': ''},\n",
       "  '#CAPO-HORA-TELA-R2': {'#COMPO-HORA-HO-N': Decimal('0')},\n",
       "  '#TL-CONFIRMA': ''},\n",
       " '#TL-DT-DATE': '',\n",
       " '#TL-HO-TIME': '',\n",
       " '#TL-REGISTRO': Decimal('0'),\n",
       " '#TL-TX-CONF': 'CONFIRMA S/N:',\n",
       " '#TL-TX-DATE': 'DATA DATE:',\n",
       " '#TL-TX-REGISTRO': 'REGISTRO ISN   :',\n",
       " '#TL-TX-TIME': 'HORA TIME:',\n",
       " '#TX-PFS': 'PF8 - AVANCA',\n",
       " 'F255': {'CAMPO-ALFA': '',\n",
       "  'CAMPO-BINARIO': 0,\n",
       "  'CAMPO-DATE-DATA': datetime.date(1, 1, 1),\n",
       "  'CAMPO-MULTIPLO': [0],\n",
       "  'CAMPO-NUMERICO': 0.0,\n",
       "  'CAMPO-NUMERICO-DATA': 0.0,\n",
       "  'CAMPO-NUMERICO-HORA': 0.0,\n",
       "  'CAMPO-PACK': 0.0,\n",
       "  'CAMPO-TIME-HORA': datetime.time(1, 1, 1),\n",
       "  'GP-COM-MULTIPLO': {'CAMPO-PE2-ALFA': [''],\n",
       "   'CAMPO-PE2-MULTIPLO': [[0]],\n",
       "   'CAMPO-PE2-NUM': [0]},\n",
       "  'GP-SEM-MULTIPLO': {'CAMPO-PE-ALFA': [''], 'CAMPO-PE-NUM': [0]}}}"
      ]
     },
     "execution_count": 3,
     "metadata": {},
     "output_type": "execute_result"
    }
   ],
   "source": [
    "lda\n"
   ]
  },
  {
   "cell_type": "code",
   "execution_count": null,
   "metadata": {
    "collapsed": false
   },
   "outputs": [],
   "source": [
    "from decimal import *\n",
    "getcontext().prec = scale\n",
    "d = Decimal(1)\n",
    "d1 = Decimal(7)\n",
    "d / d1\n"
   ]
  }
 ],
 "metadata": {
  "kernelspec": {
   "display_name": "Python 2",
   "language": "python",
   "name": "python2"
  },
  "language_info": {
   "codemirror_mode": {
    "name": "ipython",
    "version": 2
   },
   "file_extension": ".py",
   "mimetype": "text/x-python",
   "name": "python",
   "nbconvert_exporter": "python",
   "pygments_lexer": "ipython2",
   "version": "2.7.12"
  }
 },
 "nbformat": 4,
 "nbformat_minor": 1
}
