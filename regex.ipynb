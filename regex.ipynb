{
 "cells": [
  {
   "cell_type": "code",
   "execution_count": 1,
   "metadata": {
    "collapsed": false,
    "scrolled": false
   },
   "outputs": [],
   "source": [
    "from Util.HOFs import *\n",
    "from Util.DataPatterns import *\n",
    "from Util.warehouse import DATATYPES_NATURAL"
   ]
  },
  {
   "cell_type": "code",
   "execution_count": null,
   "metadata": {
    "collapsed": false
   },
   "outputs": [],
   "source": [
    "references = {}\n",
    "dda = 'lda'\n",
    "#line = \"\"\"0260 1 #AX-PARAM-VAL-ANT (P13,2) INIT<'CONFIRMA S/N:'>\"\"\"\n",
    "#line = \"\"\"02601 #AX-PARAM-VAL-ANT (P13,2)\"\"\"\n",
    "line = \"\"\"02601 #AX-PARAM-VAL-ANT  \"\"\"\n",
    "match = DataPatterns.row_pattern.match(l472(line).strip())\n",
    "#match.groupdict()\n",
    "mn = match.groups()\n",
    "level1 = [i for i in mn if i]\n",
    "level1"
   ]
  },
  {
   "cell_type": "code",
   "execution_count": null,
   "metadata": {
    "collapsed": false,
    "scrolled": true
   },
   "outputs": [],
   "source": [
    "attrb = {}\n",
    "dicattr = {}                                                                                       \n",
    "dicattr['def'] = \"\"\"{}['{}']\"\"\".format(dda, match['name'])                                         \n",
    "dicattr['type'] = ' ' if not match.get('type', None) else match['type']                            \n",
    "dicattr['length'] = 0 if not match.get('length', 0) else int(match['length'])                      \n",
    "dicattr['scale'] = 0 if not match.get('scale', 0) else int(match['scale'])                         \n",
    "dicattr['occurs'] = 0 if not match.get('occurs', 0) else int(match['occurs'])                      \n",
    "dicattr['two_dimension'] = 0 if not match.get('two_dimension', 0) else int(match['two_dimension']) \n",
    "dicattr['init'] = ' ' if not match.get('init', None) else match['init']                            \n",
    "attrb[match['name']] = dicattr                                                                     \n",
    "\n",
    "print attrb"
   ]
  },
  {
   "cell_type": "code",
   "execution_count": null,
   "metadata": {
    "collapsed": false
   },
   "outputs": [],
   "source": [
    "references.update(attrb)\n",
    "print references"
   ]
  },
  {
   "cell_type": "code",
   "execution_count": null,
   "metadata": {
    "collapsed": false
   },
   "outputs": [],
   "source": [
    "type = None if not match.get('type', None) else match['type']\n",
    "init = None if not match.get('init', None) else match['init']\n",
    "if type and not init:\n",
    "    init = DATATYPES_NATURAL[type]['init']\n",
    "                      \n",
    "\n",
    "print \">\",init,\"<\"\n"
   ]
  },
  {
   "cell_type": "code",
   "execution_count": null,
   "metadata": {
    "collapsed": false
   },
   "outputs": [],
   "source": [
    "line = \"\"\"0050 1 #ATR                           (C)\"\"\"\n",
    "match = DataPatterns.row_pattern.match(l472(line).lstrip())\n",
    "match = match.groupdict()\n",
    "match"
   ]
  },
  {
   "cell_type": "code",
   "execution_count": null,
   "metadata": {
    "collapsed": false
   },
   "outputs": [],
   "source": [
    "line = \"\"\"0060 1 #ATR1                          (C/1:5)\"\"\"\n",
    "match = DataPatterns.row_pattern.match(l472(line).lstrip())\n",
    "match = match.groupdict()\n",
    "match"
   ]
  },
  {
   "cell_type": "code",
   "execution_count": null,
   "metadata": {
    "collapsed": false
   },
   "outputs": [],
   "source": [
    "line = \"\"\"0070 1 #ATR2                          (C/1:5,1:5)\"\"\"\n",
    "match = DataPatterns.row_pattern.match(l472(line).lstrip())\n",
    "match = match.groupdict()\n",
    "match"
   ]
  },
  {
   "cell_type": "code",
   "execution_count": 3,
   "metadata": {
    "collapsed": false
   },
   "outputs": [
    {
     "data": {
      "text/plain": [
       "{'init': \"'PF8 - AVANCA'\",\n",
       " 'length': '48',\n",
       " 'level': '1',\n",
       " 'name': '#TX-PFS',\n",
       " 'occurs': None,\n",
       " 'scale': None,\n",
       " 'two_dimension': None,\n",
       " 'type': 'A'}"
      ]
     },
     "execution_count": 3,
     "metadata": {},
     "output_type": "execute_result"
    }
   ],
   "source": [
    "line = \" 1 #TX-PFS                        (A48) INIT<'PF8 - AVANCA'>\"\n",
    "#match = DataPatterns.row_pattern.match(l472(line).lstrip())\n",
    "match = DataPatterns.row_pattern.match(line.lstrip())\n",
    "match = match.groupdict()\n",
    "match\n"
   ]
  },
  {
   "cell_type": "code",
   "execution_count": null,
   "metadata": {
    "collapsed": false
   },
   "outputs": [],
   "source": [
    "line = \"\"\"07201 #AX-DET-CTT     (A78/1:30)\"\"\"\n",
    "match = DataPatterns.row_pattern.match(l472(line))\n",
    "match = match.groupdict()\n",
    "match"
   ]
  },
  {
   "cell_type": "code",
   "execution_count": null,
   "metadata": {
    "collapsed": false
   },
   "outputs": [],
   "source": [
    "DF = {'#AX-DET-CTT':['str1'\n",
    "                    ,'str2'\n",
    "                    ,'str3']   \n",
    "     ,'#AX-DET-CTU':['stru1'\n",
    "                    ,'stru2'\n",
    "                    ,'stru3']   \n",
    " \n",
    "     }\n",
    "DF['#AX-DET-CTU'][2] = DF['#AX-DET-CTT'][2] \n",
    "DF['#AX-DET-CTT'][2] = 'strr'\n",
    "DF['#AX-DET-CTU'][2]"
   ]
  },
  {
   "cell_type": "code",
   "execution_count": null,
   "metadata": {
    "collapsed": false
   },
   "outputs": [],
   "source": [
    "line = '06201 REDEFINE #AX-PARAM-DT-SAI8'\n",
    "match = DataPatterns.row_pattern_redefine.match(l472(line))\n",
    "match = match.groupdict()\n",
    "match['redefine']"
   ]
  },
  {
   "cell_type": "code",
   "execution_count": null,
   "metadata": {
    "collapsed": false
   },
   "outputs": [],
   "source": [
    "G11111AA = {'#TAB-TXT-TELA': ['TELA DE INCLUSAO DE DADOS',\n",
    "                              'TELA DE CONSULTA DE DADOS' ,\n",
    "                              'TELA DE ALTERACAO DE DADOS',\n",
    "                              'TELA DE EXCLUSAO DE DADOS'\n",
    "                             ]\n",
    "           }                                            \n",
    "G11111AA['#TAB-TXT-TELA'][3]"
   ]
  },
  {
   "cell_type": "code",
   "execution_count": 2,
   "metadata": {
    "collapsed": false,
    "scrolled": true
   },
   "outputs": [
    {
     "data": {
      "text/plain": [
       "{'init': None,\n",
       " 'length': None,\n",
       " 'level': '2',\n",
       " 'name': 'REDEFINE',\n",
       " 'occurs': None,\n",
       " 'scale': None,\n",
       " 'two_dimension': None,\n",
       " 'type': None}"
      ]
     },
     "execution_count": 2,
     "metadata": {},
     "output_type": "execute_result"
    }
   ],
   "source": [
    "#line = \"\"\"0520  2 #CAMPO-PE-2                    (1:5,1:7)\"\"\"\n",
    "line = \"\"\"0150  2 REDEFINE                       #CAMPO-NUM\"\"\"\n",
    "match = DataPatterns.row_pattern.match(l472(line).lstrip())\n",
    "match = match.groupdict()\n",
    "match"
   ]
  },
  {
   "cell_type": "code",
   "execution_count": 5,
   "metadata": {
    "collapsed": false
   },
   "outputs": [
    {
     "data": {
      "text/plain": [
       "{'level': '2', 'name': '#CAMPO-NUM', 'redefine': '#CAMPO-NUM'}"
      ]
     },
     "execution_count": 5,
     "metadata": {},
     "output_type": "execute_result"
    }
   ],
   "source": [
    "line = \"\"\"0150  2 REDEFINE                       #CAMPO-NUM\"\"\"\n",
    "match = DataPatterns.row_pattern_redefine.match(l472(line).lstrip())\n",
    "match = match.groupdict()\n",
    "match['name']=match['redefine']\n",
    "match\n"
   ]
  },
  {
   "cell_type": "code",
   "execution_count": 33,
   "metadata": {
    "collapsed": false,
    "scrolled": true
   },
   "outputs": [
    {
     "name": "stdout",
     "output_type": "stream",
     "text": [
      "<_sre.SRE_Match object at 0x0000000005701F30>\n"
     ]
    },
    {
     "data": {
      "text/plain": [
       "'0160    3 FILLER_01 (A5)'"
      ]
     },
     "execution_count": 33,
     "metadata": {},
     "output_type": "execute_result"
    }
   ],
   "source": [
    "import re\n",
    "line = \"\"\"0160    3 FILLER                       5X\"\"\"\n",
    "filler = 0 \n",
    "filler+=1\n",
    "line = re.sub('FILLER', 'FILLER_{:02}'.format(filler), line)\n",
    "pattern = re.search('(?P<length>\\d+)X', line)\n",
    "print pattern\n",
    "match = pattern.groupdict()\n",
    "sub = ' (A{})'.format(match['length'])\n",
    "line = re.sub('\\s+\\d+X', sub, line)\n",
    "line"
   ]
  }
 ],
 "metadata": {
  "kernelspec": {
   "display_name": "Python 2",
   "language": "python",
   "name": "python2"
  },
  "language_info": {
   "codemirror_mode": {
    "name": "ipython",
    "version": 2
   },
   "file_extension": ".py",
   "mimetype": "text/x-python",
   "name": "python",
   "nbconvert_exporter": "python",
   "pygments_lexer": "ipython2",
   "version": "2.7.12"
  }
 },
 "nbformat": 4,
 "nbformat_minor": 1
}
