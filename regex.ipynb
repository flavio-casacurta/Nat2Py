{
 "cells": [
  {
   "cell_type": "code",
   "execution_count": 1,
   "metadata": {
    "collapsed": false,
    "scrolled": false
   },
   "outputs": [
    {
     "data": {
      "text/plain": [
       "{'init': \"'CONFIRMA S/N:'\",\n",
       " 'length': '13',\n",
       " 'level': '1',\n",
       " 'name': '#AX-PARAM-VAL-ANT',\n",
       " 'occurs': None,\n",
       " 'scale': '2',\n",
       " 'two_dimension': None,\n",
       " 'type': 'P'}"
      ]
     },
     "execution_count": 1,
     "metadata": {},
     "output_type": "execute_result"
    }
   ],
   "source": [
    "from Util.HOFs import *\n",
    "from Util.DataPatterns import *\n",
    "references = {}\n",
    "dda = 'lda'\n",
    "line = \"\"\"02601 #AX-PARAM-VAL-ANT (P13,2) INIT<'CONFIRMA S/N:'>\"\"\"\n",
    "match = DataPatterns.row_pattern.match(l472(line))\n",
    "match = match.groupdict()\n",
    "match "
   ]
  },
  {
   "cell_type": "code",
   "execution_count": 3,
   "metadata": {
    "collapsed": false,
    "scrolled": true
   },
   "outputs": [
    {
     "name": "stdout",
     "output_type": "stream",
     "text": [
      "{'#AX-PARAM-VAL-ANT': {'scale': 2, 'init': \"'CONFIRMA S/N:'\", 'two_dimension': 0, 'length': 13, 'type': 'P', 'occurs': 0, 'def': \"lda['#AX-PARAM-VAL-ANT']\"}}\n"
     ]
    }
   ],
   "source": [
    "attrb = {}\n",
    "dicattr = {}                                                                                       \n",
    "dicattr['def'] = \"\"\"{}['{}']\"\"\".format(dda, match['name'])                                         \n",
    "dicattr['type'] = ' ' if not match.get('type', None) else match['type']                            \n",
    "dicattr['length'] = 0 if not match.get('length', 0) else int(match['length'])                      \n",
    "dicattr['scale'] = 0 if not match.get('scale', 0) else int(match['scale'])                         \n",
    "dicattr['occurs'] = 0 if not match.get('occurs', 0) else int(match['occurs'])                      \n",
    "dicattr['two_dimension'] = 0 if not match.get('two_dimension', 0) else int(match['two_dimension']) \n",
    "dicattr['init'] = ' ' if not match.get('init', None) else match['init']                            \n",
    "attrb[match['name']] = dicattr                                                                     \n",
    "\n",
    "print attrb"
   ]
  },
  {
   "cell_type": "code",
   "execution_count": null,
   "metadata": {
    "collapsed": false
   },
   "outputs": [],
   "source": [
    "references.update(attrb)\n",
    "print references"
   ]
  },
  {
   "cell_type": "code",
   "execution_count": null,
   "metadata": {
    "collapsed": false
   },
   "outputs": [],
   "source": [
    "line = \"\"\"0050 1 #ATR                           (C)\"\"\"\n",
    "match = DataPatterns.row_pattern.match(l472(line).lstrip())\n",
    "match = match.groupdict()\n",
    "match"
   ]
  },
  {
   "cell_type": "code",
   "execution_count": null,
   "metadata": {
    "collapsed": false
   },
   "outputs": [],
   "source": [
    "line = \"\"\"0060 1 #ATR1                          (C/1:5)\"\"\"\n",
    "match = DataPatterns.row_pattern.match(l472(line).lstrip())\n",
    "match = match.groupdict()\n",
    "match"
   ]
  },
  {
   "cell_type": "code",
   "execution_count": null,
   "metadata": {
    "collapsed": false
   },
   "outputs": [],
   "source": [
    "line = \"\"\"0070 1 #ATR2                          (C/1:5,1:5)\"\"\"\n",
    "match = DataPatterns.row_pattern.match(l472(line).lstrip())\n",
    "match = match.groupdict()\n",
    "match"
   ]
  },
  {
   "cell_type": "code",
   "execution_count": null,
   "metadata": {
    "collapsed": false
   },
   "outputs": [],
   "source": [
    "line = \"\"\"0650 1 #TL-TX-CONF                    (A13) INIT<'CONFIRMA S/N:'>\"\"\"\n",
    "match = DataPatterns.row_pattern.match(l472(line).lstrip())\n",
    "match = match.groupdict()\n",
    "match\n"
   ]
  },
  {
   "cell_type": "code",
   "execution_count": null,
   "metadata": {
    "collapsed": false
   },
   "outputs": [],
   "source": [
    "from Util.warehouse import CONSTANTES_FIGURATIVAS as CF\n",
    "CF\n"
   ]
  },
  {
   "cell_type": "code",
   "execution_count": null,
   "metadata": {
    "collapsed": false
   },
   "outputs": [],
   "source": [
    "line = \"\"\"07201 #AX-DET-CTT     (A78/1:30)\"\"\"\n",
    "match = DataPatterns.row_pattern.match(l472(line))\n",
    "match = match.groupdict()\n",
    "match"
   ]
  },
  {
   "cell_type": "code",
   "execution_count": null,
   "metadata": {
    "collapsed": false
   },
   "outputs": [],
   "source": [
    "DF = {'#AX-DET-CTT':['str1'\n",
    "                    ,'str2'\n",
    "                    ,'str3']   \n",
    "     ,'#AX-DET-CTU':['stru1'\n",
    "                    ,'stru2'\n",
    "                    ,'stru3']   \n",
    " \n",
    "     }\n",
    "DF['#AX-DET-CTU'][2] = DF['#AX-DET-CTT'][2] \n",
    "DF['#AX-DET-CTT'][2] = 'strr'\n",
    "DF['#AX-DET-CTU'][2]"
   ]
  },
  {
   "cell_type": "code",
   "execution_count": null,
   "metadata": {
    "collapsed": false
   },
   "outputs": [],
   "source": [
    "line = '06201 REDEFINE #AX-PARAM-DT-SAI8'\n",
    "match = DataPatterns.row_pattern_redefine.match(l472(line))\n",
    "match = match.groupdict()\n",
    "match['redefine']"
   ]
  },
  {
   "cell_type": "code",
   "execution_count": null,
   "metadata": {
    "collapsed": false
   },
   "outputs": [],
   "source": [
    "G11111AA = {'#TAB-TXT-TELA': ['TELA DE INCLUSAO DE DADOS',\n",
    "                              'TELA DE CONSULTA DE DADOS' ,\n",
    "                              'TELA DE ALTERACAO DE DADOS',\n",
    "                              'TELA DE EXCLUSAO DE DADOS'\n",
    "                             ]\n",
    "           }                                            \n",
    "G11111AA['#TAB-TXT-TELA'][3]"
   ]
  }
 ],
 "metadata": {
  "kernelspec": {
   "display_name": "Python 2",
   "language": "python",
   "name": "python2"
  },
  "language_info": {
   "codemirror_mode": {
    "name": "ipython",
    "version": 2
   },
   "file_extension": ".py",
   "mimetype": "text/x-python",
   "name": "python",
   "nbconvert_exporter": "python",
   "pygments_lexer": "ipython2",
   "version": "2.7.12"
  }
 },
 "nbformat": 4,
 "nbformat_minor": 1
}
